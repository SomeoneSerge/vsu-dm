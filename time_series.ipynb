{
 "cells": [
  {
   "cell_type": "code",
   "execution_count": 1,
   "metadata": {
    "collapsed": true
   },
   "outputs": [],
   "source": [
    "import pandas as pd\n",
    "from pandas_datareader import data, wb\n",
    "from datetime import datetime\n",
    "import numpy as np\n",
    "import graphviz\n",
    "import sys\n",
    "import os"
   ]
  },
  {
   "cell_type": "code",
   "execution_count": 2,
   "metadata": {
    "collapsed": true
   },
   "outputs": [],
   "source": [
    "if not os.path.exists('GOOG.csv'):\n",
    "    df = data.DataReader('GOOG', 'yahoo', datetime(2010, 1, 1), datetime(2017, 11, 1))\n",
    "    df.to_csv('GOOG.csv')\n",
    "else:\n",
    "    df = pd.read_csv('GOOG.csv')"
   ]
  },
  {
   "cell_type": "code",
   "execution_count": 3,
   "metadata": {},
   "outputs": [
    {
     "data": {
      "text/html": [
       "<div>\n",
       "<table border=\"1\" class=\"dataframe\">\n",
       "  <thead>\n",
       "    <tr style=\"text-align: right;\">\n",
       "      <th></th>\n",
       "      <th>Date</th>\n",
       "      <th>Open</th>\n",
       "      <th>High</th>\n",
       "      <th>Low</th>\n",
       "      <th>Close</th>\n",
       "      <th>Adj Close</th>\n",
       "      <th>Volume</th>\n",
       "    </tr>\n",
       "  </thead>\n",
       "  <tbody>\n",
       "    <tr>\n",
       "      <th>0</th>\n",
       "      <td>2010-01-04</td>\n",
       "      <td>311.449310</td>\n",
       "      <td>312.721039</td>\n",
       "      <td>310.103088</td>\n",
       "      <td>311.349976</td>\n",
       "      <td>311.349976</td>\n",
       "      <td>3937800</td>\n",
       "    </tr>\n",
       "    <tr>\n",
       "      <th>1</th>\n",
       "      <td>2010-01-05</td>\n",
       "      <td>311.563568</td>\n",
       "      <td>311.891449</td>\n",
       "      <td>308.761810</td>\n",
       "      <td>309.978882</td>\n",
       "      <td>309.978882</td>\n",
       "      <td>6048500</td>\n",
       "    </tr>\n",
       "    <tr>\n",
       "      <th>2</th>\n",
       "      <td>2010-01-06</td>\n",
       "      <td>310.907837</td>\n",
       "      <td>310.907837</td>\n",
       "      <td>301.220856</td>\n",
       "      <td>302.164703</td>\n",
       "      <td>302.164703</td>\n",
       "      <td>8009000</td>\n",
       "    </tr>\n",
       "    <tr>\n",
       "      <th>3</th>\n",
       "      <td>2010-01-07</td>\n",
       "      <td>302.731018</td>\n",
       "      <td>303.029083</td>\n",
       "      <td>294.410156</td>\n",
       "      <td>295.130463</td>\n",
       "      <td>295.130463</td>\n",
       "      <td>12912000</td>\n",
       "    </tr>\n",
       "    <tr>\n",
       "      <th>4</th>\n",
       "      <td>2010-01-08</td>\n",
       "      <td>294.087250</td>\n",
       "      <td>299.675903</td>\n",
       "      <td>292.651581</td>\n",
       "      <td>299.064880</td>\n",
       "      <td>299.064880</td>\n",
       "      <td>9509900</td>\n",
       "    </tr>\n",
       "    <tr>\n",
       "      <th>5</th>\n",
       "      <td>2010-01-11</td>\n",
       "      <td>300.276978</td>\n",
       "      <td>300.276978</td>\n",
       "      <td>295.100647</td>\n",
       "      <td>298.612823</td>\n",
       "      <td>298.612823</td>\n",
       "      <td>14519600</td>\n",
       "    </tr>\n",
       "    <tr>\n",
       "      <th>6</th>\n",
       "      <td>2010-01-12</td>\n",
       "      <td>296.893982</td>\n",
       "      <td>297.147339</td>\n",
       "      <td>292.100159</td>\n",
       "      <td>293.332153</td>\n",
       "      <td>293.332153</td>\n",
       "      <td>9769600</td>\n",
       "    </tr>\n",
       "    <tr>\n",
       "      <th>7</th>\n",
       "      <td>2010-01-13</td>\n",
       "      <td>286.382355</td>\n",
       "      <td>292.288940</td>\n",
       "      <td>285.095734</td>\n",
       "      <td>291.648102</td>\n",
       "      <td>291.648102</td>\n",
       "      <td>13077600</td>\n",
       "    </tr>\n",
       "    <tr>\n",
       "      <th>8</th>\n",
       "      <td>2010-01-14</td>\n",
       "      <td>290.063416</td>\n",
       "      <td>295.180145</td>\n",
       "      <td>289.521942</td>\n",
       "      <td>293.019196</td>\n",
       "      <td>293.019196</td>\n",
       "      <td>8535300</td>\n",
       "    </tr>\n",
       "    <tr>\n",
       "      <th>9</th>\n",
       "      <td>2010-01-15</td>\n",
       "      <td>294.752930</td>\n",
       "      <td>294.862213</td>\n",
       "      <td>287.152344</td>\n",
       "      <td>288.126007</td>\n",
       "      <td>288.126007</td>\n",
       "      <td>10939600</td>\n",
       "    </tr>\n",
       "  </tbody>\n",
       "</table>\n",
       "</div>"
      ],
      "text/plain": [
       "         Date        Open        High         Low       Close   Adj Close  \\\n",
       "0  2010-01-04  311.449310  312.721039  310.103088  311.349976  311.349976   \n",
       "1  2010-01-05  311.563568  311.891449  308.761810  309.978882  309.978882   \n",
       "2  2010-01-06  310.907837  310.907837  301.220856  302.164703  302.164703   \n",
       "3  2010-01-07  302.731018  303.029083  294.410156  295.130463  295.130463   \n",
       "4  2010-01-08  294.087250  299.675903  292.651581  299.064880  299.064880   \n",
       "5  2010-01-11  300.276978  300.276978  295.100647  298.612823  298.612823   \n",
       "6  2010-01-12  296.893982  297.147339  292.100159  293.332153  293.332153   \n",
       "7  2010-01-13  286.382355  292.288940  285.095734  291.648102  291.648102   \n",
       "8  2010-01-14  290.063416  295.180145  289.521942  293.019196  293.019196   \n",
       "9  2010-01-15  294.752930  294.862213  287.152344  288.126007  288.126007   \n",
       "\n",
       "     Volume  \n",
       "0   3937800  \n",
       "1   6048500  \n",
       "2   8009000  \n",
       "3  12912000  \n",
       "4   9509900  \n",
       "5  14519600  \n",
       "6   9769600  \n",
       "7  13077600  \n",
       "8   8535300  \n",
       "9  10939600  "
      ]
     },
     "execution_count": 3,
     "metadata": {},
     "output_type": "execute_result"
    }
   ],
   "source": [
    "df.head(10)"
   ]
  },
  {
   "cell_type": "code",
   "execution_count": 4,
   "metadata": {},
   "outputs": [
    {
     "name": "stdout",
     "output_type": "stream",
     "text": [
      "<class 'pandas.core.frame.DataFrame'>\n",
      "RangeIndex: 1973 entries, 0 to 1972\n",
      "Data columns (total 7 columns):\n",
      "Date         1973 non-null object\n",
      "Open         1973 non-null float64\n",
      "High         1973 non-null float64\n",
      "Low          1973 non-null float64\n",
      "Close        1973 non-null float64\n",
      "Adj Close    1973 non-null float64\n",
      "Volume       1973 non-null int64\n",
      "dtypes: float64(5), int64(1), object(1)\n",
      "memory usage: 108.0+ KB\n"
     ]
    }
   ],
   "source": [
    "df.info()"
   ]
  },
  {
   "cell_type": "code",
   "execution_count": 5,
   "metadata": {},
   "outputs": [
    {
     "data": {
      "text/html": [
       "<div>\n",
       "<table border=\"1\" class=\"dataframe\">\n",
       "  <thead>\n",
       "    <tr style=\"text-align: right;\">\n",
       "      <th></th>\n",
       "      <th>Open</th>\n",
       "      <th>High</th>\n",
       "      <th>Low</th>\n",
       "      <th>Close</th>\n",
       "      <th>Adj Close</th>\n",
       "      <th>Volume</th>\n",
       "    </tr>\n",
       "  </thead>\n",
       "  <tbody>\n",
       "    <tr>\n",
       "      <th>0</th>\n",
       "      <td>0.000000</td>\n",
       "      <td>0.000000</td>\n",
       "      <td>0.000000</td>\n",
       "      <td>0.000000</td>\n",
       "      <td>0.000000</td>\n",
       "      <td>0.0</td>\n",
       "    </tr>\n",
       "    <tr>\n",
       "      <th>1</th>\n",
       "      <td>0.114258</td>\n",
       "      <td>-0.829590</td>\n",
       "      <td>-1.341278</td>\n",
       "      <td>-1.371094</td>\n",
       "      <td>-1.371094</td>\n",
       "      <td>2110700.0</td>\n",
       "    </tr>\n",
       "    <tr>\n",
       "      <th>2</th>\n",
       "      <td>-0.655731</td>\n",
       "      <td>-0.983612</td>\n",
       "      <td>-7.540954</td>\n",
       "      <td>-7.814179</td>\n",
       "      <td>-7.814179</td>\n",
       "      <td>1960500.0</td>\n",
       "    </tr>\n",
       "    <tr>\n",
       "      <th>3</th>\n",
       "      <td>-8.176819</td>\n",
       "      <td>-7.878754</td>\n",
       "      <td>-6.810700</td>\n",
       "      <td>-7.034240</td>\n",
       "      <td>-7.034240</td>\n",
       "      <td>4903000.0</td>\n",
       "    </tr>\n",
       "    <tr>\n",
       "      <th>4</th>\n",
       "      <td>-8.643768</td>\n",
       "      <td>-3.353180</td>\n",
       "      <td>-1.758575</td>\n",
       "      <td>3.934417</td>\n",
       "      <td>3.934417</td>\n",
       "      <td>-3402100.0</td>\n",
       "    </tr>\n",
       "  </tbody>\n",
       "</table>\n",
       "</div>"
      ],
      "text/plain": [
       "       Open      High       Low     Close  Adj Close     Volume\n",
       "0  0.000000  0.000000  0.000000  0.000000   0.000000        0.0\n",
       "1  0.114258 -0.829590 -1.341278 -1.371094  -1.371094  2110700.0\n",
       "2 -0.655731 -0.983612 -7.540954 -7.814179  -7.814179  1960500.0\n",
       "3 -8.176819 -7.878754 -6.810700 -7.034240  -7.034240  4903000.0\n",
       "4 -8.643768 -3.353180 -1.758575  3.934417   3.934417 -3402100.0"
      ]
     },
     "execution_count": 5,
     "metadata": {},
     "output_type": "execute_result"
    }
   ],
   "source": [
    "df.drop('Date', axis=1, inplace=True, errors='ignore')\n",
    "df = df.diff()\n",
    "df.iloc[0, :] = 0\n",
    "df.head()"
   ]
  },
  {
   "cell_type": "code",
   "execution_count": 6,
   "metadata": {},
   "outputs": [],
   "source": [
    "df = df[['Open', 'High', 'Low', 'Close']]"
   ]
  },
  {
   "cell_type": "code",
   "execution_count": 7,
   "metadata": {},
   "outputs": [
    {
     "data": {
      "text/html": [
       "<div>\n",
       "<table border=\"1\" class=\"dataframe\">\n",
       "  <thead>\n",
       "    <tr style=\"text-align: right;\">\n",
       "      <th></th>\n",
       "      <th>Open</th>\n",
       "      <th>High</th>\n",
       "      <th>Low</th>\n",
       "      <th>Close</th>\n",
       "    </tr>\n",
       "  </thead>\n",
       "  <tbody>\n",
       "    <tr>\n",
       "      <th>count</th>\n",
       "      <td>1973.000000</td>\n",
       "      <td>1973.000000</td>\n",
       "      <td>1973.000000</td>\n",
       "      <td>1973.000000</td>\n",
       "    </tr>\n",
       "    <tr>\n",
       "      <th>mean</th>\n",
       "      <td>0.357709</td>\n",
       "      <td>0.363380</td>\n",
       "      <td>0.358260</td>\n",
       "      <td>0.361961</td>\n",
       "    </tr>\n",
       "    <tr>\n",
       "      <th>std</th>\n",
       "      <td>7.684202</td>\n",
       "      <td>7.012193</td>\n",
       "      <td>7.073283</td>\n",
       "      <td>7.497264</td>\n",
       "    </tr>\n",
       "    <tr>\n",
       "      <th>min</th>\n",
       "      <td>-66.780029</td>\n",
       "      <td>-47.500000</td>\n",
       "      <td>-47.280029</td>\n",
       "      <td>-40.369995</td>\n",
       "    </tr>\n",
       "    <tr>\n",
       "      <th>25%</th>\n",
       "      <td>-3.039978</td>\n",
       "      <td>-2.434173</td>\n",
       "      <td>-2.569947</td>\n",
       "      <td>-2.911042</td>\n",
       "    </tr>\n",
       "    <tr>\n",
       "      <th>50%</th>\n",
       "      <td>0.293091</td>\n",
       "      <td>0.239990</td>\n",
       "      <td>0.499695</td>\n",
       "      <td>0.168914</td>\n",
       "    </tr>\n",
       "    <tr>\n",
       "      <th>75%</th>\n",
       "      <td>3.859986</td>\n",
       "      <td>3.020020</td>\n",
       "      <td>3.530030</td>\n",
       "      <td>3.669983</td>\n",
       "    </tr>\n",
       "    <tr>\n",
       "      <th>max</th>\n",
       "      <td>83.880005</td>\n",
       "      <td>93.788025</td>\n",
       "      <td>80.000000</td>\n",
       "      <td>93.080017</td>\n",
       "    </tr>\n",
       "  </tbody>\n",
       "</table>\n",
       "</div>"
      ],
      "text/plain": [
       "              Open         High          Low        Close\n",
       "count  1973.000000  1973.000000  1973.000000  1973.000000\n",
       "mean      0.357709     0.363380     0.358260     0.361961\n",
       "std       7.684202     7.012193     7.073283     7.497264\n",
       "min     -66.780029   -47.500000   -47.280029   -40.369995\n",
       "25%      -3.039978    -2.434173    -2.569947    -2.911042\n",
       "50%       0.293091     0.239990     0.499695     0.168914\n",
       "75%       3.859986     3.020020     3.530030     3.669983\n",
       "max      83.880005    93.788025    80.000000    93.080017"
      ]
     },
     "execution_count": 7,
     "metadata": {},
     "output_type": "execute_result"
    }
   ],
   "source": [
    "df.describe()"
   ]
  },
  {
   "cell_type": "code",
   "execution_count": 9,
   "metadata": {},
   "outputs": [
    {
     "data": {
      "text/plain": [
       "4"
      ]
     },
     "execution_count": 9,
     "metadata": {},
     "output_type": "execute_result"
    }
   ],
   "source": [
    "n_train = int(2/3*df.shape[0])\n",
    "Xtr, Xte = df.iloc[:n_train, :], df.iloc[n_train:,:]\n",
    "N_FEATS = Xtr.shape[1]\n",
    "N_FEATS"
   ]
  },
  {
   "cell_type": "code",
   "execution_count": 10,
   "metadata": {
    "collapsed": true
   },
   "outputs": [],
   "source": [
    "WND_DAYS = 7\n",
    "MAX_NORM = 64"
   ]
  },
  {
   "cell_type": "code",
   "execution_count": 11,
   "metadata": {
    "collapsed": true
   },
   "outputs": [],
   "source": [
    "import torch\n",
    "import torch.nn as nn\n",
    "import torch.nn.functional as F\n",
    "from torch.autograd import Variable"
   ]
  },
  {
   "cell_type": "code",
   "execution_count": 12,
   "metadata": {
    "collapsed": true
   },
   "outputs": [],
   "source": [
    "class RNN1(nn.Module):\n",
    "    \n",
    "    \n",
    "    def __init__(self, n_in, n_mem, n_out):\n",
    "        super(RNN1, self).__init__()\n",
    "        self.n_in, self.n_mem, self.n_out = n_in, n_mem, n_out\n",
    "        self.forget = nn.Linear(in_features=(n_in + n_mem), out_features=n_mem)\n",
    "        self.learn_new = nn.Linear(in_features=(n_in + n_mem), out_features=n_mem)\n",
    "        self.save_new = nn.Linear(in_features=(n_in + n_mem), out_features=n_mem)\n",
    "        self.output = nn.Linear(in_features=(n_in + n_mem), out_features=n_out)\n",
    "        \n",
    "    def init_weights(self, var=.1):\n",
    "        self.forget.weight.data.uniform_(-var, var)\n",
    "        self.learn_new.weight.data.uniform_(-var, var)\n",
    "        self.save_new.weight.data.uniform_(-var, var)\n",
    "        self.output.weight.data.uniform_(-var, var)\n",
    "    \n",
    "    def forward(self, x, mem):\n",
    "        # print(x.data.shape, mem.data.shape)\n",
    "        xmem = torch.cat((x, mem))\n",
    "        forget = F.sigmoid(self.forget(xmem))\n",
    "        mem = mem*forget\n",
    "        new_mem = F.tanh(self.learn_new(xmem))\n",
    "        mem_mask = F.sigmoid(self.save_new(xmem))\n",
    "        mem = mem + new_mem*mem_mask\n",
    "        xmem = torch.cat((x, mem))\n",
    "        out = self.output(xmem)\n",
    "        return (out, mem)\n",
    "    \n",
    "    def init_mem(self):\n",
    "        return Variable(torch.zeros(self.n_mem))"
   ]
  },
  {
   "cell_type": "code",
   "execution_count": 13,
   "metadata": {
    "collapsed": true
   },
   "outputs": [],
   "source": [
    "rnn1 = RNN1(n_in=WND_DAYS*N_FEATS, n_mem=48, n_out=WND_DAYS)"
   ]
  },
  {
   "cell_type": "code",
   "execution_count": 19,
   "metadata": {},
   "outputs": [],
   "source": [
    "def loss(\n",
    "    model,\n",
    "    X,\n",
    "    criterion,\n",
    "    wnd=WND_DAYS,\n",
    "    var='Close',\n",
    "    lr=None,\n",
    "    ):\n",
    "    mem = model.init_mem()\n",
    "    total_L = 0\n",
    "    for i in range(wnd, X.shape[0]):\n",
    "        model.zero_grad()\n",
    "        x = X.iloc[i-wnd+1:i+1,:].as_matrix().reshape(-1)\n",
    "        x = torch.Tensor(x)\n",
    "        x = Variable(x)\n",
    "        y = torch.Tensor(X.iloc[i:i+wnd,:].loc[:, var].as_matrix().reshape(-1))\n",
    "        y = Variable(y)\n",
    "        y_pred, mem = model(x, mem)\n",
    "        y_pred = y_pred[:y.data.shape[0]]\n",
    "        L = criterion(y, y_pred)\n",
    "        total_L += L.data\n",
    "        \n",
    "        if lr is not None:\n",
    "            L.backward(retain_graph=1)\n",
    "            torch.nn.utils.clip_grad_norm(model.parameters(), MAX_NORM)\n",
    "            for p in model.parameters():\n",
    "                p.data.add_(-lr, p.grad.data)\n",
    "    return total_L/X.shape[0]"
   ]
  },
  {
   "cell_type": "code",
   "execution_count": 15,
   "metadata": {
    "collapsed": true
   },
   "outputs": [],
   "source": [
    "def objective(y_pred, y):\n",
    "    L = -y_pred*y\n",
    "    L[L < 0] = 0\n",
    "    L = L.sum()\n",
    "    L2 = y_pred - y\n",
    "    L2 = (L2*L2).sum()/sum(y.data.shape)\n",
    "    return L\n",
    "criterion = objective"
   ]
  },
  {
   "cell_type": "code",
   "execution_count": 20,
   "metadata": {},
   "outputs": [
    {
     "data": {
      "text/plain": [
       "\n",
       " 67.7105\n",
       "[torch.FloatTensor of size 1]"
      ]
     },
     "execution_count": 20,
     "metadata": {},
     "output_type": "execute_result"
    }
   ],
   "source": [
    "loss(rnn1, Xtr, criterion, lr=.01)"
   ]
  },
  {
   "cell_type": "code",
   "execution_count": 21,
   "metadata": {
    "scrolled": true
   },
   "outputs": [
    {
     "name": "stdout",
     "output_type": "stream",
     "text": [
      "Epoch #0; Loss: \n",
      " 53.7688\n",
      "[torch.FloatTensor of size 1]\n",
      "\n",
      "Epoch #1; Loss: \n",
      " 53.7688\n",
      "[torch.FloatTensor of size 1]\n",
      "\n",
      "Epoch #2; Loss: \n",
      " 53.7688\n",
      "[torch.FloatTensor of size 1]\n",
      "\n",
      "Epoch #3; Loss: \n",
      " 53.7688\n",
      "[torch.FloatTensor of size 1]\n",
      "\n",
      "Epoch #4; Loss: \n",
      " 53.7688\n",
      "[torch.FloatTensor of size 1]\n",
      "\n",
      "Epoch #5; Loss: \n",
      " 53.7688\n",
      "[torch.FloatTensor of size 1]\n",
      "\n",
      "Epoch #6; Loss: \n",
      " 53.7688\n",
      "[torch.FloatTensor of size 1]\n",
      "\n",
      "Epoch #7; Loss: \n",
      " 53.7688\n",
      "[torch.FloatTensor of size 1]\n",
      "\n",
      "Epoch #8; Loss: \n",
      " 53.7688\n",
      "[torch.FloatTensor of size 1]\n",
      "\n",
      "Epoch #9; Loss: \n",
      " 53.7688\n",
      "[torch.FloatTensor of size 1]\n",
      "\n",
      "Epoch #10; Loss: \n",
      " 53.7688\n",
      "[torch.FloatTensor of size 1]\n",
      "\n",
      "Epoch #11; Loss: \n",
      " 53.7688\n",
      "[torch.FloatTensor of size 1]\n",
      "\n",
      "Epoch #12; Loss: \n",
      " 53.7688\n",
      "[torch.FloatTensor of size 1]\n",
      "\n",
      "Epoch #13; Loss: \n",
      " 53.7688\n",
      "[torch.FloatTensor of size 1]\n",
      "\n",
      "Epoch #14; Loss: \n",
      " 53.7688\n",
      "[torch.FloatTensor of size 1]\n",
      "\n",
      "Epoch #15; Loss: \n",
      " 53.7688\n",
      "[torch.FloatTensor of size 1]\n",
      "\n",
      "Epoch #16; Loss: \n",
      " 53.7688\n",
      "[torch.FloatTensor of size 1]\n",
      "\n",
      "Epoch #17; Loss: \n",
      " 53.7688\n",
      "[torch.FloatTensor of size 1]\n",
      "\n",
      "Epoch #18; Loss: \n",
      " 53.7688\n",
      "[torch.FloatTensor of size 1]\n",
      "\n",
      "Epoch #19; Loss: \n",
      " 53.7688\n",
      "[torch.FloatTensor of size 1]\n",
      "\n"
     ]
    }
   ],
   "source": [
    "for i in range(20):\n",
    "    print('Epoch #%s; Loss: %s' % (i, loss(rnn1, Xtr, criterion)))"
   ]
  },
  {
   "cell_type": "code",
   "execution_count": 22,
   "metadata": {},
   "outputs": [
    {
     "data": {
      "text/plain": [
       "RNN1 (\n",
       "  (forget): Linear (76 -> 48)\n",
       "  (learn_new): Linear (76 -> 48)\n",
       "  (save_new): Linear (76 -> 48)\n",
       "  (output): Linear (76 -> 7)\n",
       ")"
      ]
     },
     "execution_count": 22,
     "metadata": {},
     "output_type": "execute_result"
    }
   ],
   "source": [
    "rnn1"
   ]
  },
  {
   "cell_type": "code",
   "execution_count": 23,
   "metadata": {},
   "outputs": [],
   "source": [
    "#list(rnn1.parameters())"
   ]
  },
  {
   "cell_type": "code",
   "execution_count": 24,
   "metadata": {
    "collapsed": true
   },
   "outputs": [],
   "source": [
    "torch.save(rnn1.state_dict(), 'rnn1.weights')"
   ]
  },
  {
   "cell_type": "code",
   "execution_count": null,
   "metadata": {
    "collapsed": true
   },
   "outputs": [],
   "source": [
    "loss(rnn1, Xte, lr=None)"
   ]
  },
  {
   "cell_type": "code",
   "execution_count": 25,
   "metadata": {},
   "outputs": [
    {
     "ename": "NameError",
     "evalue": "name 'X' is not defined",
     "output_type": "error",
     "traceback": [
      "\u001b[0;31m---------------------------------------------------------------------------\u001b[0m",
      "\u001b[0;31mNameError\u001b[0m                                 Traceback (most recent call last)",
      "\u001b[0;32m<ipython-input-25-2c0716cfa890>\u001b[0m in \u001b[0;36m<module>\u001b[0;34m()\u001b[0m\n\u001b[0;32m----> 1\u001b[0;31m \u001b[0mloss\u001b[0m\u001b[0;34m(\u001b[0m\u001b[0mrnn1\u001b[0m\u001b[0;34m,\u001b[0m \u001b[0mX\u001b[0m\u001b[0;34m,\u001b[0m \u001b[0mlr\u001b[0m\u001b[0;34m=\u001b[0m\u001b[0;32mNone\u001b[0m\u001b[0;34m)\u001b[0m\u001b[0;34m\u001b[0m\u001b[0m\n\u001b[0m",
      "\u001b[0;31mNameError\u001b[0m: name 'X' is not defined"
     ]
    }
   ],
   "source": [
    "loss(rnn1, X, lr=None)"
   ]
  },
  {
   "cell_type": "code",
   "execution_count": null,
   "metadata": {
    "collapsed": true
   },
   "outputs": [],
   "source": [
    "def predict(model, X, wnd=WND_DAYS):\n",
    "    mem = model.init_mem()\n",
    "    for i in range(wnd-1, X.shape[0]):\n",
    "        x = X.iloc[i-wnd+1:i+1, :].as_matrix().reshape(-1)\n",
    "        x = torch.Tensor(x)\n",
    "        x = Variable(x)\n",
    "        y, mem = model(x, mem)\n",
    "    return y"
   ]
  },
  {
   "cell_type": "code",
   "execution_count": null,
   "metadata": {},
   "outputs": [],
   "source": [
    "predict(rnn1, Xte.iloc[:128, :]).data"
   ]
  },
  {
   "cell_type": "code",
   "execution_count": null,
   "metadata": {},
   "outputs": [],
   "source": [
    "Xte.iloc[128:128+WND_DAYS,:]['Close']"
   ]
  },
  {
   "cell_type": "code",
   "execution_count": null,
   "metadata": {
    "collapsed": true
   },
   "outputs": [],
   "source": []
  },
  {
   "cell_type": "code",
   "execution_count": null,
   "metadata": {
    "collapsed": true
   },
   "outputs": [],
   "source": []
  }
 ],
 "metadata": {
  "kernelspec": {
   "display_name": "Python 3",
   "language": "python",
   "name": "python3"
  },
  "language_info": {
   "codemirror_mode": {
    "name": "ipython",
    "version": 3
   },
   "file_extension": ".py",
   "mimetype": "text/x-python",
   "name": "python",
   "nbconvert_exporter": "python",
   "pygments_lexer": "ipython3",
   "version": "3.6.3"
  }
 },
 "nbformat": 4,
 "nbformat_minor": 2
}
