{
 "cells": [
  {
   "cell_type": "code",
   "execution_count": 1,
   "metadata": {
    "collapsed": true
   },
   "outputs": [],
   "source": [
    "import pandas as pd\n",
    "from pandas_datareader import data, wb\n",
    "from datetime import datetime\n",
    "import numpy as np\n",
    "import graphviz\n",
    "import sys\n",
    "import os"
   ]
  },
  {
   "cell_type": "code",
   "execution_count": 2,
   "metadata": {
    "collapsed": true
   },
   "outputs": [],
   "source": [
    "if not os.path.exists('GOOG.csv'):\n",
    "    df = data.DataReader('GOOG', 'yahoo', datetime(2010, 1, 1), datetime(2017, 11, 1))\n",
    "    df.to_csv('GOOG.csv')\n",
    "else:\n",
    "    df = pd.read_csv('GOOG.csv')"
   ]
  },
  {
   "cell_type": "code",
   "execution_count": 3,
   "metadata": {},
   "outputs": [
    {
     "data": {
      "text/html": [
       "<div>\n",
       "<table border=\"1\" class=\"dataframe\">\n",
       "  <thead>\n",
       "    <tr style=\"text-align: right;\">\n",
       "      <th></th>\n",
       "      <th>Date</th>\n",
       "      <th>Open</th>\n",
       "      <th>High</th>\n",
       "      <th>Low</th>\n",
       "      <th>Close</th>\n",
       "      <th>Adj Close</th>\n",
       "      <th>Volume</th>\n",
       "    </tr>\n",
       "  </thead>\n",
       "  <tbody>\n",
       "    <tr>\n",
       "      <th>0</th>\n",
       "      <td>2010-01-04</td>\n",
       "      <td>311.449310</td>\n",
       "      <td>312.721039</td>\n",
       "      <td>310.103088</td>\n",
       "      <td>311.349976</td>\n",
       "      <td>311.349976</td>\n",
       "      <td>3937800</td>\n",
       "    </tr>\n",
       "    <tr>\n",
       "      <th>1</th>\n",
       "      <td>2010-01-05</td>\n",
       "      <td>311.563568</td>\n",
       "      <td>311.891449</td>\n",
       "      <td>308.761810</td>\n",
       "      <td>309.978882</td>\n",
       "      <td>309.978882</td>\n",
       "      <td>6048500</td>\n",
       "    </tr>\n",
       "    <tr>\n",
       "      <th>2</th>\n",
       "      <td>2010-01-06</td>\n",
       "      <td>310.907837</td>\n",
       "      <td>310.907837</td>\n",
       "      <td>301.220856</td>\n",
       "      <td>302.164703</td>\n",
       "      <td>302.164703</td>\n",
       "      <td>8009000</td>\n",
       "    </tr>\n",
       "    <tr>\n",
       "      <th>3</th>\n",
       "      <td>2010-01-07</td>\n",
       "      <td>302.731018</td>\n",
       "      <td>303.029083</td>\n",
       "      <td>294.410156</td>\n",
       "      <td>295.130463</td>\n",
       "      <td>295.130463</td>\n",
       "      <td>12912000</td>\n",
       "    </tr>\n",
       "    <tr>\n",
       "      <th>4</th>\n",
       "      <td>2010-01-08</td>\n",
       "      <td>294.087250</td>\n",
       "      <td>299.675903</td>\n",
       "      <td>292.651581</td>\n",
       "      <td>299.064880</td>\n",
       "      <td>299.064880</td>\n",
       "      <td>9509900</td>\n",
       "    </tr>\n",
       "    <tr>\n",
       "      <th>5</th>\n",
       "      <td>2010-01-11</td>\n",
       "      <td>300.276978</td>\n",
       "      <td>300.276978</td>\n",
       "      <td>295.100647</td>\n",
       "      <td>298.612823</td>\n",
       "      <td>298.612823</td>\n",
       "      <td>14519600</td>\n",
       "    </tr>\n",
       "    <tr>\n",
       "      <th>6</th>\n",
       "      <td>2010-01-12</td>\n",
       "      <td>296.893982</td>\n",
       "      <td>297.147339</td>\n",
       "      <td>292.100159</td>\n",
       "      <td>293.332153</td>\n",
       "      <td>293.332153</td>\n",
       "      <td>9769600</td>\n",
       "    </tr>\n",
       "    <tr>\n",
       "      <th>7</th>\n",
       "      <td>2010-01-13</td>\n",
       "      <td>286.382355</td>\n",
       "      <td>292.288940</td>\n",
       "      <td>285.095734</td>\n",
       "      <td>291.648102</td>\n",
       "      <td>291.648102</td>\n",
       "      <td>13077600</td>\n",
       "    </tr>\n",
       "    <tr>\n",
       "      <th>8</th>\n",
       "      <td>2010-01-14</td>\n",
       "      <td>290.063416</td>\n",
       "      <td>295.180145</td>\n",
       "      <td>289.521942</td>\n",
       "      <td>293.019196</td>\n",
       "      <td>293.019196</td>\n",
       "      <td>8535300</td>\n",
       "    </tr>\n",
       "    <tr>\n",
       "      <th>9</th>\n",
       "      <td>2010-01-15</td>\n",
       "      <td>294.752930</td>\n",
       "      <td>294.862213</td>\n",
       "      <td>287.152344</td>\n",
       "      <td>288.126007</td>\n",
       "      <td>288.126007</td>\n",
       "      <td>10939600</td>\n",
       "    </tr>\n",
       "  </tbody>\n",
       "</table>\n",
       "</div>"
      ],
      "text/plain": [
       "         Date        Open        High         Low       Close   Adj Close  \\\n",
       "0  2010-01-04  311.449310  312.721039  310.103088  311.349976  311.349976   \n",
       "1  2010-01-05  311.563568  311.891449  308.761810  309.978882  309.978882   \n",
       "2  2010-01-06  310.907837  310.907837  301.220856  302.164703  302.164703   \n",
       "3  2010-01-07  302.731018  303.029083  294.410156  295.130463  295.130463   \n",
       "4  2010-01-08  294.087250  299.675903  292.651581  299.064880  299.064880   \n",
       "5  2010-01-11  300.276978  300.276978  295.100647  298.612823  298.612823   \n",
       "6  2010-01-12  296.893982  297.147339  292.100159  293.332153  293.332153   \n",
       "7  2010-01-13  286.382355  292.288940  285.095734  291.648102  291.648102   \n",
       "8  2010-01-14  290.063416  295.180145  289.521942  293.019196  293.019196   \n",
       "9  2010-01-15  294.752930  294.862213  287.152344  288.126007  288.126007   \n",
       "\n",
       "     Volume  \n",
       "0   3937800  \n",
       "1   6048500  \n",
       "2   8009000  \n",
       "3  12912000  \n",
       "4   9509900  \n",
       "5  14519600  \n",
       "6   9769600  \n",
       "7  13077600  \n",
       "8   8535300  \n",
       "9  10939600  "
      ]
     },
     "execution_count": 3,
     "metadata": {},
     "output_type": "execute_result"
    }
   ],
   "source": [
    "df.head(10)"
   ]
  },
  {
   "cell_type": "code",
   "execution_count": 4,
   "metadata": {},
   "outputs": [
    {
     "name": "stdout",
     "output_type": "stream",
     "text": [
      "<class 'pandas.core.frame.DataFrame'>\n",
      "RangeIndex: 1973 entries, 0 to 1972\n",
      "Data columns (total 7 columns):\n",
      "Date         1973 non-null object\n",
      "Open         1973 non-null float64\n",
      "High         1973 non-null float64\n",
      "Low          1973 non-null float64\n",
      "Close        1973 non-null float64\n",
      "Adj Close    1973 non-null float64\n",
      "Volume       1973 non-null int64\n",
      "dtypes: float64(5), int64(1), object(1)\n",
      "memory usage: 108.0+ KB\n"
     ]
    }
   ],
   "source": [
    "df.info()"
   ]
  },
  {
   "cell_type": "code",
   "execution_count": 5,
   "metadata": {},
   "outputs": [
    {
     "data": {
      "text/html": [
       "<div>\n",
       "<table border=\"1\" class=\"dataframe\">\n",
       "  <thead>\n",
       "    <tr style=\"text-align: right;\">\n",
       "      <th></th>\n",
       "      <th>Open</th>\n",
       "      <th>High</th>\n",
       "      <th>Low</th>\n",
       "      <th>Close</th>\n",
       "      <th>Adj Close</th>\n",
       "      <th>Volume</th>\n",
       "    </tr>\n",
       "  </thead>\n",
       "  <tbody>\n",
       "    <tr>\n",
       "      <th>0</th>\n",
       "      <td>0.000000</td>\n",
       "      <td>0.000000</td>\n",
       "      <td>0.000000</td>\n",
       "      <td>0.000000</td>\n",
       "      <td>0.000000</td>\n",
       "      <td>0.0</td>\n",
       "    </tr>\n",
       "    <tr>\n",
       "      <th>1</th>\n",
       "      <td>0.114258</td>\n",
       "      <td>-0.829590</td>\n",
       "      <td>-1.341278</td>\n",
       "      <td>-1.371094</td>\n",
       "      <td>-1.371094</td>\n",
       "      <td>2110700.0</td>\n",
       "    </tr>\n",
       "    <tr>\n",
       "      <th>2</th>\n",
       "      <td>-0.655731</td>\n",
       "      <td>-0.983612</td>\n",
       "      <td>-7.540954</td>\n",
       "      <td>-7.814179</td>\n",
       "      <td>-7.814179</td>\n",
       "      <td>1960500.0</td>\n",
       "    </tr>\n",
       "    <tr>\n",
       "      <th>3</th>\n",
       "      <td>-8.176819</td>\n",
       "      <td>-7.878754</td>\n",
       "      <td>-6.810700</td>\n",
       "      <td>-7.034240</td>\n",
       "      <td>-7.034240</td>\n",
       "      <td>4903000.0</td>\n",
       "    </tr>\n",
       "    <tr>\n",
       "      <th>4</th>\n",
       "      <td>-8.643768</td>\n",
       "      <td>-3.353180</td>\n",
       "      <td>-1.758575</td>\n",
       "      <td>3.934417</td>\n",
       "      <td>3.934417</td>\n",
       "      <td>-3402100.0</td>\n",
       "    </tr>\n",
       "  </tbody>\n",
       "</table>\n",
       "</div>"
      ],
      "text/plain": [
       "       Open      High       Low     Close  Adj Close     Volume\n",
       "0  0.000000  0.000000  0.000000  0.000000   0.000000        0.0\n",
       "1  0.114258 -0.829590 -1.341278 -1.371094  -1.371094  2110700.0\n",
       "2 -0.655731 -0.983612 -7.540954 -7.814179  -7.814179  1960500.0\n",
       "3 -8.176819 -7.878754 -6.810700 -7.034240  -7.034240  4903000.0\n",
       "4 -8.643768 -3.353180 -1.758575  3.934417   3.934417 -3402100.0"
      ]
     },
     "execution_count": 5,
     "metadata": {},
     "output_type": "execute_result"
    }
   ],
   "source": [
    "df.drop('Date', axis=1, inplace=True, errors='ignore')\n",
    "df = df.diff()\n",
    "df.iloc[0, :] = 0\n",
    "df.head()"
   ]
  },
  {
   "cell_type": "code",
   "execution_count": 6,
   "metadata": {},
   "outputs": [],
   "source": [
    "df = df[['Open', 'High', 'Low', 'Close']]"
   ]
  },
  {
   "cell_type": "code",
   "execution_count": 7,
   "metadata": {},
   "outputs": [
    {
     "data": {
      "text/html": [
       "<div>\n",
       "<table border=\"1\" class=\"dataframe\">\n",
       "  <thead>\n",
       "    <tr style=\"text-align: right;\">\n",
       "      <th></th>\n",
       "      <th>Open</th>\n",
       "      <th>High</th>\n",
       "      <th>Low</th>\n",
       "      <th>Close</th>\n",
       "    </tr>\n",
       "  </thead>\n",
       "  <tbody>\n",
       "    <tr>\n",
       "      <th>count</th>\n",
       "      <td>1973.000000</td>\n",
       "      <td>1973.000000</td>\n",
       "      <td>1973.000000</td>\n",
       "      <td>1973.000000</td>\n",
       "    </tr>\n",
       "    <tr>\n",
       "      <th>mean</th>\n",
       "      <td>0.357709</td>\n",
       "      <td>0.363380</td>\n",
       "      <td>0.358260</td>\n",
       "      <td>0.361961</td>\n",
       "    </tr>\n",
       "    <tr>\n",
       "      <th>std</th>\n",
       "      <td>7.684202</td>\n",
       "      <td>7.012193</td>\n",
       "      <td>7.073283</td>\n",
       "      <td>7.497264</td>\n",
       "    </tr>\n",
       "    <tr>\n",
       "      <th>min</th>\n",
       "      <td>-66.780029</td>\n",
       "      <td>-47.500000</td>\n",
       "      <td>-47.280029</td>\n",
       "      <td>-40.369995</td>\n",
       "    </tr>\n",
       "    <tr>\n",
       "      <th>25%</th>\n",
       "      <td>-3.039978</td>\n",
       "      <td>-2.434173</td>\n",
       "      <td>-2.569947</td>\n",
       "      <td>-2.911042</td>\n",
       "    </tr>\n",
       "    <tr>\n",
       "      <th>50%</th>\n",
       "      <td>0.293091</td>\n",
       "      <td>0.239990</td>\n",
       "      <td>0.499695</td>\n",
       "      <td>0.168914</td>\n",
       "    </tr>\n",
       "    <tr>\n",
       "      <th>75%</th>\n",
       "      <td>3.859986</td>\n",
       "      <td>3.020020</td>\n",
       "      <td>3.530030</td>\n",
       "      <td>3.669983</td>\n",
       "    </tr>\n",
       "    <tr>\n",
       "      <th>max</th>\n",
       "      <td>83.880005</td>\n",
       "      <td>93.788025</td>\n",
       "      <td>80.000000</td>\n",
       "      <td>93.080017</td>\n",
       "    </tr>\n",
       "  </tbody>\n",
       "</table>\n",
       "</div>"
      ],
      "text/plain": [
       "              Open         High          Low        Close\n",
       "count  1973.000000  1973.000000  1973.000000  1973.000000\n",
       "mean      0.357709     0.363380     0.358260     0.361961\n",
       "std       7.684202     7.012193     7.073283     7.497264\n",
       "min     -66.780029   -47.500000   -47.280029   -40.369995\n",
       "25%      -3.039978    -2.434173    -2.569947    -2.911042\n",
       "50%       0.293091     0.239990     0.499695     0.168914\n",
       "75%       3.859986     3.020020     3.530030     3.669983\n",
       "max      83.880005    93.788025    80.000000    93.080017"
      ]
     },
     "execution_count": 7,
     "metadata": {},
     "output_type": "execute_result"
    }
   ],
   "source": [
    "df.describe()"
   ]
  },
  {
   "cell_type": "code",
   "execution_count": 8,
   "metadata": {},
   "outputs": [
    {
     "data": {
      "text/plain": [
       "4"
      ]
     },
     "execution_count": 8,
     "metadata": {},
     "output_type": "execute_result"
    }
   ],
   "source": [
    "n_train = int(2/3*df.shape[0])\n",
    "Xtr, Xte = df.iloc[:n_train, :], df.iloc[n_train:,:]\n",
    "N_FEATS = Xtr.shape[1]\n",
    "N_FEATS"
   ]
  },
  {
   "cell_type": "code",
   "execution_count": 9,
   "metadata": {
    "collapsed": true
   },
   "outputs": [],
   "source": [
    "WND_DAYS = 14\n",
    "MAX_NORM = 64"
   ]
  },
  {
   "cell_type": "code",
   "execution_count": 10,
   "metadata": {
    "collapsed": true
   },
   "outputs": [],
   "source": [
    "import torch\n",
    "import torch.nn as nn\n",
    "import torch.nn.functional as F\n",
    "from torch.autograd import Variable"
   ]
  },
  {
   "cell_type": "markdown",
   "metadata": {},
   "source": [
    "## Just random LSTM architecture"
   ]
  },
  {
   "cell_type": "code",
   "execution_count": 11,
   "metadata": {
    "collapsed": true
   },
   "outputs": [],
   "source": [
    "class RNN1(nn.Module):\n",
    "    \n",
    "    \n",
    "    def __init__(self, n_in, n_mem, n_out):\n",
    "        super(RNN1, self).__init__()\n",
    "        self.n_in, self.n_mem, self.n_out = n_in, n_mem, n_out\n",
    "        self.forget = nn.Linear(in_features=(n_in + n_mem), out_features=n_mem)\n",
    "        self.learn_new = nn.Linear(in_features=(n_in + n_mem), out_features=n_mem)\n",
    "        self.save_new = nn.Linear(in_features=(n_in + n_mem), out_features=n_mem)\n",
    "        self.output = nn.Linear(in_features=(n_in + n_mem), out_features=n_out)\n",
    "        \n",
    "    def init_weights(self, var=.1):\n",
    "        self.forget.weight.data.uniform_(-var, var)\n",
    "        self.learn_new.weight.data.uniform_(-var, var)\n",
    "        self.save_new.weight.data.uniform_(-var, var)\n",
    "        self.output.weight.data.uniform_(-var, var)\n",
    "    \n",
    "    def forward(self, x, mem):\n",
    "        # print(x.data.shape, mem.data.shape)\n",
    "        xmem = torch.cat((x, mem))\n",
    "        forget = F.sigmoid(self.forget(xmem))\n",
    "        mem = mem*forget\n",
    "        new_mem = F.tanh(self.learn_new(xmem))\n",
    "        mem_mask = F.sigmoid(self.save_new(xmem))\n",
    "        mem = mem + new_mem*mem_mask\n",
    "        xmem = torch.cat((x, mem))\n",
    "        out = self.output(xmem)\n",
    "        return (out, mem)\n",
    "    \n",
    "    def init_mem(self):\n",
    "        return Variable(torch.zeros(self.n_mem))"
   ]
  },
  {
   "cell_type": "code",
   "execution_count": 12,
   "metadata": {},
   "outputs": [],
   "source": [
    "def loss(\n",
    "    model,\n",
    "    X,\n",
    "    criterion,\n",
    "    wnd=WND_DAYS,\n",
    "    var='Close',\n",
    "    lr=None,\n",
    "    ):\n",
    "    mem = model.init_mem()\n",
    "    total_L = 0\n",
    "    for i in range(wnd, X.shape[0]):\n",
    "        model.zero_grad()\n",
    "        x = X.iloc[i-wnd:i,:].as_matrix().reshape(-1)\n",
    "        x = torch.Tensor(x)\n",
    "        x = Variable(x)\n",
    "        y = torch.Tensor(X.iloc[i:i+wnd,:].loc[:, var].as_matrix().reshape(-1))\n",
    "        y = Variable(y)\n",
    "        y_pred, mem = model(x, mem)\n",
    "        y_pred = y_pred[:y.data.shape[0]]\n",
    "        L = criterion(y, y_pred)\n",
    "        total_L += L.data\n",
    "        \n",
    "        if lr is not None:\n",
    "            L.backward(retain_graph=1)\n",
    "            torch.nn.utils.clip_grad_norm(model.parameters(), MAX_NORM)\n",
    "            for p in model.parameters():\n",
    "                p.data.sub_(lr * p.grad.data)\n",
    "    return total_L/X.shape[0]"
   ]
  },
  {
   "cell_type": "code",
   "execution_count": 13,
   "metadata": {
    "collapsed": true
   },
   "outputs": [],
   "source": [
    "rnn1 = RNN1(n_in=WND_DAYS*N_FEATS, n_mem=48, n_out=WND_DAYS)"
   ]
  },
  {
   "cell_type": "markdown",
   "metadata": {},
   "source": [
    "**We'll use custom loss: a combination of a fee for wrong signs and the L2-norm of an error**"
   ]
  },
  {
   "cell_type": "code",
   "execution_count": 14,
   "metadata": {
    "collapsed": true
   },
   "outputs": [],
   "source": [
    "def objective(y_pred, y, alpha=.35):\n",
    "    n = sum(y.data.shape)\n",
    "    \n",
    "    sgn = y_pred*y\n",
    "    fee = y_pred - y\n",
    "    fee[sgn > 0] = 0\n",
    "    fee[fee < 0] *= -1\n",
    "    # NB: you're not dividing by n yet\n",
    "    fee = fee.sum()\n",
    "    \n",
    "    mse = (y_pred - y)**2\n",
    "    mse = mse.sum()/n # TODO: don't divide by $n$\n",
    "    if np.random.randint(1, 5000) == 42:\n",
    "        print(dict(fee=fee, mse=mse))\n",
    "        print('y:', y[sgn < 0])\n",
    "        print('y_pred:', y_pred[sgn < 0])\n",
    "    return (1-alpha)*fee + alpha*mse\n",
    "criterion = objective"
   ]
  },
  {
   "cell_type": "code",
   "execution_count": 15,
   "metadata": {
    "scrolled": true
   },
   "outputs": [
    {
     "name": "stdout",
     "output_type": "stream",
     "text": [
      "Epoch #1; Loss: \n",
      " 88.3637\n",
      "[torch.FloatTensor of size 1]\n",
      "\n",
      "{'fee': Variable containing:\n",
      " 32.5060\n",
      "[torch.FloatTensor of size 1]\n",
      ", 'mse': Variable containing:\n",
      " 50.9839\n",
      "[torch.FloatTensor of size 1]\n",
      "}\n",
      "y: Variable containing:\n",
      " 7.2489\n",
      "-1.5584\n",
      "-1.1587\n",
      "-2.2778\n",
      "-7.6393\n",
      "[torch.FloatTensor of size 5]\n",
      "\n",
      "y_pred: Variable containing:\n",
      "-0.2682\n",
      " 1.4655\n",
      " 3.3383\n",
      " 1.8778\n",
      " 5.6731\n",
      "[torch.FloatTensor of size 5]\n",
      "\n",
      "Epoch #2; Loss: \n",
      " 57.2613\n",
      "[torch.FloatTensor of size 1]\n",
      "\n",
      "{'fee': Variable containing:\n",
      " 29.0185\n",
      "[torch.FloatTensor of size 1]\n",
      ", 'mse': Variable containing:\n",
      " 24.2409\n",
      "[torch.FloatTensor of size 1]\n",
      "}\n",
      "y: Variable containing:\n",
      " 0.7981\n",
      "-0.0213\n",
      "-2.3478\n",
      " 3.3764\n",
      "-1.5900\n",
      "-0.9197\n",
      "-0.5564\n",
      "[torch.FloatTensor of size 7]\n",
      "\n",
      "y_pred: Variable containing:\n",
      "-0.0844\n",
      " 6.4630\n",
      " 0.1938\n",
      "-4.0785\n",
      " 4.2921\n",
      " 3.7108\n",
      " 0.5862\n",
      "[torch.FloatTensor of size 7]\n",
      "\n",
      "Epoch #3; Loss: \n",
      " 45.5634\n",
      "[torch.FloatTensor of size 1]\n",
      "\n"
     ]
    }
   ],
   "source": [
    "for epoch in range(1, 4):\n",
    "    print('Epoch #%s; Loss: %s' % (epoch, loss(rnn1, Xtr, criterion, lr=.02/epoch)))"
   ]
  },
  {
   "cell_type": "code",
   "execution_count": 16,
   "metadata": {},
   "outputs": [],
   "source": []
  },
  {
   "cell_type": "code",
   "execution_count": 17,
   "metadata": {},
   "outputs": [
    {
     "data": {
      "text/plain": [
       "RNN1 (\n",
       "  (forget): Linear (104 -> 48)\n",
       "  (learn_new): Linear (104 -> 48)\n",
       "  (save_new): Linear (104 -> 48)\n",
       "  (output): Linear (104 -> 14)\n",
       ")"
      ]
     },
     "execution_count": 17,
     "metadata": {},
     "output_type": "execute_result"
    }
   ],
   "source": [
    "rnn1"
   ]
  },
  {
   "cell_type": "code",
   "execution_count": 18,
   "metadata": {
    "collapsed": true
   },
   "outputs": [],
   "source": [
    "torch.save(rnn1.state_dict(), 'rnn1.weights')"
   ]
  },
  {
   "cell_type": "code",
   "execution_count": 19,
   "metadata": {
    "collapsed": true
   },
   "outputs": [],
   "source": [
    "def next_day_predictions(model, X, wnd=WND_DAYS):\n",
    "    mem = model.init_mem()\n",
    "    pred = np.zeros(X.shape[0])\n",
    "    for i in range(wnd, X.shape[0]):\n",
    "        x = X.iloc[i-wnd:i, :].as_matrix().reshape(-1)\n",
    "        x = Variable(torch.Tensor(x))\n",
    "        x, mem = model(x, mem)\n",
    "        pred[i] = x.data[0]\n",
    "    return pred"
   ]
  },
  {
   "cell_type": "code",
   "execution_count": 20,
   "metadata": {
    "scrolled": true
   },
   "outputs": [
    {
     "data": {
      "text/html": [
       "\n",
       "    <div class=\"bk-root\">\n",
       "        <a href=\"https://bokeh.pydata.org\" target=\"_blank\" class=\"bk-logo bk-logo-small bk-logo-notebook\"></a>\n",
       "        <span id=\"656f7b08-5f44-4743-b732-3c272d54474a\">Loading BokehJS ...</span>\n",
       "    </div>"
      ]
     },
     "metadata": {},
     "output_type": "display_data"
    },
    {
     "data": {
      "application/javascript": [
       "\n",
       "(function(root) {\n",
       "  function now() {\n",
       "    return new Date();\n",
       "  }\n",
       "\n",
       "  var force = true;\n",
       "\n",
       "  if (typeof (root._bokeh_onload_callbacks) === \"undefined\" || force === true) {\n",
       "    root._bokeh_onload_callbacks = [];\n",
       "    root._bokeh_is_loading = undefined;\n",
       "  }\n",
       "\n",
       "  var JS_MIME_TYPE = 'application/javascript';\n",
       "  var HTML_MIME_TYPE = 'text/html';\n",
       "  var EXEC_MIME_TYPE = 'application/vnd.bokehjs_exec.v0+json';\n",
       "  var CLASS_NAME = 'output_bokeh rendered_html';\n",
       "\n",
       "  /**\n",
       "   * Render data to the DOM node\n",
       "   */\n",
       "  function render(props, node) {\n",
       "    var script = document.createElement(\"script\");\n",
       "    node.appendChild(script);\n",
       "  }\n",
       "\n",
       "  /**\n",
       "   * Handle when an output is cleared or removed\n",
       "   */\n",
       "  function handleClearOutput(event, handle) {\n",
       "    var cell = handle.cell;\n",
       "\n",
       "    var id = cell.output_area._bokeh_element_id;\n",
       "    var server_id = cell.output_area._bokeh_server_id;\n",
       "    // Clean up Bokeh references\n",
       "    if (id !== undefined) {\n",
       "      Bokeh.index[id].model.document.clear();\n",
       "      delete Bokeh.index[id];\n",
       "    }\n",
       "\n",
       "    if (server_id !== undefined) {\n",
       "      // Clean up Bokeh references\n",
       "      var cmd = \"from bokeh.io.state import curstate; print(curstate().uuid_to_server['\" + server_id + \"'].get_sessions()[0].document.roots[0]._id)\";\n",
       "      cell.notebook.kernel.execute(cmd, {\n",
       "        iopub: {\n",
       "          output: function(msg) {\n",
       "            var element_id = msg.content.text.trim();\n",
       "            Bokeh.index[element_id].model.document.clear();\n",
       "            delete Bokeh.index[element_id];\n",
       "          }\n",
       "        }\n",
       "      });\n",
       "      // Destroy server and session\n",
       "      var cmd = \"import bokeh.io.notebook as ion; ion.destroy_server('\" + server_id + \"')\";\n",
       "      cell.notebook.kernel.execute(cmd);\n",
       "    }\n",
       "  }\n",
       "\n",
       "  /**\n",
       "   * Handle when a new output is added\n",
       "   */\n",
       "  function handleAddOutput(event, handle) {\n",
       "    var output_area = handle.output_area;\n",
       "    var output = handle.output;\n",
       "\n",
       "    // limit handleAddOutput to display_data with EXEC_MIME_TYPE content only\n",
       "    if ((output.output_type != \"display_data\") || (!output.data.hasOwnProperty(EXEC_MIME_TYPE))) {\n",
       "      return\n",
       "    }\n",
       "\n",
       "    var toinsert = output_area.element.find(`.${CLASS_NAME.split(' ')[0]}`);\n",
       "\n",
       "    if (output.metadata[EXEC_MIME_TYPE][\"id\"] !== undefined) {\n",
       "      toinsert[0].firstChild.textContent = output.data[JS_MIME_TYPE];\n",
       "      // store reference to embed id on output_area\n",
       "      output_area._bokeh_element_id = output.metadata[EXEC_MIME_TYPE][\"id\"];\n",
       "    }\n",
       "    if (output.metadata[EXEC_MIME_TYPE][\"server_id\"] !== undefined) {\n",
       "      var bk_div = document.createElement(\"div\");\n",
       "      bk_div.innerHTML = output.data[HTML_MIME_TYPE];\n",
       "      var script_attrs = bk_div.children[0].attributes;\n",
       "      for (var i = 0; i < script_attrs.length; i++) {\n",
       "        toinsert[0].firstChild.setAttribute(script_attrs[i].name, script_attrs[i].value);\n",
       "      }\n",
       "      // store reference to server id on output_area\n",
       "      output_area._bokeh_server_id = output.metadata[EXEC_MIME_TYPE][\"server_id\"];\n",
       "    }\n",
       "  }\n",
       "\n",
       "  function register_renderer(events, OutputArea) {\n",
       "\n",
       "    function append_mime(data, metadata, element) {\n",
       "      // create a DOM node to render to\n",
       "      var toinsert = this.create_output_subarea(\n",
       "        metadata,\n",
       "        CLASS_NAME,\n",
       "        EXEC_MIME_TYPE\n",
       "      );\n",
       "      this.keyboard_manager.register_events(toinsert);\n",
       "      // Render to node\n",
       "      var props = {data: data, metadata: metadata[EXEC_MIME_TYPE]};\n",
       "      render(props, toinsert[0]);\n",
       "      element.append(toinsert);\n",
       "      return toinsert\n",
       "    }\n",
       "\n",
       "    /* Handle when an output is cleared or removed */\n",
       "    events.on('clear_output.CodeCell', handleClearOutput);\n",
       "    events.on('delete.Cell', handleClearOutput);\n",
       "\n",
       "    /* Handle when a new output is added */\n",
       "    events.on('output_added.OutputArea', handleAddOutput);\n",
       "\n",
       "    /**\n",
       "     * Register the mime type and append_mime function with output_area\n",
       "     */\n",
       "    OutputArea.prototype.register_mime_type(EXEC_MIME_TYPE, append_mime, {\n",
       "      /* Is output safe? */\n",
       "      safe: true,\n",
       "      /* Index of renderer in `output_area.display_order` */\n",
       "      index: 0\n",
       "    });\n",
       "  }\n",
       "\n",
       "  // register the mime type if in Jupyter Notebook environment and previously unregistered\n",
       "  if (root.Jupyter !== undefined) {\n",
       "    var events = require('base/js/events');\n",
       "    var OutputArea = require('notebook/js/outputarea').OutputArea;\n",
       "\n",
       "    if (OutputArea.prototype.mime_types().indexOf(EXEC_MIME_TYPE) == -1) {\n",
       "      register_renderer(events, OutputArea);\n",
       "    }\n",
       "  }\n",
       "\n",
       "  \n",
       "  if (typeof (root._bokeh_timeout) === \"undefined\" || force === true) {\n",
       "    root._bokeh_timeout = Date.now() + 5000;\n",
       "    root._bokeh_failed_load = false;\n",
       "  }\n",
       "\n",
       "  var NB_LOAD_WARNING = {'data': {'text/html':\n",
       "     \"<div style='background-color: #fdd'>\\n\"+\n",
       "     \"<p>\\n\"+\n",
       "     \"BokehJS does not appear to have successfully loaded. If loading BokehJS from CDN, this \\n\"+\n",
       "     \"may be due to a slow or bad network connection. Possible fixes:\\n\"+\n",
       "     \"</p>\\n\"+\n",
       "     \"<ul>\\n\"+\n",
       "     \"<li>re-rerun `output_notebook()` to attempt to load from CDN again, or</li>\\n\"+\n",
       "     \"<li>use INLINE resources instead, as so:</li>\\n\"+\n",
       "     \"</ul>\\n\"+\n",
       "     \"<code>\\n\"+\n",
       "     \"from bokeh.resources import INLINE\\n\"+\n",
       "     \"output_notebook(resources=INLINE)\\n\"+\n",
       "     \"</code>\\n\"+\n",
       "     \"</div>\"}};\n",
       "\n",
       "  function display_loaded() {\n",
       "    var el = document.getElementById(\"656f7b08-5f44-4743-b732-3c272d54474a\");\n",
       "    if (el != null) {\n",
       "      el.textContent = \"BokehJS is loading...\";\n",
       "    }\n",
       "    if (root.Bokeh !== undefined) {\n",
       "      if (el != null) {\n",
       "        el.textContent = \"BokehJS \" + root.Bokeh.version + \" successfully loaded.\";\n",
       "      }\n",
       "    } else if (Date.now() < root._bokeh_timeout) {\n",
       "      setTimeout(display_loaded, 100)\n",
       "    }\n",
       "  }\n",
       "\n",
       "\n",
       "  function run_callbacks() {\n",
       "    try {\n",
       "      root._bokeh_onload_callbacks.forEach(function(callback) { callback() });\n",
       "    }\n",
       "    finally {\n",
       "      delete root._bokeh_onload_callbacks\n",
       "    }\n",
       "    console.info(\"Bokeh: all callbacks have finished\");\n",
       "  }\n",
       "\n",
       "  function load_libs(js_urls, callback) {\n",
       "    root._bokeh_onload_callbacks.push(callback);\n",
       "    if (root._bokeh_is_loading > 0) {\n",
       "      console.log(\"Bokeh: BokehJS is being loaded, scheduling callback at\", now());\n",
       "      return null;\n",
       "    }\n",
       "    if (js_urls == null || js_urls.length === 0) {\n",
       "      run_callbacks();\n",
       "      return null;\n",
       "    }\n",
       "    console.log(\"Bokeh: BokehJS not loaded, scheduling load and callback at\", now());\n",
       "    root._bokeh_is_loading = js_urls.length;\n",
       "    for (var i = 0; i < js_urls.length; i++) {\n",
       "      var url = js_urls[i];\n",
       "      var s = document.createElement('script');\n",
       "      s.src = url;\n",
       "      s.async = false;\n",
       "      s.onreadystatechange = s.onload = function() {\n",
       "        root._bokeh_is_loading--;\n",
       "        if (root._bokeh_is_loading === 0) {\n",
       "          console.log(\"Bokeh: all BokehJS libraries loaded\");\n",
       "          run_callbacks()\n",
       "        }\n",
       "      };\n",
       "      s.onerror = function() {\n",
       "        console.warn(\"failed to load library \" + url);\n",
       "      };\n",
       "      console.log(\"Bokeh: injecting script tag for BokehJS library: \", url);\n",
       "      document.getElementsByTagName(\"head\")[0].appendChild(s);\n",
       "    }\n",
       "  };var element = document.getElementById(\"656f7b08-5f44-4743-b732-3c272d54474a\");\n",
       "  if (element == null) {\n",
       "    console.log(\"Bokeh: ERROR: autoload.js configured with elementid '656f7b08-5f44-4743-b732-3c272d54474a' but no matching script tag was found. \")\n",
       "    return false;\n",
       "  }\n",
       "\n",
       "  var js_urls = [\"https://cdn.pydata.org/bokeh/release/bokeh-0.12.10.min.js\", \"https://cdn.pydata.org/bokeh/release/bokeh-widgets-0.12.10.min.js\", \"https://cdn.pydata.org/bokeh/release/bokeh-tables-0.12.10.min.js\", \"https://cdn.pydata.org/bokeh/release/bokeh-gl-0.12.10.min.js\"];\n",
       "\n",
       "  var inline_js = [\n",
       "    function(Bokeh) {\n",
       "      Bokeh.set_log_level(\"info\");\n",
       "    },\n",
       "    \n",
       "    function(Bokeh) {\n",
       "      \n",
       "    },\n",
       "    function(Bokeh) {\n",
       "      console.log(\"Bokeh: injecting CSS: https://cdn.pydata.org/bokeh/release/bokeh-0.12.10.min.css\");\n",
       "      Bokeh.embed.inject_css(\"https://cdn.pydata.org/bokeh/release/bokeh-0.12.10.min.css\");\n",
       "      console.log(\"Bokeh: injecting CSS: https://cdn.pydata.org/bokeh/release/bokeh-widgets-0.12.10.min.css\");\n",
       "      Bokeh.embed.inject_css(\"https://cdn.pydata.org/bokeh/release/bokeh-widgets-0.12.10.min.css\");\n",
       "      console.log(\"Bokeh: injecting CSS: https://cdn.pydata.org/bokeh/release/bokeh-tables-0.12.10.min.css\");\n",
       "      Bokeh.embed.inject_css(\"https://cdn.pydata.org/bokeh/release/bokeh-tables-0.12.10.min.css\");\n",
       "    }\n",
       "  ];\n",
       "\n",
       "  function run_inline_js() {\n",
       "    \n",
       "    if ((root.Bokeh !== undefined) || (force === true)) {\n",
       "      for (var i = 0; i < inline_js.length; i++) {\n",
       "        inline_js[i].call(root, root.Bokeh);\n",
       "      }if (force === true) {\n",
       "        display_loaded();\n",
       "      }} else if (Date.now() < root._bokeh_timeout) {\n",
       "      setTimeout(run_inline_js, 100);\n",
       "    } else if (!root._bokeh_failed_load) {\n",
       "      console.log(\"Bokeh: BokehJS failed to load within specified timeout.\");\n",
       "      root._bokeh_failed_load = true;\n",
       "    } else if (force !== true) {\n",
       "      var cell = $(document.getElementById(\"656f7b08-5f44-4743-b732-3c272d54474a\")).parents('.cell').data().cell;\n",
       "      cell.output_area.append_execute_result(NB_LOAD_WARNING)\n",
       "    }\n",
       "\n",
       "  }\n",
       "\n",
       "  if (root._bokeh_is_loading === 0) {\n",
       "    console.log(\"Bokeh: BokehJS loaded, going straight to plotting\");\n",
       "    run_inline_js();\n",
       "  } else {\n",
       "    load_libs(js_urls, function() {\n",
       "      console.log(\"Bokeh: BokehJS plotting callback run at\", now());\n",
       "      run_inline_js();\n",
       "    });\n",
       "  }\n",
       "}(window));"
      ],
      "application/vnd.bokehjs_load.v0+json": "\n(function(root) {\n  function now() {\n    return new Date();\n  }\n\n  var force = true;\n\n  if (typeof (root._bokeh_onload_callbacks) === \"undefined\" || force === true) {\n    root._bokeh_onload_callbacks = [];\n    root._bokeh_is_loading = undefined;\n  }\n\n  \n\n  \n  if (typeof (root._bokeh_timeout) === \"undefined\" || force === true) {\n    root._bokeh_timeout = Date.now() + 5000;\n    root._bokeh_failed_load = false;\n  }\n\n  var NB_LOAD_WARNING = {'data': {'text/html':\n     \"<div style='background-color: #fdd'>\\n\"+\n     \"<p>\\n\"+\n     \"BokehJS does not appear to have successfully loaded. If loading BokehJS from CDN, this \\n\"+\n     \"may be due to a slow or bad network connection. Possible fixes:\\n\"+\n     \"</p>\\n\"+\n     \"<ul>\\n\"+\n     \"<li>re-rerun `output_notebook()` to attempt to load from CDN again, or</li>\\n\"+\n     \"<li>use INLINE resources instead, as so:</li>\\n\"+\n     \"</ul>\\n\"+\n     \"<code>\\n\"+\n     \"from bokeh.resources import INLINE\\n\"+\n     \"output_notebook(resources=INLINE)\\n\"+\n     \"</code>\\n\"+\n     \"</div>\"}};\n\n  function display_loaded() {\n    var el = document.getElementById(\"656f7b08-5f44-4743-b732-3c272d54474a\");\n    if (el != null) {\n      el.textContent = \"BokehJS is loading...\";\n    }\n    if (root.Bokeh !== undefined) {\n      if (el != null) {\n        el.textContent = \"BokehJS \" + root.Bokeh.version + \" successfully loaded.\";\n      }\n    } else if (Date.now() < root._bokeh_timeout) {\n      setTimeout(display_loaded, 100)\n    }\n  }\n\n\n  function run_callbacks() {\n    try {\n      root._bokeh_onload_callbacks.forEach(function(callback) { callback() });\n    }\n    finally {\n      delete root._bokeh_onload_callbacks\n    }\n    console.info(\"Bokeh: all callbacks have finished\");\n  }\n\n  function load_libs(js_urls, callback) {\n    root._bokeh_onload_callbacks.push(callback);\n    if (root._bokeh_is_loading > 0) {\n      console.log(\"Bokeh: BokehJS is being loaded, scheduling callback at\", now());\n      return null;\n    }\n    if (js_urls == null || js_urls.length === 0) {\n      run_callbacks();\n      return null;\n    }\n    console.log(\"Bokeh: BokehJS not loaded, scheduling load and callback at\", now());\n    root._bokeh_is_loading = js_urls.length;\n    for (var i = 0; i < js_urls.length; i++) {\n      var url = js_urls[i];\n      var s = document.createElement('script');\n      s.src = url;\n      s.async = false;\n      s.onreadystatechange = s.onload = function() {\n        root._bokeh_is_loading--;\n        if (root._bokeh_is_loading === 0) {\n          console.log(\"Bokeh: all BokehJS libraries loaded\");\n          run_callbacks()\n        }\n      };\n      s.onerror = function() {\n        console.warn(\"failed to load library \" + url);\n      };\n      console.log(\"Bokeh: injecting script tag for BokehJS library: \", url);\n      document.getElementsByTagName(\"head\")[0].appendChild(s);\n    }\n  };var element = document.getElementById(\"656f7b08-5f44-4743-b732-3c272d54474a\");\n  if (element == null) {\n    console.log(\"Bokeh: ERROR: autoload.js configured with elementid '656f7b08-5f44-4743-b732-3c272d54474a' but no matching script tag was found. \")\n    return false;\n  }\n\n  var js_urls = [\"https://cdn.pydata.org/bokeh/release/bokeh-0.12.10.min.js\", \"https://cdn.pydata.org/bokeh/release/bokeh-widgets-0.12.10.min.js\", \"https://cdn.pydata.org/bokeh/release/bokeh-tables-0.12.10.min.js\", \"https://cdn.pydata.org/bokeh/release/bokeh-gl-0.12.10.min.js\"];\n\n  var inline_js = [\n    function(Bokeh) {\n      Bokeh.set_log_level(\"info\");\n    },\n    \n    function(Bokeh) {\n      \n    },\n    function(Bokeh) {\n      console.log(\"Bokeh: injecting CSS: https://cdn.pydata.org/bokeh/release/bokeh-0.12.10.min.css\");\n      Bokeh.embed.inject_css(\"https://cdn.pydata.org/bokeh/release/bokeh-0.12.10.min.css\");\n      console.log(\"Bokeh: injecting CSS: https://cdn.pydata.org/bokeh/release/bokeh-widgets-0.12.10.min.css\");\n      Bokeh.embed.inject_css(\"https://cdn.pydata.org/bokeh/release/bokeh-widgets-0.12.10.min.css\");\n      console.log(\"Bokeh: injecting CSS: https://cdn.pydata.org/bokeh/release/bokeh-tables-0.12.10.min.css\");\n      Bokeh.embed.inject_css(\"https://cdn.pydata.org/bokeh/release/bokeh-tables-0.12.10.min.css\");\n    }\n  ];\n\n  function run_inline_js() {\n    \n    if ((root.Bokeh !== undefined) || (force === true)) {\n      for (var i = 0; i < inline_js.length; i++) {\n        inline_js[i].call(root, root.Bokeh);\n      }if (force === true) {\n        display_loaded();\n      }} else if (Date.now() < root._bokeh_timeout) {\n      setTimeout(run_inline_js, 100);\n    } else if (!root._bokeh_failed_load) {\n      console.log(\"Bokeh: BokehJS failed to load within specified timeout.\");\n      root._bokeh_failed_load = true;\n    } else if (force !== true) {\n      var cell = $(document.getElementById(\"656f7b08-5f44-4743-b732-3c272d54474a\")).parents('.cell').data().cell;\n      cell.output_area.append_execute_result(NB_LOAD_WARNING)\n    }\n\n  }\n\n  if (root._bokeh_is_loading === 0) {\n    console.log(\"Bokeh: BokehJS loaded, going straight to plotting\");\n    run_inline_js();\n  } else {\n    load_libs(js_urls, function() {\n      console.log(\"Bokeh: BokehJS plotting callback run at\", now());\n      run_inline_js();\n    });\n  }\n}(window));"
     },
     "metadata": {},
     "output_type": "display_data"
    }
   ],
   "source": [
    "import bokeh.models\n",
    "import bokeh.plotting as bk\n",
    "bk.output_notebook()"
   ]
  },
  {
   "cell_type": "code",
   "execution_count": 21,
   "metadata": {
    "collapsed": true
   },
   "outputs": [],
   "source": [
    "def evaluate_model(model, X, title='Model evaluation'):\n",
    "    X_pred = next_day_predictions(model, X)\n",
    "    p = bk.figure(\n",
    "        plot_width=800, plot_height=600,\n",
    "        title=title,\n",
    "        active_scroll='wheel_zoom')\n",
    "    truth = X.Close.cumsum()\n",
    "    pred = truth.shift(-1) + X_pred\n",
    "    pred = pred.shift(1)\n",
    "    p.line(X.index, truth, line_color='red', legend='Ground truth')\n",
    "    p.line(X.index, pred, line_color='gray', legend='Prediction')\n",
    "    bk.show(p)"
   ]
  },
  {
   "cell_type": "code",
   "execution_count": 22,
   "metadata": {},
   "outputs": [
    {
     "data": {
      "text/html": [
       "\n",
       "<div class=\"bk-root\">\n",
       "    <div class=\"bk-plotdiv\" id=\"9554db18-97c4-4597-8f91-e0400075d456\"></div>\n",
       "</div>"
      ]
     },
     "metadata": {},
     "output_type": "display_data"
    },
    {
     "data": {
      "application/javascript": [
       "(function(root) {\n",
       "  function embed_document(root) {\n",
       "    var docs_json = {\"457ffbe3-a887-4bbd-a24d-68159946c20c\":{\"roots\":{\"references\":[{\"attributes\":{},\"id\":\"58e3732b-d88f-4411-b300-bef69948077d\",\"type\":\"BasicTicker\"},{\"attributes\":{\"callback\":null,\"column_names\":[\"x\",\"y\"],\"data\":{\"x\":[0,1,2,3,4,5,6,7,8,9,10,11,12,13,14,15,16,17,18,19,20,21,22,23,24,25,26,27,28,29,30,31,32,33,34,35,36,37,38,39,40,41,42,43,44,45,46,47,48,49,50,51,52,53,54,55,56,57,58,59,60,61,62,63,64,65,66,67,68,69,70,71,72,73,74,75,76,77,78,79,80,81,82,83,84,85,86,87,88,89,90,91,92,93,94,95,96,97,98,99,100,101,102,103,104,105,106,107,108,109,110,111,112,113,114,115,116,117,118,119,120,121,122,123,124,125,126,127,128,129,130,131,132,133,134,135,136,137,138,139,140,141,142,143,144,145,146,147,148,149,150,151,152,153,154,155,156,157,158,159,160,161,162,163,164,165,166,167,168,169,170,171,172,173,174,175,176,177,178,179,180,181,182,183,184,185,186,187,188,189,190,191,192,193,194,195,196,197,198,199,200,201,202,203,204,205,206,207,208,209,210,211,212,213,214,215,216,217,218,219,220,221,222,223,224,225,226,227,228,229,230,231,232,233,234,235,236,237,238,239,240,241,242,243,244,245,246,247,248,249,250,251,252,253,254,255,256,257,258,259,260,261,262,263,264,265,266,267,268,269,270,271,272,273,274,275,276,277,278,279,280,281,282,283,284,285,286,287,288,289,290,291,292,293,294,295,296,297,298,299,300,301,302,303,304,305,306,307,308,309,310,311,312,313,314,315,316,317,318,319,320,321,322,323,324,325,326,327,328,329,330,331,332,333,334,335,336,337,338,339,340,341,342,343,344,345,346,347,348,349,350,351,352,353,354,355,356,357,358,359,360,361,362,363,364,365,366,367,368,369,370,371,372,373,374,375,376,377,378,379,380,381,382,383,384,385,386,387,388,389,390,391,392,393,394,395,396,397,398,399,400,401,402,403,404,405,406,407,408,409,410,411,412,413,414,415,416,417,418,419,420,421,422,423,424,425,426,427,428,429,430,431,432,433,434,435,436,437,438,439,440,441,442,443,444,445,446,447,448,449,450,451,452,453,454,455,456,457,458,459,460,461,462,463,464,465,466,467,468,469,470,471,472,473,474,475,476,477,478,479,480,481,482,483,484,485,486,487,488,489,490,491,492,493,494,495,496,497,498,499,500,501,502,503,504,505,506,507,508,509,510,511,512,513,514,515,516,517,518,519,520,521,522,523,524,525,526,527,528,529,530,531,532,533,534,535,536,537,538,539,540,541,542,543,544,545,546,547,548,549,550,551,552,553,554,555,556,557,558,559,560,561,562,563,564,565,566,567,568,569,570,571,572,573,574,575,576,577,578,579,580,581,582,583,584,585,586,587,588,589,590,591,592,593,594,595,596,597,598,599,600,601,602,603,604,605,606,607,608,609,610,611,612,613,614,615,616,617,618,619,620,621,622,623,624,625,626,627,628,629,630,631,632,633,634,635,636,637,638,639,640,641,642,643,644,645,646,647,648,649,650,651,652,653,654,655,656,657,658,659,660,661,662,663,664,665,666,667,668,669,670,671,672,673,674,675,676,677,678,679,680,681,682,683,684,685,686,687,688,689,690,691,692,693,694,695,696,697,698,699,700,701,702,703,704,705,706,707,708,709,710,711,712,713,714,715,716,717,718,719,720,721,722,723,724,725,726,727,728,729,730,731,732,733,734,735,736,737,738,739,740,741,742,743,744,745,746,747,748,749,750,751,752,753,754,755,756,757,758,759,760,761,762,763,764,765,766,767,768,769,770,771,772,773,774,775,776,777,778,779,780,781,782,783,784,785,786,787,788,789,790,791,792,793,794,795,796,797,798,799,800,801,802,803,804,805,806,807,808,809,810,811,812,813,814,815,816,817,818,819,820,821,822,823,824,825,826,827,828,829,830,831,832,833,834,835,836,837,838,839,840,841,842,843,844,845,846,847,848,849,850,851,852,853,854,855,856,857,858,859,860,861,862,863,864,865,866,867,868,869,870,871,872,873,874,875,876,877,878,879,880,881,882,883,884,885,886,887,888,889,890,891,892,893,894,895,896,897,898,899,900,901,902,903,904,905,906,907,908,909,910,911,912,913,914,915,916,917,918,919,920,921,922,923,924,925,926,927,928,929,930,931,932,933,934,935,936,937,938,939,940,941,942,943,944,945,946,947,948,949,950,951,952,953,954,955,956,957,958,959,960,961,962,963,964,965,966,967,968,969,970,971,972,973,974,975,976,977,978,979,980,981,982,983,984,985,986,987,988,989,990,991,992,993,994,995,996,997,998,999,1000,1001,1002,1003,1004,1005,1006,1007,1008,1009,1010,1011,1012,1013,1014,1015,1016,1017,1018,1019,1020,1021,1022,1023,1024,1025,1026,1027,1028,1029,1030,1031,1032,1033,1034,1035,1036,1037,1038,1039,1040,1041,1042,1043,1044,1045,1046,1047,1048,1049,1050,1051,1052,1053,1054,1055,1056,1057,1058,1059,1060,1061,1062,1063,1064,1065,1066,1067,1068,1069,1070,1071,1072,1073,1074,1075,1076,1077,1078,1079,1080,1081,1082,1083,1084,1085,1086,1087,1088,1089,1090,1091,1092,1093,1094,1095,1096,1097,1098,1099,1100,1101,1102,1103,1104,1105,1106,1107,1108,1109,1110,1111,1112,1113,1114,1115,1116,1117,1118,1119,1120,1121,1122,1123,1124,1125,1126,1127,1128,1129,1130,1131,1132,1133,1134,1135,1136,1137,1138,1139,1140,1141,1142,1143,1144,1145,1146,1147,1148,1149,1150,1151,1152,1153,1154,1155,1156,1157,1158,1159,1160,1161,1162,1163,1164,1165,1166,1167,1168,1169,1170,1171,1172,1173,1174,1175,1176,1177,1178,1179,1180,1181,1182,1183,1184,1185,1186,1187,1188,1189,1190,1191,1192,1193,1194,1195,1196,1197,1198,1199,1200,1201,1202,1203,1204,1205,1206,1207,1208,1209,1210,1211,1212,1213,1214,1215,1216,1217,1218,1219,1220,1221,1222,1223,1224,1225,1226,1227,1228,1229,1230,1231,1232,1233,1234,1235,1236,1237,1238,1239,1240,1241,1242,1243,1244,1245,1246,1247,1248,1249,1250,1251,1252,1253,1254,1255,1256,1257,1258,1259,1260,1261,1262,1263,1264,1265,1266,1267,1268,1269,1270,1271,1272,1273,1274,1275,1276,1277,1278,1279,1280,1281,1282,1283,1284,1285,1286,1287,1288,1289,1290,1291,1292,1293,1294,1295,1296,1297,1298,1299,1300,1301,1302,1303,1304,1305,1306,1307,1308,1309,1310,1311,1312,1313,1314],\"y\":{\"__ndarray__\":\"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\",\"dtype\":\"float64\",\"shape\":[1315]}}},\"id\":\"a7b449d1-0f98-45ae-870f-653bf083ab91\",\"type\":\"ColumnDataSource\"},{\"attributes\":{\"below\":[{\"id\":\"74ccc526-e140-48ca-8b01-84b1bf048f45\",\"type\":\"LinearAxis\"}],\"left\":[{\"id\":\"dbf0ff47-4ea2-4b8f-9dc5-17039260b128\",\"type\":\"LinearAxis\"}],\"plot_width\":800,\"renderers\":[{\"id\":\"74ccc526-e140-48ca-8b01-84b1bf048f45\",\"type\":\"LinearAxis\"},{\"id\":\"8fb80ea2-314a-4a6d-8561-536e088e2ea8\",\"type\":\"Grid\"},{\"id\":\"dbf0ff47-4ea2-4b8f-9dc5-17039260b128\",\"type\":\"LinearAxis\"},{\"id\":\"ba5843c1-f379-47f6-a80a-bc6df91337b6\",\"type\":\"Grid\"},{\"id\":\"c299ac16-5771-47bf-a750-80bc1fc2502b\",\"type\":\"BoxAnnotation\"},{\"id\":\"06ecfd84-d4f8-47dd-9f2f-6602d04217e0\",\"type\":\"Legend\"},{\"id\":\"2d049b9e-426d-4021-a088-838fe75cdc74\",\"type\":\"GlyphRenderer\"},{\"id\":\"b479214d-66bd-470d-a28c-36cd08439180\",\"type\":\"GlyphRenderer\"}],\"title\":{\"id\":\"94960917-c01d-4d58-b252-4e1a9ef8de4b\",\"type\":\"Title\"},\"toolbar\":{\"id\":\"60d7f8e9-8996-484d-ab46-89b1e135df00\",\"type\":\"Toolbar\"},\"x_range\":{\"id\":\"4cf46358-e692-47ce-8eff-c7c513b11881\",\"type\":\"DataRange1d\"},\"x_scale\":{\"id\":\"06fff23e-dfff-4710-b333-3d2395c275d0\",\"type\":\"LinearScale\"},\"y_range\":{\"id\":\"5db31d28-76a7-40d4-a388-c79e4db6f41f\",\"type\":\"DataRange1d\"},\"y_scale\":{\"id\":\"283de4ca-f089-4385-8b1f-f87cdc93016c\",\"type\":\"LinearScale\"}},\"id\":\"fb73fcb7-dded-4fa3-b455-a12b7d4636f6\",\"subtype\":\"Figure\",\"type\":\"Plot\"},{\"attributes\":{\"line_alpha\":{\"value\":0.1},\"line_color\":{\"value\":\"#1f77b4\"},\"x\":{\"field\":\"x\"},\"y\":{\"field\":\"y\"}},\"id\":\"1ce3db80-c735-4c35-8794-7cf101248029\",\"type\":\"Line\"},{\"attributes\":{\"plot\":null,\"text\":\"Model evaluation on the train set\"},\"id\":\"94960917-c01d-4d58-b252-4e1a9ef8de4b\",\"type\":\"Title\"},{\"attributes\":{\"dimension\":1,\"plot\":{\"id\":\"fb73fcb7-dded-4fa3-b455-a12b7d4636f6\",\"subtype\":\"Figure\",\"type\":\"Plot\"},\"ticker\":{\"id\":\"2d03c893-cd0d-4ca0-88ca-4f75090ee6b8\",\"type\":\"BasicTicker\"}},\"id\":\"ba5843c1-f379-47f6-a80a-bc6df91337b6\",\"type\":\"Grid\"},{\"attributes\":{\"callback\":null},\"id\":\"5db31d28-76a7-40d4-a388-c79e4db6f41f\",\"type\":\"DataRange1d\"},{\"attributes\":{\"formatter\":{\"id\":\"de3736c6-fbe0-4f1e-802f-bdb9d831b668\",\"type\":\"BasicTickFormatter\"},\"plot\":{\"id\":\"fb73fcb7-dded-4fa3-b455-a12b7d4636f6\",\"subtype\":\"Figure\",\"type\":\"Plot\"},\"ticker\":{\"id\":\"58e3732b-d88f-4411-b300-bef69948077d\",\"type\":\"BasicTicker\"}},\"id\":\"74ccc526-e140-48ca-8b01-84b1bf048f45\",\"type\":\"LinearAxis\"},{\"attributes\":{\"items\":[{\"id\":\"95314d67-d586-4254-a9ee-0123e7b71c88\",\"type\":\"LegendItem\"},{\"id\":\"a44cba99-1958-4350-82db-c0b0eb29dc34\",\"type\":\"LegendItem\"}],\"plot\":{\"id\":\"fb73fcb7-dded-4fa3-b455-a12b7d4636f6\",\"subtype\":\"Figure\",\"type\":\"Plot\"}},\"id\":\"06ecfd84-d4f8-47dd-9f2f-6602d04217e0\",\"type\":\"Legend\"},{\"attributes\":{\"line_alpha\":{\"value\":0.1},\"line_color\":{\"value\":\"#1f77b4\"},\"x\":{\"field\":\"x\"},\"y\":{\"field\":\"y\"}},\"id\":\"cac45f9d-a1a8-4fd8-8a3a-42c04300a8b0\",\"type\":\"Line\"},{\"attributes\":{},\"id\":\"73408cbb-47bc-42fc-a5f5-fd7c88ba8c6c\",\"type\":\"SaveTool\"},{\"attributes\":{\"source\":{\"id\":\"76306a51-f550-404b-9979-a7347d31a059\",\"type\":\"ColumnDataSource\"}},\"id\":\"b377732b-859f-4ec8-ba6d-b8556caf6e9a\",\"type\":\"CDSView\"},{\"attributes\":{\"label\":{\"value\":\"Prediction\"},\"renderers\":[{\"id\":\"b479214d-66bd-470d-a28c-36cd08439180\",\"type\":\"GlyphRenderer\"}]},\"id\":\"a44cba99-1958-4350-82db-c0b0eb29dc34\",\"type\":\"LegendItem\"},{\"attributes\":{},\"id\":\"6f83ecc9-6cff-4ffd-a1ab-223f13647f41\",\"type\":\"WheelZoomTool\"},{\"attributes\":{\"line_color\":{\"value\":\"gray\"},\"x\":{\"field\":\"x\"},\"y\":{\"field\":\"y\"}},\"id\":\"ec1c8737-874f-429a-bcd5-02542c2f99d3\",\"type\":\"Line\"},{\"attributes\":{\"active_drag\":\"auto\",\"active_inspect\":\"auto\",\"active_scroll\":{\"id\":\"6f83ecc9-6cff-4ffd-a1ab-223f13647f41\",\"type\":\"WheelZoomTool\"},\"active_tap\":\"auto\",\"tools\":[{\"id\":\"4945c76d-d75b-4fee-b257-07f72d029c66\",\"type\":\"PanTool\"},{\"id\":\"6f83ecc9-6cff-4ffd-a1ab-223f13647f41\",\"type\":\"WheelZoomTool\"},{\"id\":\"29303e3f-73d0-4343-aedf-d9c9e20ae8a0\",\"type\":\"BoxZoomTool\"},{\"id\":\"73408cbb-47bc-42fc-a5f5-fd7c88ba8c6c\",\"type\":\"SaveTool\"},{\"id\":\"0ebfde47-4214-4c0d-b4ec-18972669e9a4\",\"type\":\"ResetTool\"},{\"id\":\"60c13680-1dd4-43d4-8e89-5a2409bd42ee\",\"type\":\"HelpTool\"}]},\"id\":\"60d7f8e9-8996-484d-ab46-89b1e135df00\",\"type\":\"Toolbar\"},{\"attributes\":{\"bottom_units\":\"screen\",\"fill_alpha\":{\"value\":0.5},\"fill_color\":{\"value\":\"lightgrey\"},\"left_units\":\"screen\",\"level\":\"overlay\",\"line_alpha\":{\"value\":1.0},\"line_color\":{\"value\":\"black\"},\"line_dash\":[4,4],\"line_width\":{\"value\":2},\"plot\":null,\"render_mode\":\"css\",\"right_units\":\"screen\",\"top_units\":\"screen\"},\"id\":\"c299ac16-5771-47bf-a750-80bc1fc2502b\",\"type\":\"BoxAnnotation\"},{\"attributes\":{\"source\":{\"id\":\"a7b449d1-0f98-45ae-870f-653bf083ab91\",\"type\":\"ColumnDataSource\"}},\"id\":\"2e8328ea-725c-4be2-84e9-fd9ae5cb760a\",\"type\":\"CDSView\"},{\"attributes\":{},\"id\":\"2d03c893-cd0d-4ca0-88ca-4f75090ee6b8\",\"type\":\"BasicTicker\"},{\"attributes\":{\"data_source\":{\"id\":\"76306a51-f550-404b-9979-a7347d31a059\",\"type\":\"ColumnDataSource\"},\"glyph\":{\"id\":\"ec1c8737-874f-429a-bcd5-02542c2f99d3\",\"type\":\"Line\"},\"hover_glyph\":null,\"muted_glyph\":null,\"nonselection_glyph\":{\"id\":\"1ce3db80-c735-4c35-8794-7cf101248029\",\"type\":\"Line\"},\"selection_glyph\":null,\"view\":{\"id\":\"b377732b-859f-4ec8-ba6d-b8556caf6e9a\",\"type\":\"CDSView\"}},\"id\":\"b479214d-66bd-470d-a28c-36cd08439180\",\"type\":\"GlyphRenderer\"},{\"attributes\":{\"callback\":null},\"id\":\"4cf46358-e692-47ce-8eff-c7c513b11881\",\"type\":\"DataRange1d\"},{\"attributes\":{},\"id\":\"de3736c6-fbe0-4f1e-802f-bdb9d831b668\",\"type\":\"BasicTickFormatter\"},{\"attributes\":{},\"id\":\"1663fd62-0384-4989-a04a-e63e5483edd1\",\"type\":\"BasicTickFormatter\"},{\"attributes\":{},\"id\":\"06fff23e-dfff-4710-b333-3d2395c275d0\",\"type\":\"LinearScale\"},{\"attributes\":{\"data_source\":{\"id\":\"a7b449d1-0f98-45ae-870f-653bf083ab91\",\"type\":\"ColumnDataSource\"},\"glyph\":{\"id\":\"93a0bfe7-6251-410a-9180-20d16f4ab9e7\",\"type\":\"Line\"},\"hover_glyph\":null,\"muted_glyph\":null,\"nonselection_glyph\":{\"id\":\"cac45f9d-a1a8-4fd8-8a3a-42c04300a8b0\",\"type\":\"Line\"},\"selection_glyph\":null,\"view\":{\"id\":\"2e8328ea-725c-4be2-84e9-fd9ae5cb760a\",\"type\":\"CDSView\"}},\"id\":\"2d049b9e-426d-4021-a088-838fe75cdc74\",\"type\":\"GlyphRenderer\"},{\"attributes\":{\"formatter\":{\"id\":\"1663fd62-0384-4989-a04a-e63e5483edd1\",\"type\":\"BasicTickFormatter\"},\"plot\":{\"id\":\"fb73fcb7-dded-4fa3-b455-a12b7d4636f6\",\"subtype\":\"Figure\",\"type\":\"Plot\"},\"ticker\":{\"id\":\"2d03c893-cd0d-4ca0-88ca-4f75090ee6b8\",\"type\":\"BasicTicker\"}},\"id\":\"dbf0ff47-4ea2-4b8f-9dc5-17039260b128\",\"type\":\"LinearAxis\"},{\"attributes\":{\"callback\":null,\"column_names\":[\"x\",\"y\"],\"data\":{\"x\":[0,1,2,3,4,5,6,7,8,9,10,11,12,13,14,15,16,17,18,19,20,21,22,23,24,25,26,27,28,29,30,31,32,33,34,35,36,37,38,39,40,41,42,43,44,45,46,47,48,49,50,51,52,53,54,55,56,57,58,59,60,61,62,63,64,65,66,67,68,69,70,71,72,73,74,75,76,77,78,79,80,81,82,83,84,85,86,87,88,89,90,91,92,93,94,95,96,97,98,99,100,101,102,103,104,105,106,107,108,109,110,111,112,113,114,115,116,117,118,119,120,121,122,123,124,125,126,127,128,129,130,131,132,133,134,135,136,137,138,139,140,141,142,143,144,145,146,147,148,149,150,151,152,153,154,155,156,157,158,159,160,161,162,163,164,165,166,167,168,169,170,171,172,173,174,175,176,177,178,179,180,181,182,183,184,185,186,187,188,189,190,191,192,193,194,195,196,197,198,199,200,201,202,203,204,205,206,207,208,209,210,211,212,213,214,215,216,217,218,219,220,221,222,223,224,225,226,227,228,229,230,231,232,233,234,235,236,237,238,239,240,241,242,243,244,245,246,247,248,249,250,251,252,253,254,255,256,257,258,259,260,261,262,263,264,265,266,267,268,269,270,271,272,273,274,275,276,277,278,279,280,281,282,283,284,285,286,287,288,289,290,291,292,293,294,295,296,297,298,299,300,301,302,303,304,305,306,307,308,309,310,311,312,313,314,315,316,317,318,319,320,321,322,323,324,325,326,327,328,329,330,331,332,333,334,335,336,337,338,339,340,341,342,343,344,345,346,347,348,349,350,351,352,353,354,355,356,357,358,359,360,361,362,363,364,365,366,367,368,369,370,371,372,373,374,375,376,377,378,379,380,381,382,383,384,385,386,387,388,389,390,391,392,393,394,395,396,397,398,399,400,401,402,403,404,405,406,407,408,409,410,411,412,413,414,415,416,417,418,419,420,421,422,423,424,425,426,427,428,429,430,431,432,433,434,435,436,437,438,439,440,441,442,443,444,445,446,447,448,449,450,451,452,453,454,455,456,457,458,459,460,461,462,463,464,465,466,467,468,469,470,471,472,473,474,475,476,477,478,479,480,481,482,483,484,485,486,487,488,489,490,491,492,493,494,495,496,497,498,499,500,501,502,503,504,505,506,507,508,509,510,511,512,513,514,515,516,517,518,519,520,521,522,523,524,525,526,527,528,529,530,531,532,533,534,535,536,537,538,539,540,541,542,543,544,545,546,547,548,549,550,551,552,553,554,555,556,557,558,559,560,561,562,563,564,565,566,567,568,569,570,571,572,573,574,575,576,577,578,579,580,581,582,583,584,585,586,587,588,589,590,591,592,593,594,595,596,597,598,599,600,601,602,603,604,605,606,607,608,609,610,611,612,613,614,615,616,617,618,619,620,621,622,623,624,625,626,627,628,629,630,631,632,633,634,635,636,637,638,639,640,641,642,643,644,645,646,647,648,649,650,651,652,653,654,655,656,657,658,659,660,661,662,663,664,665,666,667,668,669,670,671,672,673,674,675,676,677,678,679,680,681,682,683,684,685,686,687,688,689,690,691,692,693,694,695,696,697,698,699,700,701,702,703,704,705,706,707,708,709,710,711,712,713,714,715,716,717,718,719,720,721,722,723,724,725,726,727,728,729,730,731,732,733,734,735,736,737,738,739,740,741,742,743,744,745,746,747,748,749,750,751,752,753,754,755,756,757,758,759,760,761,762,763,764,765,766,767,768,769,770,771,772,773,774,775,776,777,778,779,780,781,782,783,784,785,786,787,788,789,790,791,792,793,794,795,796,797,798,799,800,801,802,803,804,805,806,807,808,809,810,811,812,813,814,815,816,817,818,819,820,821,822,823,824,825,826,827,828,829,830,831,832,833,834,835,836,837,838,839,840,841,842,843,844,845,846,847,848,849,850,851,852,853,854,855,856,857,858,859,860,861,862,863,864,865,866,867,868,869,870,871,872,873,874,875,876,877,878,879,880,881,882,883,884,885,886,887,888,889,890,891,892,893,894,895,896,897,898,899,900,901,902,903,904,905,906,907,908,909,910,911,912,913,914,915,916,917,918,919,920,921,922,923,924,925,926,927,928,929,930,931,932,933,934,935,936,937,938,939,940,941,942,943,944,945,946,947,948,949,950,951,952,953,954,955,956,957,958,959,960,961,962,963,964,965,966,967,968,969,970,971,972,973,974,975,976,977,978,979,980,981,982,983,984,985,986,987,988,989,990,991,992,993,994,995,996,997,998,999,1000,1001,1002,1003,1004,1005,1006,1007,1008,1009,1010,1011,1012,1013,1014,1015,1016,1017,1018,1019,1020,1021,1022,1023,1024,1025,1026,1027,1028,1029,1030,1031,1032,1033,1034,1035,1036,1037,1038,1039,1040,1041,1042,1043,1044,1045,1046,1047,1048,1049,1050,1051,1052,1053,1054,1055,1056,1057,1058,1059,1060,1061,1062,1063,1064,1065,1066,1067,1068,1069,1070,1071,1072,1073,1074,1075,1076,1077,1078,1079,1080,1081,1082,1083,1084,1085,1086,1087,1088,1089,1090,1091,1092,1093,1094,1095,1096,1097,1098,1099,1100,1101,1102,1103,1104,1105,1106,1107,1108,1109,1110,1111,1112,1113,1114,1115,1116,1117,1118,1119,1120,1121,1122,1123,1124,1125,1126,1127,1128,1129,1130,1131,1132,1133,1134,1135,1136,1137,1138,1139,1140,1141,1142,1143,1144,1145,1146,1147,1148,1149,1150,1151,1152,1153,1154,1155,1156,1157,1158,1159,1160,1161,1162,1163,1164,1165,1166,1167,1168,1169,1170,1171,1172,1173,1174,1175,1176,1177,1178,1179,1180,1181,1182,1183,1184,1185,1186,1187,1188,1189,1190,1191,1192,1193,1194,1195,1196,1197,1198,1199,1200,1201,1202,1203,1204,1205,1206,1207,1208,1209,1210,1211,1212,1213,1214,1215,1216,1217,1218,1219,1220,1221,1222,1223,1224,1225,1226,1227,1228,1229,1230,1231,1232,1233,1234,1235,1236,1237,1238,1239,1240,1241,1242,1243,1244,1245,1246,1247,1248,1249,1250,1251,1252,1253,1254,1255,1256,1257,1258,1259,1260,1261,1262,1263,1264,1265,1266,1267,1268,1269,1270,1271,1272,1273,1274,1275,1276,1277,1278,1279,1280,1281,1282,1283,1284,1285,1286,1287,1288,1289,1290,1291,1292,1293,1294,1295,1296,1297,1298,1299,1300,1301,1302,1303,1304,1305,1306,1307,1308,1309,1310,1311,1312,1313,1314],\"y\":{\"__ndarray__\":\"AAAAAAAA+H8A3xtDAPD1vwCqRxrcXiLAAAwEATI4MMDgcFga+JEowABMNh5seSnA4B1SDJAEMsCw6bMDrrMzwMArgv+tVDLAYFFKCFY5N8AgCtgORnAzwMBFmQ0yBTfAQJGZC1y+NcAgZcQFoA9DwCiGqwMgjEXAIA5LhxL3QsCgpMB6Ln5HwJBK6o0Rs0fA2G9f4UnHScBg+tCZIphFwBixTwIBgkbAuP6W5Ia0R8CIrn2GHgRIwMh8ec4yGUjAOFabduw1RsA4HJamT4RHwBg+W70I5UXAwL4Pp1erS8D45JoemrFFwLhbkgNd+EbAgHsQ67QIRcCY1NBigxpGwGBzR8rTekXAuAQZQlcjRMCYZU+Qq0xHwCieszfrlUjAQD19AKEGR8D4WZ7HUNRKwCg7NhoAT0TAOK2U8hniRMAQ8+XF6YlEwKiYvJ2vLkDAsFGd/nGmOsCQVu4r5vU+wBAj9ilmvT/AUDF5YUyEOMBQFTadNGo1wEDulK4T7jzAmIlbLRBOQsAg2sesF+c+wBBo6SKRUjrAOFwdxIU0QcA4FhRXcCFBwFjTZ5nIckDAeHWOJMmKQsAQiuYG2F9BwICfHPXHwznAcFSnBX5gQcDgS1MlPQQ/wJDX9UNshDnAMNR9XMowPMDwaP8V4wM9wFAT71g7PEHAANUjIYYFPMAgodhkf4s+wLANwEw0cTvAoLZGcCZTQMBQdmyenN85wMAWn7h6lTXAADAQPNz2NcCgw3sugUIpwDitFEtqokPAAPqN7BgRQ8Cg4NRniWI5wIC0/+GK4EXAkErqJJ8rRsDgM0vWsctFwNhp3TYHz0XAIPDADSVbR8BQXmTaFkFGwMgw7mF+9kfAoFlLQYI/RsBwckG70ONHwOAhxdTCLE7A/DsUjWB1SsCqpE7IfylRwI4XCxPRMFHAgLqBfHbjSsD4RNexlkZOwE46yr1aelDAKK34VnXDRcCI8C+Mn3NOwEgxiTTgdk3AQOaD0WQRUMASeGCsDPxQwMKRQJ8a2lPAOHo1ggtFUcCwvOQLY8RUwD7yB1vNXVHAjOqtJ3TuU8AABoKHl3tRwBCTqV4La0/A+NIUkT/UUsDyw8FnK8VQwMSdRBTZjkvA4B6E4nAeUcDEiP0E78NRwPwpDjGEXVHAQhAg42TBUcDKkc7YurFSwLpYUaOSp1LAJE38xPPjUcD06pzsxTFQwKjydpA660zAcF1qagpET8A8qtOJdlROwOQ/3dAITVDAsLxk+SYRUcA4nk/kS0FSwDRcHSNCllLAPJhNTQkKVMBmG0BQ/i9TwH6fKhogUVXADGCqPSiIVsD25JoyfTJVwL5DCp9he1fAoHQimdFvWMAUpT2tg7NVwDrXMK52u1XARPgXqx/oUsAITrb2GkVTwF6pZ10oalDAsM5qrdgmT8DkeD60jWRRwNDZAjCGi1PACEIypWg9VMByReKJRqFRwL5nJCZH1lPARA3fpyt/UsBKUtLM4hNQwPT5YexdLE/AKmXS9v4sUMCS9j/LXtFQwAxgyuCk9lDAAjyi/G8/UMBOauhc5ltRwP7n6aDAXFHAfOqRcPF1TcB4nxx99fxOwIiluna0iU/AVFjiIW2RTMBw66c7EKdLwPbYlgFbI1HAGrSQ0LHsUcDkb3tErpRQwMqakScfL1LAEqvHv9nuUMAKctB6ARNSwGLHf8/aQlTAUlJg5RsDU8DaRVFhgeFTwLDvwyrst1bAXuLIkM9xVcCaMnD41kdWwMhtNPP2RVXAEnuhuKRbVMBKUtI2z6pWwC6AKa3LS1TAqLkVfNOjU8ACA0FkhZhUwIrnbE9LSlTAAAlDmagOU8AKZgwG0pFSwOhXc9JLBlTAqt2vsOSuUcAc3qyEdL1SwLDyhH0dElLAuhyvdwU+UsC6HC9HVDVRwAxF84DLL03A2GndDn8/TsBAChDH+Y9MwKzabmje6kvAUBPvqJ5SRsAgd0pn3lpJwNj6W1YxoEvAULXtf6GbSMBQamhmw1lJwKiePhBq0UnA0BjmiHkPS8Agq93B8PBFwLDXLYrA40XA2NZPXqiFSMCIC3lGhW9FwFB2bMSrg0PAaGyv25oHRcCYj90hN3VGwAg/cey4BETAILr2xSz4JMDAmbU8hy4TwOCEQjT2wzfAAPRujN+yFsAAxFvnnE3wPwBSgLTgZBvAgLkz82PLIsBAM4iv0d8nwCCrzb+f6yXAAC2yHcdsCECw374u96oxwAArMrKDNBDAgA/seAfEA0Agw9WBSyMgwCBUjJNhpytAgJm41Qg2CcAAAJE2d8idPwCy1HoIAec/AJcgpS+a/r/AxacEgl4WwICxvR65DyLAQHmR+NiCMMBQDFcfwW0ywAB1AwV3/TLAwK2fvszOKsDAAKaUg5kswACZDzObLzHA8Js0vVwSMMBAxxDAJ2AmwABfCgFDSzPAwDmVnGmdO8CgyEyrBoxBwPDwniOu60DAwGNb/pPuM8Bw8Sl4Nm1DwKB31coAYTfAAFDhSNJfMcBAcLKFanctwABiL5QykC3A4EJ0+OavKMAAAg+4SaQvwGCSAluoiirAANvdLXbLM8BQA3jTgzE1wKDhzRq1ry7A4IRCVFsJOMAAtvv/NHEnwMDVOR7MNSPAgPW3rANqKcDAjJvieJIjwGCPbZmebSfAYFs/2YeyLMCga9HmrVcqwDAnhHjg1DDA4E1ioG4/I8BgG4DNJFwkwEA1tPG5WybAwAThSqlaEcAACstuFxYUwICkhggOhBnAgJOLIWOVDsAA86gYb2oEwKCmzx7yjyTAAEn7v03R+b+AC87QjSoTQADUAN6Fl9i/ALwlGaY2+r9AUb0VxeQcwEDF5H3hOhTAAKgbWOVgCcCAuTOzHsIgwCBR90G4uyLAwPOLoo58JcDg/nkmuV0mwICWI+QGhgvAgJ/fV4XbDcAgf9sXrFEkwCC4ymtVVSPAgAYnIpZBAEAA3xgSwzIPwABzZ04XShPAAApL7LJAGMAAHlIszMURwEANGsrGXxBAAJROpNDnFMAA+MaQ2Fv4vwBQXmSmF7y/AGCO3tmB9T9AZ9MpscwdwAArMrKHuR/AQDW0gZGhEsDgfXKI0tEhwMCvkbyf1R3AoJDWvMTuJsAApgxsND8lwEAAxstEnh3AAIFHakbUKcDgnEoWkiA3wIDcKa3yXSvAIDv+e1lALsCgyMxVg0o6wADqBsr89jTAgJMYXLdLP8AQO/5bTNE+wJBi8hZpjT7AIHdKAo54QMCAevoOqak+wLCXxnY5DznA0Ih9VJb9OcCQqPv/Q3M1wKCF6FCKxy3AsJi8wVLBPMCw07rzjJs6wABQ4b5bpDTAkNXmJ0dnNcDwYkU78Vo1wBAt66ST8DLAMCmwSEl3NcBwLCgypF09wBBd+1p/+TbAYFFK6oaaNcDA0JWIn8Q7wDDvqguA8zrAsN2v1l48PcDwmSWpYeA1wECzlhifJzbACF37IlwNSsBwtyT7QS5KwHgkl6erjULAMN0kalW5S8Ao5Lwzp0RKwMCsiY+yfUnAWKnZjDU8R8DQo+InIpJDwJBK6hjH60TASNr/VYwMRcBQamjjCgtCwBgmUx43zkbAiPNwmrymSMCwHCFrun5EwGC+vAh4FE7A2OjVe1pxRsCgvMjD4T5EwDhcHXsZyEbAwDeGZZNORsBIJTWftP1HwDCSr/jknUvAiK59EjLyRsCoAfylpj9IwEgf83VHNEnA+OSaWluASMCYDtb7BFdKwDgclnav8EjAgLT/6e//SsAIrvJb60RLwDinkkH2OU3A4JBGaSPZRsAIb4F9bONIwHBUp/6mqUjAqIC08/KgR8DAmgM925lKwJDhampyV0rAeKUerMj5SsAQct4WDgpMwMA3hsAuzE3A0DDuqAblTsC8VRBk/hdNwAi9t/Ggp07ALoApPFmuUMBUQ5swtHZRwN5gKIiUdlHAmjVZnw2WUMDKkU44EzxRwCLqPm5OqVPARvtYMSewUcB6SDGczhZRwIzqLQTU0VDAzMSttEFdT8DQuKkX5HdOwGgVtoJfYErAgLT/XaV4RMBQx2OOGGxKwDAdvLy370PA2NzRCqfkRsAoOza6EmNMwJA+5o3v00XAsC6nalFaR8Do1Tka71hKwJAc6awlPDHAAKg4poTsKsAgZtrO7Ww5wIBCWmOIEwnAIGniSaYrIMAAf/g59PYRQIAbgE1vzRvAAPcgZIzVJcBAzJePhaoowAAgodj6C7W/wCGNysuaN8CgbSCbGekjwAAwEGR3QSLAEEXzUJl8OMBAq7AZGEwUwEDshaLaNkDAUKZ8qCvCP8Bg0lFEX2Y7wDjLnsSugUDAcDyfOZ5LQ8CwUrNHPS82wHifHAMBjULAQOyFxnjWQsCIaHSpwLJIwNQPI9is20vAshwhy0OpUsBIOjzUDnNOwGi4OoikFE7AaCe8DF+/SsA40SAGws9JwBDn4fweDkvAcE4loyJrPsBA5gPqJaBBwKDCSvW87EnA4D9PC9JDRcCYg9nABHNLwChNvGs0B03AMG6jGarvRMDgoszmGtpKwIBdhse9AkzAaBU226/9Q8CIHf/btLpHwKATQusNCUTAOFabsxqYRsD4UxynL0xHwED+C148YULAwKCF3SvLQ8BAPX1bJ/dEwLj4FKDZ2EzAUF5kT17sScBA8geGZLlGwFiFzZjwgUfAgG8MyFmoSMAIuvatnRNKwJiMnNW1pEjAxJoDbHtkTcD0tz31fxdQwHDu6EuC5E3AZM0RcyPeS8CMR6l0MKFPwBCEZBvpakTAIHdKA1+zQcBwZi1DnoNEwDBNvNO60zrAIPzEU+6gMMAAsRdywagxwLgWnzqRYkDAkBH7xKEjMsDwpSmCzIk5wLDRq8mdLDPAsEavnlqjNsBg3EaTgPs6wJCz6ahA5THAAP1qjn/ZEcCwAbxdZS40wADqBrKY3C3AEDv+SyrHNMBQFTa9wxk0wIBgIAgJNwBAsC6n5NnAO8BANZcDneolwADvkKJJ/QrA4H1y5K6CI8AgyHkToksuwAD7W6KuOhnAQIzYT0B6FMAA7kF4JygowIAZN5UezhzAwJE/WD4aLcCAcyqB7JgqwJBu9iWCZjjAYFFKFMyjNsCQv+3pUCg5wDBoIWPb9EDAwPKS2wKSNcCgVdgsNyEtwADb3VNVfzHAANv66duJ+b8AfnKUnRryvwBI+P4pggBAAOjbu5Vrwr8AME1xiEf4v+BafArj6yLAANLKneBX8L/Aa7Q89U8lwIC9NJWAIgLAgNE7nVPnFMBAd4LdzVMgwEDD1SFELCJAQJsB/gxVGMDAaBzqSE4ZQIBypEPdugDAgFZe8jzhBkBAnxxV0CkbQMDwELZ+ehJAwPQuUrhTHEAAIed5KrUgQEC3QcXE/SBAACHn6TzaM0DQYSz4Q5c0QAC05oeKmRlAgK/LEGJdL0AANFlcu1rWv4AtPlXjWwnAAA1Xx8RZCECAeVT8iBAUwACw8XyMKre/AH3pDaFVC0CAZYcIeocbQCA6dYVIeyZAQMGpP2YYL8CQ1eYF08c1wIAMV4eHqRXAsDqrzS+EQsA4VptLnhZBwLD1t8qU7TbAEMLfJr9XOMDw0f6lJpY2wPDtQUQF3jLAwNheDxskNsCAKqkT7LoIwADjNka1yCTA0DZwFz4OMsCAQlpj1y4EwPAaLafL2DXAACsyekRDHMAgLNW5xXQgwOBNYjBvlSfAQFq5z7nZLMAATDbyFIomwGDeVbMZxijAQFsF+UydF8AABB4gOVsgwEBjmCU7byXAgNxGE+b+EsCA3lUPif0WwIA6HruKCQ7AQNwM913rGcCAVFJXTssCwADY7t5kZgnAwJC5auamFsAghH9BBeoowMCMuCgxdiTAwMDJ1pgXHcDAfoilXTkxwKBxG20gDyHAANy1hIAs1D/ATNyCk+UbwACjeiu1TPO/ABgs1U0Zw7+Af7v0/SQWQKCb/hwoACFAAAYqY2Fy9D9AQH+DvGUjQIBnljQbyxBAgJDzbif1HkCA2738KjoeQICyYEo5mi5AgKmeLK0zH0AAEGxcs77ePyCRtoGmMi1AYB4VwyxfIUCApYBEyIwJQIDH8DikZQ9AwDxk2oyxEEAAF5wBH38GQMBdS3ghpRlAwJ52FDgxKkAAiuptcurhv2DtftX9wijAAD6zJPB9/r/AXppCum0cwLC5o1/N+jLA0LiNhvhsNMCwxaeY35swwMAjnNbdVSDA4NdIvlOYIMDAMsV8yJciwACfWeLQ4g7AQBTNo9efGcDAOZXQLmglwICEYstoOhXAIC7kIW5NKMAgy57U1rY2wECz6YCwth/AgKw2PwRFA8CAF0XPUyonwEC0LCz02RnAYF1O78vrJcBgkgIf+9ckwMDhsHRBHRbAAKyqBwXoA0DAb9I03pYZwGC6SXQolTHAAOM2GkUED8CgBvCenawmwADNWipfxBbAoBraeGAAMsCAwAP7irY2wODR/tt7mC7AsK2f8grlMMCg+Ny5PrYzwBAX8hAbHT7AMCmwkH/QNcCgO8HmlhE4wDA1tHnt0TnAgDYdwY52JcAgAkfqhN1AwPDsK++ykjTAqIY2proxQMAIRfMfu8pAwIAvhdwsSkDA6Ga4sZEKQcAQN8NDxh88wBCu8kxPFDTAYH9LIB5SNsDwjSFqHus/wDA1tDEayzLAUHZsn2AaQMAgZUTxCgE/wMB+iEM++z3AeJMYlCfIQMAQF/IONPo4wOBfICj5pjTA0GRx2ZMjNcAgUdor/EgmwEAwY8Cm5zLA4D9Pq7BiNsBgRUZfPNIxwGBpUpDaQDzAqIC0B7fuQsBw8zgMxdY0wKDU0G6VyT7AMEmBz6eTOcCAVwSfa9MvwDAdrBMxmTPAAEDdQBFQ2L9AUT026XcWwECRmUsB6SvAgIarw1V1BMAAxF7QRuEVwAC04IXMkvo/AOjDsyiLxr/A4bB0Zm8fwABY5OfIhg1AAGGmPSjBEUCAO95EnnYRQGDhx3psDCBAgMGJCHa3EECgT47mUVoiQID344ag8ShAAJYd4rs5/z/AcHUqVKsxQKB0sHCwkDZAwLJDvC0yK0BgTztsHzo7QOAPP1/RQTtAIDfgbwaqNUCAfCbNPoQ0QOBUMtjCzzFAEELO/1Q3PECwcYutDtc1QMBEoMZpozJAwJJy16LXOUAwV7Hoge9BQFBnQ06ySThA4NMq0pDMPUCghjaon1RAQLDomo7asTpAeGMIQwCPQUBwMJsFYctCQNiswXGpZUFAqMWXu35MQEBYc0cJt3pBQNBwdYhjl0VAMM7rHsWnREBolC716iBAQJiHzMUwqUZAOJUMoMAJTEDg8bSGwUBIQLjCgjt0VUlArLMhfykQUEBoaqC7MSdPQOhCrM9W8E5A7Ipgwz8nUEB4SwBtUfJPQByEgEMuAFBAuOAMXgEBTkBIet/oObtPQDiYTTVfWFJAcCoZiOzWUECY5EcdLq5PQOhOsNyank1AzKPit3w+UEDoSK4amkZPQIDQeo2R401AMOGXaMqpS0CwgxEUJwZNQNjEyalKR1FA0OJTMIuGPECw5o5ABFk8QGhbPy2aZ0FA8CH9tqZnN0BQLEWsFoE4QDDJj5w3djVAwM+cC1w8NkAwRBX+Q4hAQAgnaY41QEFA4GfOvg3PQECAG/BjHzg9QGCsNtPmMz5AIAOVkbPtLUCAA+g3/Z0yQICvy/CAWgBAoG399AzKKkAA5NlVsRwkQMCVtJLwuCdA4Bk0PEjPMECgH5tmLlAlQFAsRdS1NTVAQBlxMfZXNUCAjNWGgWAqQFCJQHUTwjpAELXC2KdEMUCApuzGg/c1QACwHmkdazxAYAcjdi1LOUDgDTA/yLw/QMBq8xv3tkNAEKvNdSb/PUBgnPeBICc+QCBvuT5bmkFA0NZPT1xnNkCgUKTfu+c5QADWcQiPA0FAkKXW7HemQEDYW8qpHf1CQKAXtS8St0NAqESgf1bCRkDIXu+WVjFKQDibjogmFEVAuOCM7Q2KR0Ag5LwKBfVGQNBz0nvQNkNAEPHWrZy2QkCIbOe1jnJEQOgVwaVUY0BA6MGk+YOZQ0CICWp045BHQHC1FfVxaklA4Ii1xSNvTEBQ19q6HpJKQOhILm8ycUxAEOtUeMBwTEAg0jYfUAtMQGAlrcRK6ElAiAlqWDoeRED4ugyf7E1KQOBnzgZtC0VAWGHB98gRRkCAIXKiqsFDQGiOrIttGkJAQNE8fAA6UECgL70GgRhPQCicpAHKgUxATO/i8Yd+UUAIxOsXS/1PQByTxakHglFAQLbz8xaiTkB0G9SmrEpRQIAn9MTaSk9AEHhgOMQ+T0BEs7IRMjJRQNi+x2hKmVJAPIOG3o6PVECEkPM+4B9SQFQlkWH3yVVAjM+kfS8oU0CU/E8K+cJUQEDIeYaWC1RAiH7tijVNVkAoHSz2nPdUQNjEyTns+FNAUD2ZC3BoV0BM7+K38dJTQMhYbSMOdFRAyExpeqGhVEDIVaxbAJdVQPB+3Iwmi1VAvC5Don+EWEAwWdzkzL1aQFh2CK5aNVlA9GmVV7d4WUBolC7pZKNaQJxNx67MVFpAzEBllv49WECkd/GizUhWQAAAACMzHlhA+LQK9PrYVkA8dwKFtUBWQCTGqmZg8VZA4Pc2V6gJWUCcSoar+pFWQPi9zQGlllZAIOo+GP1bWEDgA/upIPpWQAgwrFrHrFVAXF6A/EPtU0CkgDRpBvBVQDQyj4wNOVdAFFRUE1NHVUCgHTfgShBUQORR8fM6E1VAGKVLfwgbUkDsJ2PB1qhTQCz/oawD61NAmOrJTlX1UkBEtnP0kTJUQPirx0Lo9FNAjNgnh1doVUCQrhlD9tZTQDBWm+tPKlBAcMRaWk4VVkAYq83wbldWQNwVwWcZG1RACDPt0DXrVkBkoLKKb81WQFgWTB6xZFdAhIrxzodHWEBs1uBmk0dZQDgvThgnjFZA/KXFpxXsWEBUMRUOjAxbQOADu2/QSV1AXG1FlTRkXED0xhDMKt1dQOTxtPmVSF9AWHwKzhg/X0BQRlyOWIdeQNCX3pYFjV9AznaFAHR8YkD6sUliNFJgQDAsf1jNomBAWnaIiTFgYkDiA3szloRhQJTk+XhpI2BANmtwT8cnYEC40cdIiKNfQNjBCCQ6v19AgD88LlQSXkCkd/G788tdQHowKXBENWBAuNfJeXa+XUCEinHwzJtdQMhPqi/fPV5AjNKlCf3kXUDgA7vPV9lfQOZRsfBVmGBAZKa05I52XUBcagQWEcBeQLjRR0kDZl9A7DyqfjwdX0DuimDdx3BgQIaHMIuHD2BAPqRfd3ISYUA4lczOWfhfQGiOLLxjX19A8IEdvYSBX0CY+Y65SBReQAgwLNS3uF1AGJ/JyONAXkBkmjCsix1fQCQFFqYEimBAEmNZ3QsZYEAsBaSxNmlfQOIwmM2v1WFAvgrp404nYUBG49AIhW1hQHYe1e2OlGFAIsCit8DDYUDa92jT7UhiQNSv9D20MWJAbN9jzmcDYkAwKb49udlhQPCBna2x/GFAXG3FRt04YEAINq7CoFFiQD6qoQMkUWFAhpZ18WyHYECIrguFbNBgQDR39IcStGBAcvp6IadtYEBSOli19RZgQLwBpoA5I2BAOJUMNaaYYEAAzSAMbX1iQOZOsPsow2BAQs57zXw4YUDkJ5GLuGBgQOhILtczm19AILQeExPmYECkdLCOA1leQKhZ5xxWNF9AAOu4+V/aXUCIfm1YtixdQBSiCl2hJV1AuNqKZDh1XkAch8EbHQddQLjaioxC111AkKtY+VglX0DIWG0IhgVfQPB7m1Lo1l5AeGZJsMukWkBEsHEDlPNbQMhe7xgvF11AlBEXIr1xWkCQt9w3k+NcQMRhMFO2Ql9AtOlP9jp1X0BkqfVbnHxgQDqSB+cAPWBA8qj4vYsFYUDoSy+jhNtgQPB728sLlmBArL8lSp/CX0BCy/oy3SdgQOg56WGo/l5AfoGggh4UYUCwqp7fIQdhQNSsM6CRn2BARunSsbVlYEAKJGhu6gBgQKqSyB8temBA1NzR91qHXkBUNxftzPNfQAgnadZT+l1AkMbhJqJeYEAQdR8LQn5gQFgWhNFR8V5ABNzz7q2VX0BgUvwIQPhdQFQi0HE3lVxAwAo3JuHFXEAIMKRtpfldQIA//N6Vp1xAUD0Zh5XWXkD6sUl/ozdgQG7cYiaKmWFA4gM7Fw6yYEC28rKk9dVnQCLYuFs9RGhArIxGerM0ZEAerg7EX1prQA5FgVL5LGhAEmMZ6IZzaEBUNxcxd3hmQCog7Slu12hAJP+TivjEaEBCwjdsTN5oQD6w4/kZNmdAdh4V8h2paUBUQNoD6B1rQKSD9XcgrGdAjtKli9S6akCCb9omKF5oQNjQjSDSmmdAiqvKNthlZ0DuhF4zUClqQIKcN+1TJmlAprmjRA/6aECuvMA1ZSZpQMRA13jZCGpAlOS5GfL2Z0B6YMMiuUdpQNbWz+LR+WhAOoOGfGkKaUBKvHWk9z1rQNoJ/WWc72pAYqw2jKE7a0BSPZmKOQVrQCLkvA3q/WpAavFplnqYakB2G9S9ufdqQK6nHZUHxGpAxmTxZE72a0Cmbq7+c/lrQKaDtTBIE2xA6kLspEi4a0CucW/IMv5rQI7DINKm1mtAgpx3yhxVa0AKKiqzgvtrQCLhe/ewymxA6ntbJoY8bUDOpoOQ/EZuQGKyOOluZ25AQsj5J+/ubkByJJf2ASRvQP78fqRWOG5AtvKShWJCbkDmSC6Btp5tQFJDGzvLIG1AprmjAWn/bUBTOlgsYClwQPWf1RVtAXBAOpLLP6xkbkD5ugw9ZzJwQJ44ADL5QG9A07v4p7RucED93ma8PCNwQNsYAqLjEXBA05qfMHeLcEAJNs5G9LBwQE0l490cpXBAqZ6sZQhzcECK2Ccgy2JvQBqojIKzEm1ArrZiSaXpb0AapcsEgzBuQF5qhDRr3W1A98YQ8aPScUBeoDKoXLxuQAk2LtVSGnBA72mHlQUycUBzJ1iy7AdxQMNDOCGRAHFAP60ioPF1cEAh5Lwm3vhwQAUVVVxk8XFAx2SRKg3BcUDb96jJQgJxQB3GpPKDrHJADU4ER8EQckAlAtVXKpJxQKFfW4qUunJAhZM0QltQcUAlBTZK3nFyQPnbZZuNLXJAw0NIyhJuckB7YMfqx5JyQC9QmYM583FALTjzrQlQckAVkPazI+ZyQP3epieT7XFABxsXfmZjckBXVa+i+k9yQGOyuJpK63FAzYjLpbsZckC7CknHlHdxQAcbV3/Wt3BABRVVxx7QcUBJB4vseUByQC0ai54Rp3FA9aJ2BByRcUANVOZYSGJxQNO+uWxk/3BAuRCLVqp0cEAdyeX6rABwQDJTWg2b9mxAEmBYInYFb0DyeJoF5D1uQELLuhOHum5Ay4KJVKp8cEAWct69Z6xvQGqv9xg9HmxASrx1rmv9bkDW3xJFem5uQPbDDzLiZ29AOoOGkpgrakBeaoQUXxZpQNbQzUZ6kW1ApoC0/fIvbUC27BCLJmNrQGKsNqWtJG1APokI726HaEASaRs7NoVvQBKrzaAmQ2tA8oEd0YqmaEA6jwr9KuVoQIaHMDaAr2hAUjdT9DOtakBOMZUkB4xrQJ5BQ+cy22hAjgvRejW4akB2VwRTJvdsQD6JCFEYEWhAqpLI7E3/aUBEuTTEAEVoQLb4FO4ml2hAzqChctysakBaecnBMvlqQDJcXZbKhmpA7orgP0euakAqFyrlKJ9qQJoRF+R3A2xAaq/3I+mqakDGZHH1qupqQN4VwQOqcmxAlv8QLKwAbkByKhnU19FvQE7yIwJ6gW5A1tZPZd0Ub0D68/u0ZgtvQJYIVFEsbG5AxmEwgyEwbED+xhD6ULxrQELLuqU2sG1ApoC0FZ/2bUCaEZfrdjxvQFo01sDkJm9A3hgCzCFJb0CeQUNRJlNvQJ5EBJN9C25AciFW91REbUAyR9bGST9sQCoU6cHNdW1A1t/STVAtbkD6vU0qKo5tQN4VwcE89G9ArvVTBoKdb0AHG9cWq+dwQD2w449lk3BAO49qcJphcEBH47DA41lwQPOoWKLwuHBAy6PivI6AcEDX+mlYcmlwQGfNj+fU3XBAMlCZShy2b0CpoY12EJRwQBFyXqBihnBAFYfzgrxRcECBmbZUhl1xQCXe2kWr0HBA505A60DFcEDXuDds2KlwQEkHC5+3eHFAR+YRFIZfcUApHaz+FtlwQCn8MqIbmnFAd0UQIytmcUARbFy2KLdxQC81QnW7lXBAGavNRAWacUBXXvJ182ZwQI3PZA4EnXBAxh9+Md+DbkD9+f1KsJZwQIF1HHz4A3BAAus4wHv/bUDDZ7Iy+lNwQGfND3z9BXBACTMtoKwAcEBirHbclEFvQN8V4SkbSXBAx2GQ9zE3cEAVinQ4zAhwQAUSlIpRUnBAIeS8oJtccUDDRtmHDLFwQNPB+j+qQHBA2xiC1d8rcUCJ1eZVClVwQMNGGQRnVHBAPrl0whf/b0DiBnzESiZvQI3PZIrzfXBAsdr8ELIacEAZqAxXH2FwQKN6MrF+/HBA72kHpGwdcUDthN5T5lVxQGvuaJuKGXFA/d6mVnN7cEAVafv7IMxwQGfNT4BcHHBAfk5BuK3cb0BTN4c8B5pwQI3z/ja17XBA05ofMEL0cECpoY0nr8BxQJULlWtrRXFA/dgkCJDqcEAdw+PQ+WJxQDNTGp05OXBAkfA9ZuYmcED93sYTYj9wQI7SpTk74G9A1t9SVf72b0BeZ4PfMupvQEfj0HmaUHBAO49KpsKccEAylWj+HSxvQMZnMoCk+W9ApnSw/rjNb0BWbcUS25drQH5OQSd4/WpAMlCZaJA4bEDOoGGUmSVrQJLV5nHsZmlA3hKAKLk1aUA6g8ZVnbFpQDJcHTdVf2tArrNdNpxNa0B2HhVX2JhsQPrz+1ACbG1AflTDl1r2a0AKJCjzbOZsQApvnbVLWW5AnjvBeCTZa0BCwveULBFtQOZLbz35Gm9AUjcXU1Gsa0AqDme6W6xtQL4uwyrEcmxA1txRw3fla0By66eBmpVuQGKyuPlptmxArrwkCZs4bUDygR2Lcm5tQJLV5i8eZWxAaq93Z4mIbEASaRv45LlrQPbAjuueBmtAKtI23OgUbEDmDz/xjqpqQBqlS5v9bWxAcusnRhkNbECWBRND1+FsQLbjDdwmmGxAQoBF7p+Wa0Cmud+M42trQEoEqvB5t2pAMk3YO9c5a0DSzYyLJrBqQFp8ClKIu2lAKhTpMlIybEByKtnAGEBqQJIOFj064mpAKgtmx4fFaUA8gAVAtQhpQJDGoZLMQ2dARLx11qM/Z0Ag5LyaQWppQNoJvbCz92dAAjMNXl1AakAylQzkzodrQKZ6sqDgK2tAflTDhqorbEDOo+KdDUJsQJ47wZypRGpA6j9r+LYLa0BaNJYCQxxqQOAJvbLHPWdAkuf63z7RZ0BQEDwcqi1mQH6BoOfD6WdAznaFDKmLZ0BkqfVlWrllQOQqFmOTNGdAnjvB8PjyaEDqbMgg2g5nQBqZB0exWWhALjVCL/qjaEAC9zzE/5BpQLbs0M9zZWtAPokIOgL0a0CO0qUzL1JqQL4ogSdTYmlAlv/QhGKyaEB4P25d5VJoQPJ1GQo2HmtArqcd2IXWaUACM21TndVoQJ5EhDVc6mtA+r1N5UA1a0D68/tsRbFsQHYb1PzxU2tAMlZbuVOga0DyftySFLBsQPJ+3PVkG2xAnj4C3ylfbEAa5/18ae1rQOZLb/GssWxAtunPF7RNbECmdLAY0zFtQMqRXCrFGGpAAjMtx7ara0AGOS/5hb5sQPJ4Wphxv21AKhTplhcAb0DGZ/Ieq/VvQH1aRQFjp3BANXf07qOvcECvs8HZ4mJwQK6zYWdEsm9AylitvaO0b0B2G9TgyPZsQJYC0pQKyGxAMpVMV8M5bkBirDY1Zd1sQKaA9LMC221AVi5UrHJPbkCmdLDvInVvQCoRqJrNH29AEmxcMqtwbkAC9zxf8BRvQMZhMCLuf29A51Hxi+EDcEA=\",\"dtype\":\"float64\",\"shape\":[1315]}}},\"id\":\"76306a51-f550-404b-9979-a7347d31a059\",\"type\":\"ColumnDataSource\"},{\"attributes\":{\"line_color\":{\"value\":\"red\"},\"x\":{\"field\":\"x\"},\"y\":{\"field\":\"y\"}},\"id\":\"93a0bfe7-6251-410a-9180-20d16f4ab9e7\",\"type\":\"Line\"},{\"attributes\":{},\"id\":\"60c13680-1dd4-43d4-8e89-5a2409bd42ee\",\"type\":\"HelpTool\"},{\"attributes\":{},\"id\":\"283de4ca-f089-4385-8b1f-f87cdc93016c\",\"type\":\"LinearScale\"},{\"attributes\":{\"label\":{\"value\":\"Ground truth\"},\"renderers\":[{\"id\":\"2d049b9e-426d-4021-a088-838fe75cdc74\",\"type\":\"GlyphRenderer\"}]},\"id\":\"95314d67-d586-4254-a9ee-0123e7b71c88\",\"type\":\"LegendItem\"},{\"attributes\":{},\"id\":\"0ebfde47-4214-4c0d-b4ec-18972669e9a4\",\"type\":\"ResetTool\"},{\"attributes\":{\"plot\":{\"id\":\"fb73fcb7-dded-4fa3-b455-a12b7d4636f6\",\"subtype\":\"Figure\",\"type\":\"Plot\"},\"ticker\":{\"id\":\"58e3732b-d88f-4411-b300-bef69948077d\",\"type\":\"BasicTicker\"}},\"id\":\"8fb80ea2-314a-4a6d-8561-536e088e2ea8\",\"type\":\"Grid\"},{\"attributes\":{\"overlay\":{\"id\":\"c299ac16-5771-47bf-a750-80bc1fc2502b\",\"type\":\"BoxAnnotation\"}},\"id\":\"29303e3f-73d0-4343-aedf-d9c9e20ae8a0\",\"type\":\"BoxZoomTool\"},{\"attributes\":{},\"id\":\"4945c76d-d75b-4fee-b257-07f72d029c66\",\"type\":\"PanTool\"}],\"root_ids\":[\"fb73fcb7-dded-4fa3-b455-a12b7d4636f6\"]},\"title\":\"Bokeh Application\",\"version\":\"0.12.10\"}};\n",
       "    var render_items = [{\"docid\":\"457ffbe3-a887-4bbd-a24d-68159946c20c\",\"elementid\":\"9554db18-97c4-4597-8f91-e0400075d456\",\"modelid\":\"fb73fcb7-dded-4fa3-b455-a12b7d4636f6\"}];\n",
       "\n",
       "    root.Bokeh.embed.embed_items(docs_json, render_items);\n",
       "  }\n",
       "\n",
       "  if (root.Bokeh !== undefined) {\n",
       "    embed_document(root);\n",
       "  } else {\n",
       "    var attempts = 0;\n",
       "    var timer = setInterval(function(root) {\n",
       "      if (root.Bokeh !== undefined) {\n",
       "        embed_document(root);\n",
       "        clearInterval(timer);\n",
       "      }\n",
       "      attempts++;\n",
       "      if (attempts > 100) {\n",
       "        console.log(\"Bokeh: ERROR: Unable to embed document because BokehJS library is missing\")\n",
       "        clearInterval(timer);\n",
       "      }\n",
       "    }, 10, root)\n",
       "  }\n",
       "})(window);"
      ],
      "application/vnd.bokehjs_exec.v0+json": ""
     },
     "metadata": {
      "application/vnd.bokehjs_exec.v0+json": {
       "id": "fb73fcb7-dded-4fa3-b455-a12b7d4636f6"
      }
     },
     "output_type": "display_data"
    }
   ],
   "source": [
    "evaluate_model(rnn1, Xtr, 'Model evaluation on the train set')"
   ]
  },
  {
   "cell_type": "code",
   "execution_count": 23,
   "metadata": {},
   "outputs": [
    {
     "data": {
      "text/html": [
       "\n",
       "<div class=\"bk-root\">\n",
       "    <div class=\"bk-plotdiv\" id=\"27cf682c-57eb-4ad1-b8f2-5cbfa17c08a1\"></div>\n",
       "</div>"
      ]
     },
     "metadata": {},
     "output_type": "display_data"
    },
    {
     "data": {
      "application/javascript": [
       "(function(root) {\n",
       "  function embed_document(root) {\n",
       "    var docs_json = {\"59d16436-c668-408c-8b1c-a33de73667a0\":{\"roots\":{\"references\":[{\"attributes\":{\"line_color\":{\"value\":\"red\"},\"x\":{\"field\":\"x\"},\"y\":{\"field\":\"y\"}},\"id\":\"cfba156f-7e1f-4cd6-8218-136ddad3bd9d\",\"type\":\"Line\"},{\"attributes\":{\"overlay\":{\"id\":\"64a89e76-930e-45ff-a886-62ba63459155\",\"type\":\"BoxAnnotation\"}},\"id\":\"8923b62a-4c45-4601-b792-856a85ca9594\",\"type\":\"BoxZoomTool\"},{\"attributes\":{},\"id\":\"32a1edb0-6c5c-49f1-950c-14b482ef0abe\",\"type\":\"ResetTool\"},{\"attributes\":{},\"id\":\"34f4c355-f167-4c1e-872c-815d0ab9dc68\",\"type\":\"HelpTool\"},{\"attributes\":{\"source\":{\"id\":\"76ddc272-a70d-4b29-8ab5-81ed4d6dfe8c\",\"type\":\"ColumnDataSource\"}},\"id\":\"d9087bca-00ec-4ef3-8aeb-2563ba7a4366\",\"type\":\"CDSView\"},{\"attributes\":{},\"id\":\"c735d740-d9e8-48c1-a76e-1e6b7cc9b322\",\"type\":\"BasicTickFormatter\"},{\"attributes\":{\"line_alpha\":{\"value\":0.1},\"line_color\":{\"value\":\"#1f77b4\"},\"x\":{\"field\":\"x\"},\"y\":{\"field\":\"y\"}},\"id\":\"0c8cce88-1d27-485f-ac4f-f078884f11fe\",\"type\":\"Line\"},{\"attributes\":{},\"id\":\"185dad6a-1671-456e-af12-723273f642e0\",\"type\":\"LinearScale\"},{\"attributes\":{\"items\":[{\"id\":\"5a554734-a89c-4a6f-b377-c812399ef688\",\"type\":\"LegendItem\"},{\"id\":\"d4f9bb5e-da07-4b62-b438-ad2b925f878e\",\"type\":\"LegendItem\"}],\"plot\":{\"id\":\"12427489-00f1-4201-bf7a-b065d3853f8b\",\"subtype\":\"Figure\",\"type\":\"Plot\"}},\"id\":\"c3985a62-5bc6-46ea-ab0a-7f4c71e0a8e9\",\"type\":\"Legend\"},{\"attributes\":{\"data_source\":{\"id\":\"76ddc272-a70d-4b29-8ab5-81ed4d6dfe8c\",\"type\":\"ColumnDataSource\"},\"glyph\":{\"id\":\"cfba156f-7e1f-4cd6-8218-136ddad3bd9d\",\"type\":\"Line\"},\"hover_glyph\":null,\"muted_glyph\":null,\"nonselection_glyph\":{\"id\":\"0c8cce88-1d27-485f-ac4f-f078884f11fe\",\"type\":\"Line\"},\"selection_glyph\":null,\"view\":{\"id\":\"d9087bca-00ec-4ef3-8aeb-2563ba7a4366\",\"type\":\"CDSView\"}},\"id\":\"4d61744d-ae6e-4287-a76c-6a4b84848ab8\",\"type\":\"GlyphRenderer\"},{\"attributes\":{\"active_drag\":\"auto\",\"active_inspect\":\"auto\",\"active_scroll\":{\"id\":\"c8d28bd7-8e44-4a6f-8e6a-c92739cc8417\",\"type\":\"WheelZoomTool\"},\"active_tap\":\"auto\",\"tools\":[{\"id\":\"91a2fb1b-efd8-400a-b5c7-2aa0fba800f1\",\"type\":\"PanTool\"},{\"id\":\"c8d28bd7-8e44-4a6f-8e6a-c92739cc8417\",\"type\":\"WheelZoomTool\"},{\"id\":\"8923b62a-4c45-4601-b792-856a85ca9594\",\"type\":\"BoxZoomTool\"},{\"id\":\"43ad42af-3542-41ed-85dc-4b22009b046c\",\"type\":\"SaveTool\"},{\"id\":\"32a1edb0-6c5c-49f1-950c-14b482ef0abe\",\"type\":\"ResetTool\"},{\"id\":\"34f4c355-f167-4c1e-872c-815d0ab9dc68\",\"type\":\"HelpTool\"}]},\"id\":\"e7c94762-0b8d-4f3c-b618-3efc58d6c907\",\"type\":\"Toolbar\"},{\"attributes\":{\"callback\":null,\"column_names\":[\"x\",\"y\"],\"data\":{\"x\":[1315,1316,1317,1318,1319,1320,1321,1322,1323,1324,1325,1326,1327,1328,1329,1330,1331,1332,1333,1334,1335,1336,1337,1338,1339,1340,1341,1342,1343,1344,1345,1346,1347,1348,1349,1350,1351,1352,1353,1354,1355,1356,1357,1358,1359,1360,1361,1362,1363,1364,1365,1366,1367,1368,1369,1370,1371,1372,1373,1374,1375,1376,1377,1378,1379,1380,1381,1382,1383,1384,1385,1386,1387,1388,1389,1390,1391,1392,1393,1394,1395,1396,1397,1398,1399,1400,1401,1402,1403,1404,1405,1406,1407,1408,1409,1410,1411,1412,1413,1414,1415,1416,1417,1418,1419,1420,1421,1422,1423,1424,1425,1426,1427,1428,1429,1430,1431,1432,1433,1434,1435,1436,1437,1438,1439,1440,1441,1442,1443,1444,1445,1446,1447,1448,1449,1450,1451,1452,1453,1454,1455,1456,1457,1458,1459,1460,1461,1462,1463,1464,1465,1466,1467,1468,1469,1470,1471,1472,1473,1474,1475,1476,1477,1478,1479,1480,1481,1482,1483,1484,1485,1486,1487,1488,1489,1490,1491,1492,1493,1494,1495,1496,1497,1498,1499,1500,1501,1502,1503,1504,1505,1506,1507,1508,1509,1510,1511,1512,1513,1514,1515,1516,1517,1518,1519,1520,1521,1522,1523,1524,1525,1526,1527,1528,1529,1530,1531,1532,1533,1534,1535,1536,1537,1538,1539,1540,1541,1542,1543,1544,1545,1546,1547,1548,1549,1550,1551,1552,1553,1554,1555,1556,1557,1558,1559,1560,1561,1562,1563,1564,1565,1566,1567,1568,1569,1570,1571,1572,1573,1574,1575,1576,1577,1578,1579,1580,1581,1582,1583,1584,1585,1586,1587,1588,1589,1590,1591,1592,1593,1594,1595,1596,1597,1598,1599,1600,1601,1602,1603,1604,1605,1606,1607,1608,1609,1610,1611,1612,1613,1614,1615,1616,1617,1618,1619,1620,1621,1622,1623,1624,1625,1626,1627,1628,1629,1630,1631,1632,1633,1634,1635,1636,1637,1638,1639,1640,1641,1642,1643,1644,1645,1646,1647,1648,1649,1650,1651,1652,1653,1654,1655,1656,1657,1658,1659,1660,1661,1662,1663,1664,1665,1666,1667,1668,1669,1670,1671,1672,1673,1674,1675,1676,1677,1678,1679,1680,1681,1682,1683,1684,1685,1686,1687,1688,1689,1690,1691,1692,1693,1694,1695,1696,1697,1698,1699,1700,1701,1702,1703,1704,1705,1706,1707,1708,1709,1710,1711,1712,1713,1714,1715,1716,1717,1718,1719,1720,1721,1722,1723,1724,1725,1726,1727,1728,1729,1730,1731,1732,1733,1734,1735,1736,1737,1738,1739,1740,1741,1742,1743,1744,1745,1746,1747,1748,1749,1750,1751,1752,1753,1754,1755,1756,1757,1758,1759,1760,1761,1762,1763,1764,1765,1766,1767,1768,1769,1770,1771,1772,1773,1774,1775,1776,1777,1778,1779,1780,1781,1782,1783,1784,1785,1786,1787,1788,1789,1790,1791,1792,1793,1794,1795,1796,1797,1798,1799,1800,1801,1802,1803,1804,1805,1806,1807,1808,1809,1810,1811,1812,1813,1814,1815,1816,1817,1818,1819,1820,1821,1822,1823,1824,1825,1826,1827,1828,1829,1830,1831,1832,1833,1834,1835,1836,1837,1838,1839,1840,1841,1842,1843,1844,1845,1846,1847,1848,1849,1850,1851,1852,1853,1854,1855,1856,1857,1858,1859,1860,1861,1862,1863,1864,1865,1866,1867,1868,1869,1870,1871,1872,1873,1874,1875,1876,1877,1878,1879,1880,1881,1882,1883,1884,1885,1886,1887,1888,1889,1890,1891,1892,1893,1894,1895,1896,1897,1898,1899,1900,1901,1902,1903,1904,1905,1906,1907,1908,1909,1910,1911,1912,1913,1914,1915,1916,1917,1918,1919,1920,1921,1922,1923,1924,1925,1926,1927,1928,1929,1930,1931,1932,1933,1934,1935,1936,1937,1938,1939,1940,1941,1942,1943,1944,1945,1946,1947,1948,1949,1950,1951,1952,1953,1954,1955,1956,1957,1958,1959,1960,1961,1962,1963,1964,1965,1966,1967,1968,1969,1970,1971,1972],\"y\":{\"__ndarray__\":\"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\",\"dtype\":\"float64\",\"shape\":[658]}}},\"id\":\"d6ff4baf-1fec-4b09-aa88-48c256e97ff8\",\"type\":\"ColumnDataSource\"},{\"attributes\":{},\"id\":\"bfd45b2b-1eb3-4c1a-b738-2425d34e27cd\",\"type\":\"BasicTicker\"},{\"attributes\":{\"label\":{\"value\":\"Ground truth\"},\"renderers\":[{\"id\":\"4d61744d-ae6e-4287-a76c-6a4b84848ab8\",\"type\":\"GlyphRenderer\"}]},\"id\":\"5a554734-a89c-4a6f-b377-c812399ef688\",\"type\":\"LegendItem\"},{\"attributes\":{\"callback\":null},\"id\":\"53c54056-f0e1-4b2a-97e0-8e82a88694b7\",\"type\":\"DataRange1d\"},{\"attributes\":{},\"id\":\"30b9faf5-b05d-4874-89fa-12fad971689c\",\"type\":\"BasicTickFormatter\"},{\"attributes\":{},\"id\":\"6130a656-82b8-4aa3-a699-c6a08d3efc40\",\"type\":\"LinearScale\"},{\"attributes\":{\"data_source\":{\"id\":\"d6ff4baf-1fec-4b09-aa88-48c256e97ff8\",\"type\":\"ColumnDataSource\"},\"glyph\":{\"id\":\"f3985b70-b0cb-4c18-a32e-70a96744572e\",\"type\":\"Line\"},\"hover_glyph\":null,\"muted_glyph\":null,\"nonselection_glyph\":{\"id\":\"a145e6af-6a9e-4abc-a708-5b4e85df72dd\",\"type\":\"Line\"},\"selection_glyph\":null,\"view\":{\"id\":\"3f6e0c07-1318-4310-a6ac-60821e003ed0\",\"type\":\"CDSView\"}},\"id\":\"42ff89b3-3354-43c1-923f-aaeb4d70c217\",\"type\":\"GlyphRenderer\"},{\"attributes\":{\"callback\":null},\"id\":\"d459deeb-9a2b-4b34-ba30-d75d26e479f2\",\"type\":\"DataRange1d\"},{\"attributes\":{\"below\":[{\"id\":\"91230ac7-e81c-439f-b5ef-f48ec1e265cc\",\"type\":\"LinearAxis\"}],\"left\":[{\"id\":\"84b38cea-f457-45b6-bc75-6a16ee057211\",\"type\":\"LinearAxis\"}],\"plot_width\":800,\"renderers\":[{\"id\":\"91230ac7-e81c-439f-b5ef-f48ec1e265cc\",\"type\":\"LinearAxis\"},{\"id\":\"5be35f87-52b9-4a5c-9c8f-294263fb9a88\",\"type\":\"Grid\"},{\"id\":\"84b38cea-f457-45b6-bc75-6a16ee057211\",\"type\":\"LinearAxis\"},{\"id\":\"f0be7416-0222-4353-8cae-534314571859\",\"type\":\"Grid\"},{\"id\":\"64a89e76-930e-45ff-a886-62ba63459155\",\"type\":\"BoxAnnotation\"},{\"id\":\"c3985a62-5bc6-46ea-ab0a-7f4c71e0a8e9\",\"type\":\"Legend\"},{\"id\":\"4d61744d-ae6e-4287-a76c-6a4b84848ab8\",\"type\":\"GlyphRenderer\"},{\"id\":\"42ff89b3-3354-43c1-923f-aaeb4d70c217\",\"type\":\"GlyphRenderer\"}],\"title\":{\"id\":\"501619cb-d973-4452-ab30-f66a9347cea7\",\"type\":\"Title\"},\"toolbar\":{\"id\":\"e7c94762-0b8d-4f3c-b618-3efc58d6c907\",\"type\":\"Toolbar\"},\"x_range\":{\"id\":\"53c54056-f0e1-4b2a-97e0-8e82a88694b7\",\"type\":\"DataRange1d\"},\"x_scale\":{\"id\":\"185dad6a-1671-456e-af12-723273f642e0\",\"type\":\"LinearScale\"},\"y_range\":{\"id\":\"d459deeb-9a2b-4b34-ba30-d75d26e479f2\",\"type\":\"DataRange1d\"},\"y_scale\":{\"id\":\"6130a656-82b8-4aa3-a699-c6a08d3efc40\",\"type\":\"LinearScale\"}},\"id\":\"12427489-00f1-4201-bf7a-b065d3853f8b\",\"subtype\":\"Figure\",\"type\":\"Plot\"},{\"attributes\":{\"line_alpha\":{\"value\":0.1},\"line_color\":{\"value\":\"#1f77b4\"},\"x\":{\"field\":\"x\"},\"y\":{\"field\":\"y\"}},\"id\":\"a145e6af-6a9e-4abc-a708-5b4e85df72dd\",\"type\":\"Line\"},{\"attributes\":{\"formatter\":{\"id\":\"30b9faf5-b05d-4874-89fa-12fad971689c\",\"type\":\"BasicTickFormatter\"},\"plot\":{\"id\":\"12427489-00f1-4201-bf7a-b065d3853f8b\",\"subtype\":\"Figure\",\"type\":\"Plot\"},\"ticker\":{\"id\":\"45065524-a60f-46c7-b203-14c368ac95ed\",\"type\":\"BasicTicker\"}},\"id\":\"91230ac7-e81c-439f-b5ef-f48ec1e265cc\",\"type\":\"LinearAxis\"},{\"attributes\":{\"line_color\":{\"value\":\"gray\"},\"x\":{\"field\":\"x\"},\"y\":{\"field\":\"y\"}},\"id\":\"f3985b70-b0cb-4c18-a32e-70a96744572e\",\"type\":\"Line\"},{\"attributes\":{},\"id\":\"45065524-a60f-46c7-b203-14c368ac95ed\",\"type\":\"BasicTicker\"},{\"attributes\":{\"plot\":{\"id\":\"12427489-00f1-4201-bf7a-b065d3853f8b\",\"subtype\":\"Figure\",\"type\":\"Plot\"},\"ticker\":{\"id\":\"45065524-a60f-46c7-b203-14c368ac95ed\",\"type\":\"BasicTicker\"}},\"id\":\"5be35f87-52b9-4a5c-9c8f-294263fb9a88\",\"type\":\"Grid\"},{\"attributes\":{\"label\":{\"value\":\"Prediction\"},\"renderers\":[{\"id\":\"42ff89b3-3354-43c1-923f-aaeb4d70c217\",\"type\":\"GlyphRenderer\"}]},\"id\":\"d4f9bb5e-da07-4b62-b438-ad2b925f878e\",\"type\":\"LegendItem\"},{\"attributes\":{\"callback\":null,\"column_names\":[\"x\",\"y\"],\"data\":{\"x\":[1315,1316,1317,1318,1319,1320,1321,1322,1323,1324,1325,1326,1327,1328,1329,1330,1331,1332,1333,1334,1335,1336,1337,1338,1339,1340,1341,1342,1343,1344,1345,1346,1347,1348,1349,1350,1351,1352,1353,1354,1355,1356,1357,1358,1359,1360,1361,1362,1363,1364,1365,1366,1367,1368,1369,1370,1371,1372,1373,1374,1375,1376,1377,1378,1379,1380,1381,1382,1383,1384,1385,1386,1387,1388,1389,1390,1391,1392,1393,1394,1395,1396,1397,1398,1399,1400,1401,1402,1403,1404,1405,1406,1407,1408,1409,1410,1411,1412,1413,1414,1415,1416,1417,1418,1419,1420,1421,1422,1423,1424,1425,1426,1427,1428,1429,1430,1431,1432,1433,1434,1435,1436,1437,1438,1439,1440,1441,1442,1443,1444,1445,1446,1447,1448,1449,1450,1451,1452,1453,1454,1455,1456,1457,1458,1459,1460,1461,1462,1463,1464,1465,1466,1467,1468,1469,1470,1471,1472,1473,1474,1475,1476,1477,1478,1479,1480,1481,1482,1483,1484,1485,1486,1487,1488,1489,1490,1491,1492,1493,1494,1495,1496,1497,1498,1499,1500,1501,1502,1503,1504,1505,1506,1507,1508,1509,1510,1511,1512,1513,1514,1515,1516,1517,1518,1519,1520,1521,1522,1523,1524,1525,1526,1527,1528,1529,1530,1531,1532,1533,1534,1535,1536,1537,1538,1539,1540,1541,1542,1543,1544,1545,1546,1547,1548,1549,1550,1551,1552,1553,1554,1555,1556,1557,1558,1559,1560,1561,1562,1563,1564,1565,1566,1567,1568,1569,1570,1571,1572,1573,1574,1575,1576,1577,1578,1579,1580,1581,1582,1583,1584,1585,1586,1587,1588,1589,1590,1591,1592,1593,1594,1595,1596,1597,1598,1599,1600,1601,1602,1603,1604,1605,1606,1607,1608,1609,1610,1611,1612,1613,1614,1615,1616,1617,1618,1619,1620,1621,1622,1623,1624,1625,1626,1627,1628,1629,1630,1631,1632,1633,1634,1635,1636,1637,1638,1639,1640,1641,1642,1643,1644,1645,1646,1647,1648,1649,1650,1651,1652,1653,1654,1655,1656,1657,1658,1659,1660,1661,1662,1663,1664,1665,1666,1667,1668,1669,1670,1671,1672,1673,1674,1675,1676,1677,1678,1679,1680,1681,1682,1683,1684,1685,1686,1687,1688,1689,1690,1691,1692,1693,1694,1695,1696,1697,1698,1699,1700,1701,1702,1703,1704,1705,1706,1707,1708,1709,1710,1711,1712,1713,1714,1715,1716,1717,1718,1719,1720,1721,1722,1723,1724,1725,1726,1727,1728,1729,1730,1731,1732,1733,1734,1735,1736,1737,1738,1739,1740,1741,1742,1743,1744,1745,1746,1747,1748,1749,1750,1751,1752,1753,1754,1755,1756,1757,1758,1759,1760,1761,1762,1763,1764,1765,1766,1767,1768,1769,1770,1771,1772,1773,1774,1775,1776,1777,1778,1779,1780,1781,1782,1783,1784,1785,1786,1787,1788,1789,1790,1791,1792,1793,1794,1795,1796,1797,1798,1799,1800,1801,1802,1803,1804,1805,1806,1807,1808,1809,1810,1811,1812,1813,1814,1815,1816,1817,1818,1819,1820,1821,1822,1823,1824,1825,1826,1827,1828,1829,1830,1831,1832,1833,1834,1835,1836,1837,1838,1839,1840,1841,1842,1843,1844,1845,1846,1847,1848,1849,1850,1851,1852,1853,1854,1855,1856,1857,1858,1859,1860,1861,1862,1863,1864,1865,1866,1867,1868,1869,1870,1871,1872,1873,1874,1875,1876,1877,1878,1879,1880,1881,1882,1883,1884,1885,1886,1887,1888,1889,1890,1891,1892,1893,1894,1895,1896,1897,1898,1899,1900,1901,1902,1903,1904,1905,1906,1907,1908,1909,1910,1911,1912,1913,1914,1915,1916,1917,1918,1919,1920,1921,1922,1923,1924,1925,1926,1927,1928,1929,1930,1931,1932,1933,1934,1935,1936,1937,1938,1939,1940,1941,1942,1943,1944,1945,1946,1947,1948,1949,1950,1951,1952,1953,1954,1955,1956,1957,1958,1959,1960,1961,1962,1963,1964,1965,1966,1967,1968,1969,1970,1971,1972],\"y\":{\"__ndarray__\":\"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\",\"dtype\":\"float64\",\"shape\":[658]}}},\"id\":\"76ddc272-a70d-4b29-8ab5-81ed4d6dfe8c\",\"type\":\"ColumnDataSource\"},{\"attributes\":{\"source\":{\"id\":\"d6ff4baf-1fec-4b09-aa88-48c256e97ff8\",\"type\":\"ColumnDataSource\"}},\"id\":\"3f6e0c07-1318-4310-a6ac-60821e003ed0\",\"type\":\"CDSView\"},{\"attributes\":{\"plot\":null,\"text\":\"Model evaluation on the test set\"},\"id\":\"501619cb-d973-4452-ab30-f66a9347cea7\",\"type\":\"Title\"},{\"attributes\":{\"formatter\":{\"id\":\"c735d740-d9e8-48c1-a76e-1e6b7cc9b322\",\"type\":\"BasicTickFormatter\"},\"plot\":{\"id\":\"12427489-00f1-4201-bf7a-b065d3853f8b\",\"subtype\":\"Figure\",\"type\":\"Plot\"},\"ticker\":{\"id\":\"bfd45b2b-1eb3-4c1a-b738-2425d34e27cd\",\"type\":\"BasicTicker\"}},\"id\":\"84b38cea-f457-45b6-bc75-6a16ee057211\",\"type\":\"LinearAxis\"},{\"attributes\":{\"dimension\":1,\"plot\":{\"id\":\"12427489-00f1-4201-bf7a-b065d3853f8b\",\"subtype\":\"Figure\",\"type\":\"Plot\"},\"ticker\":{\"id\":\"bfd45b2b-1eb3-4c1a-b738-2425d34e27cd\",\"type\":\"BasicTicker\"}},\"id\":\"f0be7416-0222-4353-8cae-534314571859\",\"type\":\"Grid\"},{\"attributes\":{\"bottom_units\":\"screen\",\"fill_alpha\":{\"value\":0.5},\"fill_color\":{\"value\":\"lightgrey\"},\"left_units\":\"screen\",\"level\":\"overlay\",\"line_alpha\":{\"value\":1.0},\"line_color\":{\"value\":\"black\"},\"line_dash\":[4,4],\"line_width\":{\"value\":2},\"plot\":null,\"render_mode\":\"css\",\"right_units\":\"screen\",\"top_units\":\"screen\"},\"id\":\"64a89e76-930e-45ff-a886-62ba63459155\",\"type\":\"BoxAnnotation\"},{\"attributes\":{},\"id\":\"c8d28bd7-8e44-4a6f-8e6a-c92739cc8417\",\"type\":\"WheelZoomTool\"},{\"attributes\":{},\"id\":\"91a2fb1b-efd8-400a-b5c7-2aa0fba800f1\",\"type\":\"PanTool\"},{\"attributes\":{},\"id\":\"43ad42af-3542-41ed-85dc-4b22009b046c\",\"type\":\"SaveTool\"}],\"root_ids\":[\"12427489-00f1-4201-bf7a-b065d3853f8b\"]},\"title\":\"Bokeh Application\",\"version\":\"0.12.10\"}};\n",
       "    var render_items = [{\"docid\":\"59d16436-c668-408c-8b1c-a33de73667a0\",\"elementid\":\"27cf682c-57eb-4ad1-b8f2-5cbfa17c08a1\",\"modelid\":\"12427489-00f1-4201-bf7a-b065d3853f8b\"}];\n",
       "\n",
       "    root.Bokeh.embed.embed_items(docs_json, render_items);\n",
       "  }\n",
       "\n",
       "  if (root.Bokeh !== undefined) {\n",
       "    embed_document(root);\n",
       "  } else {\n",
       "    var attempts = 0;\n",
       "    var timer = setInterval(function(root) {\n",
       "      if (root.Bokeh !== undefined) {\n",
       "        embed_document(root);\n",
       "        clearInterval(timer);\n",
       "      }\n",
       "      attempts++;\n",
       "      if (attempts > 100) {\n",
       "        console.log(\"Bokeh: ERROR: Unable to embed document because BokehJS library is missing\")\n",
       "        clearInterval(timer);\n",
       "      }\n",
       "    }, 10, root)\n",
       "  }\n",
       "})(window);"
      ],
      "application/vnd.bokehjs_exec.v0+json": ""
     },
     "metadata": {
      "application/vnd.bokehjs_exec.v0+json": {
       "id": "12427489-00f1-4201-bf7a-b065d3853f8b"
      }
     },
     "output_type": "display_data"
    }
   ],
   "source": [
    "evaluate_model(rnn1, Xte, 'Model evaluation on the test set')"
   ]
  },
  {
   "cell_type": "markdown",
   "metadata": {},
   "source": [
    "## Another LSTM architecture"
   ]
  },
  {
   "cell_type": "code",
   "execution_count": 24,
   "metadata": {
    "collapsed": true
   },
   "outputs": [],
   "source": [
    "class RNN2(nn.Module):\n",
    "    \n",
    "    \n",
    "    def __init__(self, n_in, n_mem, n_out):\n",
    "        super(RNN2, self).__init__()\n",
    "        self.n_in, self.n_mem, self.n_out = n_in, n_mem, n_out\n",
    "        self.forget = nn.Linear(in_features=(n_in + n_mem), out_features=n_mem)\n",
    "        self.learn_new = nn.Linear(in_features=(n_in + n_mem), out_features=n_mem)\n",
    "        self.save_new = nn.Linear(in_features=(n_in + n_mem), out_features=n_mem)\n",
    "        self.x2o = nn.Linear(in_features=n_in, out_features=n_out)\n",
    "        self.mem2o = nn.Linear(in_features=n_mem, out_features=n_out)\n",
    "        \n",
    "    def init_weights(self, var=.1):\n",
    "        self.forget.weight.data.uniform_(-var, var)\n",
    "        self.learn_new.weight.data.uniform_(-var, var)\n",
    "        self.save_new.weight.data.uniform_(-var, var)\n",
    "        self.output.weight.data.uniform_(-var, var)\n",
    "    \n",
    "    def forward(self, x, mem):\n",
    "        # print(x.data.shape, mem.data.shape)\n",
    "        xmem = torch.cat((x, mem))\n",
    "        forget = F.sigmoid(self.forget(xmem))\n",
    "        mem = mem*forget\n",
    "        new_mem = F.tanh(self.learn_new(xmem))\n",
    "        mem_mask = F.sigmoid(self.save_new(xmem))\n",
    "        mem = mem + new_mem*mem_mask\n",
    "        o1 = self.x2o(x)\n",
    "        o2 = F.tanh(self.mem2o(mem))\n",
    "        out = o1*o2\n",
    "        return (out, mem)\n",
    "    \n",
    "    def init_mem(self):\n",
    "        return Variable(torch.zeros(self.n_mem))"
   ]
  },
  {
   "cell_type": "code",
   "execution_count": 25,
   "metadata": {},
   "outputs": [],
   "source": [
    "rnn2 = RNN2(n_in=WND_DAYS*N_FEATS, n_mem=48, n_out=WND_DAYS)"
   ]
  },
  {
   "cell_type": "code",
   "execution_count": 26,
   "metadata": {},
   "outputs": [
    {
     "name": "stdout",
     "output_type": "stream",
     "text": [
      "Epoch #1; Loss: \n",
      " 58.6139\n",
      "[torch.FloatTensor of size 1]\n",
      ";\n",
      "Epoch #2; Loss: \n",
      " 47.0360\n",
      "[torch.FloatTensor of size 1]\n",
      ";\n",
      "Epoch #3; Loss: \n",
      " 38.5988\n",
      "[torch.FloatTensor of size 1]\n",
      ";\n",
      "{'fee': Variable containing:\n",
      " 16.6008\n",
      "[torch.FloatTensor of size 1]\n",
      ", 'mse': Variable containing:\n",
      " 20.8732\n",
      "[torch.FloatTensor of size 1]\n",
      "}\n",
      "y: Variable containing:\n",
      "-0.0610\n",
      "-3.2448\n",
      "-0.0476\n",
      " 0.7503\n",
      "-1.1274\n",
      "-0.7281\n",
      "[torch.FloatTensor of size 6]\n",
      "\n",
      "y_pred: Variable containing:\n",
      " 2.6554\n",
      " 1.7604\n",
      " 1.8000\n",
      "-0.7061\n",
      " 1.4520\n",
      " 2.2676\n",
      "[torch.FloatTensor of size 6]\n",
      "\n",
      "Epoch #4; Loss: \n",
      " 33.2716\n",
      "[torch.FloatTensor of size 1]\n",
      ";\n"
     ]
    }
   ],
   "source": [
    "for epoch in range(1, 5):\n",
    "    print('Epoch #%s; Loss: %s;' % (epoch, loss(rnn2, Xtr, criterion, lr=.02/epoch)))"
   ]
  },
  {
   "cell_type": "code",
   "execution_count": 27,
   "metadata": {},
   "outputs": [
    {
     "data": {
      "text/html": [
       "\n",
       "<div class=\"bk-root\">\n",
       "    <div class=\"bk-plotdiv\" id=\"bf95a301-bc8a-491e-845b-b3a0cc01e735\"></div>\n",
       "</div>"
      ]
     },
     "metadata": {},
     "output_type": "display_data"
    },
    {
     "data": {
      "application/javascript": [
       "(function(root) {\n",
       "  function embed_document(root) {\n",
       "    var docs_json = {\"81241e24-92a6-4c07-a6b1-6ba4e4197ad8\":{\"roots\":{\"references\":[{\"attributes\":{\"dimension\":1,\"plot\":{\"id\":\"909ddbfa-b2dd-4491-983f-81da3725be74\",\"subtype\":\"Figure\",\"type\":\"Plot\"},\"ticker\":{\"id\":\"aa45923d-a66b-4e10-839e-e4bd9f0ae23d\",\"type\":\"BasicTicker\"}},\"id\":\"94aa4010-11ba-4df2-bad2-f06b38b06b7d\",\"type\":\"Grid\"},{\"attributes\":{\"line_color\":{\"value\":\"red\"},\"x\":{\"field\":\"x\"},\"y\":{\"field\":\"y\"}},\"id\":\"8ae5c2f4-5860-4396-aa31-a8e4223f2d16\",\"type\":\"Line\"},{\"attributes\":{\"data_source\":{\"id\":\"85a8b518-3bc5-4aa4-bf16-2cb529bf516c\",\"type\":\"ColumnDataSource\"},\"glyph\":{\"id\":\"8ae5c2f4-5860-4396-aa31-a8e4223f2d16\",\"type\":\"Line\"},\"hover_glyph\":null,\"muted_glyph\":null,\"nonselection_glyph\":{\"id\":\"a8435bff-15cd-4de7-b1c7-d8e226dfb8d5\",\"type\":\"Line\"},\"selection_glyph\":null,\"view\":{\"id\":\"f2e7c060-6f1f-4e88-9d2b-af0adf987562\",\"type\":\"CDSView\"}},\"id\":\"17f16f43-2580-44b7-b282-2fc126ad06a3\",\"type\":\"GlyphRenderer\"},{\"attributes\":{\"label\":{\"value\":\"Prediction\"},\"renderers\":[{\"id\":\"2bee890a-2df7-4922-9997-420cf99aee39\",\"type\":\"GlyphRenderer\"}]},\"id\":\"694d6f77-6760-4c46-9d11-e6dcff83cebc\",\"type\":\"LegendItem\"},{\"attributes\":{\"active_drag\":\"auto\",\"active_inspect\":\"auto\",\"active_scroll\":{\"id\":\"ff3bc5a5-fcf1-40ea-96a2-a9de5499d7d2\",\"type\":\"WheelZoomTool\"},\"active_tap\":\"auto\",\"tools\":[{\"id\":\"f550d64a-9f88-4720-818b-e8045703270c\",\"type\":\"PanTool\"},{\"id\":\"ff3bc5a5-fcf1-40ea-96a2-a9de5499d7d2\",\"type\":\"WheelZoomTool\"},{\"id\":\"fc650e8d-9c2b-448b-b9f2-038e0134b8d7\",\"type\":\"BoxZoomTool\"},{\"id\":\"14b48451-e431-494e-a28e-4675878c095f\",\"type\":\"SaveTool\"},{\"id\":\"4956749d-cad1-42ea-9d21-5ceb0596ca22\",\"type\":\"ResetTool\"},{\"id\":\"14570a59-148e-4014-b879-208fbe67d612\",\"type\":\"HelpTool\"}]},\"id\":\"729501d3-6346-4c7e-88c3-f646a94bf07f\",\"type\":\"Toolbar\"},{\"attributes\":{\"plot\":null,\"text\":\"Evaluation of second model on the training set\"},\"id\":\"862a73cd-31a2-4c8b-ada7-cdebf037291c\",\"type\":\"Title\"},{\"attributes\":{},\"id\":\"4367b687-4b78-41b3-93b1-7014212c4546\",\"type\":\"BasicTickFormatter\"},{\"attributes\":{},\"id\":\"ff3bc5a5-fcf1-40ea-96a2-a9de5499d7d2\",\"type\":\"WheelZoomTool\"},{\"attributes\":{\"formatter\":{\"id\":\"4367b687-4b78-41b3-93b1-7014212c4546\",\"type\":\"BasicTickFormatter\"},\"plot\":{\"id\":\"909ddbfa-b2dd-4491-983f-81da3725be74\",\"subtype\":\"Figure\",\"type\":\"Plot\"},\"ticker\":{\"id\":\"9a4ef15a-0b58-466e-bf8d-4143c3f831e4\",\"type\":\"BasicTicker\"}},\"id\":\"41051990-a169-42b3-aef3-e4ccfd46ac05\",\"type\":\"LinearAxis\"},{\"attributes\":{\"plot\":{\"id\":\"909ddbfa-b2dd-4491-983f-81da3725be74\",\"subtype\":\"Figure\",\"type\":\"Plot\"},\"ticker\":{\"id\":\"9a4ef15a-0b58-466e-bf8d-4143c3f831e4\",\"type\":\"BasicTicker\"}},\"id\":\"5473fb48-e884-4d09-984d-91963f98d887\",\"type\":\"Grid\"},{\"attributes\":{\"below\":[{\"id\":\"41051990-a169-42b3-aef3-e4ccfd46ac05\",\"type\":\"LinearAxis\"}],\"left\":[{\"id\":\"48144b94-e78e-4df2-bdef-27c9ced57e92\",\"type\":\"LinearAxis\"}],\"plot_width\":800,\"renderers\":[{\"id\":\"41051990-a169-42b3-aef3-e4ccfd46ac05\",\"type\":\"LinearAxis\"},{\"id\":\"5473fb48-e884-4d09-984d-91963f98d887\",\"type\":\"Grid\"},{\"id\":\"48144b94-e78e-4df2-bdef-27c9ced57e92\",\"type\":\"LinearAxis\"},{\"id\":\"94aa4010-11ba-4df2-bad2-f06b38b06b7d\",\"type\":\"Grid\"},{\"id\":\"fa6d7082-e773-4576-a281-d10f5645fce9\",\"type\":\"BoxAnnotation\"},{\"id\":\"3699513b-e024-4f20-b686-85139a10bdf6\",\"type\":\"Legend\"},{\"id\":\"17f16f43-2580-44b7-b282-2fc126ad06a3\",\"type\":\"GlyphRenderer\"},{\"id\":\"2bee890a-2df7-4922-9997-420cf99aee39\",\"type\":\"GlyphRenderer\"}],\"title\":{\"id\":\"862a73cd-31a2-4c8b-ada7-cdebf037291c\",\"type\":\"Title\"},\"toolbar\":{\"id\":\"729501d3-6346-4c7e-88c3-f646a94bf07f\",\"type\":\"Toolbar\"},\"x_range\":{\"id\":\"926339b6-b980-4395-874c-9f1d99cd5c2b\",\"type\":\"DataRange1d\"},\"x_scale\":{\"id\":\"a55674e6-dcf8-45b6-899e-931a9c35e4dc\",\"type\":\"LinearScale\"},\"y_range\":{\"id\":\"dd63c36d-055c-4a99-b8d0-9b0e047ff64c\",\"type\":\"DataRange1d\"},\"y_scale\":{\"id\":\"5dc5ab29-08f4-44aa-b828-81c47d373f53\",\"type\":\"LinearScale\"}},\"id\":\"909ddbfa-b2dd-4491-983f-81da3725be74\",\"subtype\":\"Figure\",\"type\":\"Plot\"},{\"attributes\":{\"callback\":null},\"id\":\"926339b6-b980-4395-874c-9f1d99cd5c2b\",\"type\":\"DataRange1d\"},{\"attributes\":{\"overlay\":{\"id\":\"fa6d7082-e773-4576-a281-d10f5645fce9\",\"type\":\"BoxAnnotation\"}},\"id\":\"fc650e8d-9c2b-448b-b9f2-038e0134b8d7\",\"type\":\"BoxZoomTool\"},{\"attributes\":{},\"id\":\"9a4ef15a-0b58-466e-bf8d-4143c3f831e4\",\"type\":\"BasicTicker\"},{\"attributes\":{\"callback\":null,\"column_names\":[\"x\",\"y\"],\"data\":{\"x\":[0,1,2,3,4,5,6,7,8,9,10,11,12,13,14,15,16,17,18,19,20,21,22,23,24,25,26,27,28,29,30,31,32,33,34,35,36,37,38,39,40,41,42,43,44,45,46,47,48,49,50,51,52,53,54,55,56,57,58,59,60,61,62,63,64,65,66,67,68,69,70,71,72,73,74,75,76,77,78,79,80,81,82,83,84,85,86,87,88,89,90,91,92,93,94,95,96,97,98,99,100,101,102,103,104,105,106,107,108,109,110,111,112,113,114,115,116,117,118,119,120,121,122,123,124,125,126,127,128,129,130,131,132,133,134,135,136,137,138,139,140,141,142,143,144,145,146,147,148,149,150,151,152,153,154,155,156,157,158,159,160,161,162,163,164,165,166,167,168,169,170,171,172,173,174,175,176,177,178,179,180,181,182,183,184,185,186,187,188,189,190,191,192,193,194,195,196,197,198,199,200,201,202,203,204,205,206,207,208,209,210,211,212,213,214,215,216,217,218,219,220,221,222,223,224,225,226,227,228,229,230,231,232,233,234,235,236,237,238,239,240,241,242,243,244,245,246,247,248,249,250,251,252,253,254,255,256,257,258,259,260,261,262,263,264,265,266,267,268,269,270,271,272,273,274,275,276,277,278,279,280,281,282,283,284,285,286,287,288,289,290,291,292,293,294,295,296,297,298,299,300,301,302,303,304,305,306,307,308,309,310,311,312,313,314,315,316,317,318,319,320,321,322,323,324,325,326,327,328,329,330,331,332,333,334,335,336,337,338,339,340,341,342,343,344,345,346,347,348,349,350,351,352,353,354,355,356,357,358,359,360,361,362,363,364,365,366,367,368,369,370,371,372,373,374,375,376,377,378,379,380,381,382,383,384,385,386,387,388,389,390,391,392,393,394,395,396,397,398,399,400,401,402,403,404,405,406,407,408,409,410,411,412,413,414,415,416,417,418,419,420,421,422,423,424,425,426,427,428,429,430,431,432,433,434,435,436,437,438,439,440,441,442,443,444,445,446,447,448,449,450,451,452,453,454,455,456,457,458,459,460,461,462,463,464,465,466,467,468,469,470,471,472,473,474,475,476,477,478,479,480,481,482,483,484,485,486,487,488,489,490,491,492,493,494,495,496,497,498,499,500,501,502,503,504,505,506,507,508,509,510,511,512,513,514,515,516,517,518,519,520,521,522,523,524,525,526,527,528,529,530,531,532,533,534,535,536,537,538,539,540,541,542,543,544,545,546,547,548,549,550,551,552,553,554,555,556,557,558,559,560,561,562,563,564,565,566,567,568,569,570,571,572,573,574,575,576,577,578,579,580,581,582,583,584,585,586,587,588,589,590,591,592,593,594,595,596,597,598,599,600,601,602,603,604,605,606,607,608,609,610,611,612,613,614,615,616,617,618,619,620,621,622,623,624,625,626,627,628,629,630,631,632,633,634,635,636,637,638,639,640,641,642,643,644,645,646,647,648,649,650,651,652,653,654,655,656,657,658,659,660,661,662,663,664,665,666,667,668,669,670,671,672,673,674,675,676,677,678,679,680,681,682,683,684,685,686,687,688,689,690,691,692,693,694,695,696,697,698,699,700,701,702,703,704,705,706,707,708,709,710,711,712,713,714,715,716,717,718,719,720,721,722,723,724,725,726,727,728,729,730,731,732,733,734,735,736,737,738,739,740,741,742,743,744,745,746,747,748,749,750,751,752,753,754,755,756,757,758,759,760,761,762,763,764,765,766,767,768,769,770,771,772,773,774,775,776,777,778,779,780,781,782,783,784,785,786,787,788,789,790,791,792,793,794,795,796,797,798,799,800,801,802,803,804,805,806,807,808,809,810,811,812,813,814,815,816,817,818,819,820,821,822,823,824,825,826,827,828,829,830,831,832,833,834,835,836,837,838,839,840,841,842,843,844,845,846,847,848,849,850,851,852,853,854,855,856,857,858,859,860,861,862,863,864,865,866,867,868,869,870,871,872,873,874,875,876,877,878,879,880,881,882,883,884,885,886,887,888,889,890,891,892,893,894,895,896,897,898,899,900,901,902,903,904,905,906,907,908,909,910,911,912,913,914,915,916,917,918,919,920,921,922,923,924,925,926,927,928,929,930,931,932,933,934,935,936,937,938,939,940,941,942,943,944,945,946,947,948,949,950,951,952,953,954,955,956,957,958,959,960,961,962,963,964,965,966,967,968,969,970,971,972,973,974,975,976,977,978,979,980,981,982,983,984,985,986,987,988,989,990,991,992,993,994,995,996,997,998,999,1000,1001,1002,1003,1004,1005,1006,1007,1008,1009,1010,1011,1012,1013,1014,1015,1016,1017,1018,1019,1020,1021,1022,1023,1024,1025,1026,1027,1028,1029,1030,1031,1032,1033,1034,1035,1036,1037,1038,1039,1040,1041,1042,1043,1044,1045,1046,1047,1048,1049,1050,1051,1052,1053,1054,1055,1056,1057,1058,1059,1060,1061,1062,1063,1064,1065,1066,1067,1068,1069,1070,1071,1072,1073,1074,1075,1076,1077,1078,1079,1080,1081,1082,1083,1084,1085,1086,1087,1088,1089,1090,1091,1092,1093,1094,1095,1096,1097,1098,1099,1100,1101,1102,1103,1104,1105,1106,1107,1108,1109,1110,1111,1112,1113,1114,1115,1116,1117,1118,1119,1120,1121,1122,1123,1124,1125,1126,1127,1128,1129,1130,1131,1132,1133,1134,1135,1136,1137,1138,1139,1140,1141,1142,1143,1144,1145,1146,1147,1148,1149,1150,1151,1152,1153,1154,1155,1156,1157,1158,1159,1160,1161,1162,1163,1164,1165,1166,1167,1168,1169,1170,1171,1172,1173,1174,1175,1176,1177,1178,1179,1180,1181,1182,1183,1184,1185,1186,1187,1188,1189,1190,1191,1192,1193,1194,1195,1196,1197,1198,1199,1200,1201,1202,1203,1204,1205,1206,1207,1208,1209,1210,1211,1212,1213,1214,1215,1216,1217,1218,1219,1220,1221,1222,1223,1224,1225,1226,1227,1228,1229,1230,1231,1232,1233,1234,1235,1236,1237,1238,1239,1240,1241,1242,1243,1244,1245,1246,1247,1248,1249,1250,1251,1252,1253,1254,1255,1256,1257,1258,1259,1260,1261,1262,1263,1264,1265,1266,1267,1268,1269,1270,1271,1272,1273,1274,1275,1276,1277,1278,1279,1280,1281,1282,1283,1284,1285,1286,1287,1288,1289,1290,1291,1292,1293,1294,1295,1296,1297,1298,1299,1300,1301,1302,1303,1304,1305,1306,1307,1308,1309,1310,1311,1312,1313,1314],\"y\":{\"__ndarray__\":\"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\",\"dtype\":\"float64\",\"shape\":[1315]}}},\"id\":\"85a8b518-3bc5-4aa4-bf16-2cb529bf516c\",\"type\":\"ColumnDataSource\"},{\"attributes\":{},\"id\":\"5506c641-3a34-4922-ac4d-7262408292c7\",\"type\":\"BasicTickFormatter\"},{\"attributes\":{},\"id\":\"a55674e6-dcf8-45b6-899e-931a9c35e4dc\",\"type\":\"LinearScale\"},{\"attributes\":{\"callback\":null,\"column_names\":[\"x\",\"y\"],\"data\":{\"x\":[0,1,2,3,4,5,6,7,8,9,10,11,12,13,14,15,16,17,18,19,20,21,22,23,24,25,26,27,28,29,30,31,32,33,34,35,36,37,38,39,40,41,42,43,44,45,46,47,48,49,50,51,52,53,54,55,56,57,58,59,60,61,62,63,64,65,66,67,68,69,70,71,72,73,74,75,76,77,78,79,80,81,82,83,84,85,86,87,88,89,90,91,92,93,94,95,96,97,98,99,100,101,102,103,104,105,106,107,108,109,110,111,112,113,114,115,116,117,118,119,120,121,122,123,124,125,126,127,128,129,130,131,132,133,134,135,136,137,138,139,140,141,142,143,144,145,146,147,148,149,150,151,152,153,154,155,156,157,158,159,160,161,162,163,164,165,166,167,168,169,170,171,172,173,174,175,176,177,178,179,180,181,182,183,184,185,186,187,188,189,190,191,192,193,194,195,196,197,198,199,200,201,202,203,204,205,206,207,208,209,210,211,212,213,214,215,216,217,218,219,220,221,222,223,224,225,226,227,228,229,230,231,232,233,234,235,236,237,238,239,240,241,242,243,244,245,246,247,248,249,250,251,252,253,254,255,256,257,258,259,260,261,262,263,264,265,266,267,268,269,270,271,272,273,274,275,276,277,278,279,280,281,282,283,284,285,286,287,288,289,290,291,292,293,294,295,296,297,298,299,300,301,302,303,304,305,306,307,308,309,310,311,312,313,314,315,316,317,318,319,320,321,322,323,324,325,326,327,328,329,330,331,332,333,334,335,336,337,338,339,340,341,342,343,344,345,346,347,348,349,350,351,352,353,354,355,356,357,358,359,360,361,362,363,364,365,366,367,368,369,370,371,372,373,374,375,376,377,378,379,380,381,382,383,384,385,386,387,388,389,390,391,392,393,394,395,396,397,398,399,400,401,402,403,404,405,406,407,408,409,410,411,412,413,414,415,416,417,418,419,420,421,422,423,424,425,426,427,428,429,430,431,432,433,434,435,436,437,438,439,440,441,442,443,444,445,446,447,448,449,450,451,452,453,454,455,456,457,458,459,460,461,462,463,464,465,466,467,468,469,470,471,472,473,474,475,476,477,478,479,480,481,482,483,484,485,486,487,488,489,490,491,492,493,494,495,496,497,498,499,500,501,502,503,504,505,506,507,508,509,510,511,512,513,514,515,516,517,518,519,520,521,522,523,524,525,526,527,528,529,530,531,532,533,534,535,536,537,538,539,540,541,542,543,544,545,546,547,548,549,550,551,552,553,554,555,556,557,558,559,560,561,562,563,564,565,566,567,568,569,570,571,572,573,574,575,576,577,578,579,580,581,582,583,584,585,586,587,588,589,590,591,592,593,594,595,596,597,598,599,600,601,602,603,604,605,606,607,608,609,610,611,612,613,614,615,616,617,618,619,620,621,622,623,624,625,626,627,628,629,630,631,632,633,634,635,636,637,638,639,640,641,642,643,644,645,646,647,648,649,650,651,652,653,654,655,656,657,658,659,660,661,662,663,664,665,666,667,668,669,670,671,672,673,674,675,676,677,678,679,680,681,682,683,684,685,686,687,688,689,690,691,692,693,694,695,696,697,698,699,700,701,702,703,704,705,706,707,708,709,710,711,712,713,714,715,716,717,718,719,720,721,722,723,724,725,726,727,728,729,730,731,732,733,734,735,736,737,738,739,740,741,742,743,744,745,746,747,748,749,750,751,752,753,754,755,756,757,758,759,760,761,762,763,764,765,766,767,768,769,770,771,772,773,774,775,776,777,778,779,780,781,782,783,784,785,786,787,788,789,790,791,792,793,794,795,796,797,798,799,800,801,802,803,804,805,806,807,808,809,810,811,812,813,814,815,816,817,818,819,820,821,822,823,824,825,826,827,828,829,830,831,832,833,834,835,836,837,838,839,840,841,842,843,844,845,846,847,848,849,850,851,852,853,854,855,856,857,858,859,860,861,862,863,864,865,866,867,868,869,870,871,872,873,874,875,876,877,878,879,880,881,882,883,884,885,886,887,888,889,890,891,892,893,894,895,896,897,898,899,900,901,902,903,904,905,906,907,908,909,910,911,912,913,914,915,916,917,918,919,920,921,922,923,924,925,926,927,928,929,930,931,932,933,934,935,936,937,938,939,940,941,942,943,944,945,946,947,948,949,950,951,952,953,954,955,956,957,958,959,960,961,962,963,964,965,966,967,968,969,970,971,972,973,974,975,976,977,978,979,980,981,982,983,984,985,986,987,988,989,990,991,992,993,994,995,996,997,998,999,1000,1001,1002,1003,1004,1005,1006,1007,1008,1009,1010,1011,1012,1013,1014,1015,1016,1017,1018,1019,1020,1021,1022,1023,1024,1025,1026,1027,1028,1029,1030,1031,1032,1033,1034,1035,1036,1037,1038,1039,1040,1041,1042,1043,1044,1045,1046,1047,1048,1049,1050,1051,1052,1053,1054,1055,1056,1057,1058,1059,1060,1061,1062,1063,1064,1065,1066,1067,1068,1069,1070,1071,1072,1073,1074,1075,1076,1077,1078,1079,1080,1081,1082,1083,1084,1085,1086,1087,1088,1089,1090,1091,1092,1093,1094,1095,1096,1097,1098,1099,1100,1101,1102,1103,1104,1105,1106,1107,1108,1109,1110,1111,1112,1113,1114,1115,1116,1117,1118,1119,1120,1121,1122,1123,1124,1125,1126,1127,1128,1129,1130,1131,1132,1133,1134,1135,1136,1137,1138,1139,1140,1141,1142,1143,1144,1145,1146,1147,1148,1149,1150,1151,1152,1153,1154,1155,1156,1157,1158,1159,1160,1161,1162,1163,1164,1165,1166,1167,1168,1169,1170,1171,1172,1173,1174,1175,1176,1177,1178,1179,1180,1181,1182,1183,1184,1185,1186,1187,1188,1189,1190,1191,1192,1193,1194,1195,1196,1197,1198,1199,1200,1201,1202,1203,1204,1205,1206,1207,1208,1209,1210,1211,1212,1213,1214,1215,1216,1217,1218,1219,1220,1221,1222,1223,1224,1225,1226,1227,1228,1229,1230,1231,1232,1233,1234,1235,1236,1237,1238,1239,1240,1241,1242,1243,1244,1245,1246,1247,1248,1249,1250,1251,1252,1253,1254,1255,1256,1257,1258,1259,1260,1261,1262,1263,1264,1265,1266,1267,1268,1269,1270,1271,1272,1273,1274,1275,1276,1277,1278,1279,1280,1281,1282,1283,1284,1285,1286,1287,1288,1289,1290,1291,1292,1293,1294,1295,1296,1297,1298,1299,1300,1301,1302,1303,1304,1305,1306,1307,1308,1309,1310,1311,1312,1313,1314],\"y\":{\"__ndarray__\":\"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\",\"dtype\":\"float64\",\"shape\":[1315]}}},\"id\":\"56be4baa-5802-4368-b580-948835b5baff\",\"type\":\"ColumnDataSource\"},{\"attributes\":{\"line_alpha\":{\"value\":0.1},\"line_color\":{\"value\":\"#1f77b4\"},\"x\":{\"field\":\"x\"},\"y\":{\"field\":\"y\"}},\"id\":\"bf82122d-7448-4350-a9d5-c37c9306b439\",\"type\":\"Line\"},{\"attributes\":{},\"id\":\"4956749d-cad1-42ea-9d21-5ceb0596ca22\",\"type\":\"ResetTool\"},{\"attributes\":{\"line_alpha\":{\"value\":0.1},\"line_color\":{\"value\":\"#1f77b4\"},\"x\":{\"field\":\"x\"},\"y\":{\"field\":\"y\"}},\"id\":\"a8435bff-15cd-4de7-b1c7-d8e226dfb8d5\",\"type\":\"Line\"},{\"attributes\":{\"line_color\":{\"value\":\"gray\"},\"x\":{\"field\":\"x\"},\"y\":{\"field\":\"y\"}},\"id\":\"bbc215d4-bd0e-40ef-b410-84356bb295e3\",\"type\":\"Line\"},{\"attributes\":{\"items\":[{\"id\":\"475c8342-7d74-4c3a-a2e6-4ce24085123f\",\"type\":\"LegendItem\"},{\"id\":\"694d6f77-6760-4c46-9d11-e6dcff83cebc\",\"type\":\"LegendItem\"}],\"plot\":{\"id\":\"909ddbfa-b2dd-4491-983f-81da3725be74\",\"subtype\":\"Figure\",\"type\":\"Plot\"}},\"id\":\"3699513b-e024-4f20-b686-85139a10bdf6\",\"type\":\"Legend\"},{\"attributes\":{\"label\":{\"value\":\"Ground truth\"},\"renderers\":[{\"id\":\"17f16f43-2580-44b7-b282-2fc126ad06a3\",\"type\":\"GlyphRenderer\"}]},\"id\":\"475c8342-7d74-4c3a-a2e6-4ce24085123f\",\"type\":\"LegendItem\"},{\"attributes\":{\"bottom_units\":\"screen\",\"fill_alpha\":{\"value\":0.5},\"fill_color\":{\"value\":\"lightgrey\"},\"left_units\":\"screen\",\"level\":\"overlay\",\"line_alpha\":{\"value\":1.0},\"line_color\":{\"value\":\"black\"},\"line_dash\":[4,4],\"line_width\":{\"value\":2},\"plot\":null,\"render_mode\":\"css\",\"right_units\":\"screen\",\"top_units\":\"screen\"},\"id\":\"fa6d7082-e773-4576-a281-d10f5645fce9\",\"type\":\"BoxAnnotation\"},{\"attributes\":{},\"id\":\"14570a59-148e-4014-b879-208fbe67d612\",\"type\":\"HelpTool\"},{\"attributes\":{},\"id\":\"14b48451-e431-494e-a28e-4675878c095f\",\"type\":\"SaveTool\"},{\"attributes\":{},\"id\":\"f550d64a-9f88-4720-818b-e8045703270c\",\"type\":\"PanTool\"},{\"attributes\":{\"source\":{\"id\":\"85a8b518-3bc5-4aa4-bf16-2cb529bf516c\",\"type\":\"ColumnDataSource\"}},\"id\":\"f2e7c060-6f1f-4e88-9d2b-af0adf987562\",\"type\":\"CDSView\"},{\"attributes\":{\"callback\":null},\"id\":\"dd63c36d-055c-4a99-b8d0-9b0e047ff64c\",\"type\":\"DataRange1d\"},{\"attributes\":{\"data_source\":{\"id\":\"56be4baa-5802-4368-b580-948835b5baff\",\"type\":\"ColumnDataSource\"},\"glyph\":{\"id\":\"bbc215d4-bd0e-40ef-b410-84356bb295e3\",\"type\":\"Line\"},\"hover_glyph\":null,\"muted_glyph\":null,\"nonselection_glyph\":{\"id\":\"bf82122d-7448-4350-a9d5-c37c9306b439\",\"type\":\"Line\"},\"selection_glyph\":null,\"view\":{\"id\":\"81ce6060-378b-443f-82e2-daba3f5780b8\",\"type\":\"CDSView\"}},\"id\":\"2bee890a-2df7-4922-9997-420cf99aee39\",\"type\":\"GlyphRenderer\"},{\"attributes\":{},\"id\":\"5dc5ab29-08f4-44aa-b828-81c47d373f53\",\"type\":\"LinearScale\"},{\"attributes\":{},\"id\":\"aa45923d-a66b-4e10-839e-e4bd9f0ae23d\",\"type\":\"BasicTicker\"},{\"attributes\":{\"source\":{\"id\":\"56be4baa-5802-4368-b580-948835b5baff\",\"type\":\"ColumnDataSource\"}},\"id\":\"81ce6060-378b-443f-82e2-daba3f5780b8\",\"type\":\"CDSView\"},{\"attributes\":{\"formatter\":{\"id\":\"5506c641-3a34-4922-ac4d-7262408292c7\",\"type\":\"BasicTickFormatter\"},\"plot\":{\"id\":\"909ddbfa-b2dd-4491-983f-81da3725be74\",\"subtype\":\"Figure\",\"type\":\"Plot\"},\"ticker\":{\"id\":\"aa45923d-a66b-4e10-839e-e4bd9f0ae23d\",\"type\":\"BasicTicker\"}},\"id\":\"48144b94-e78e-4df2-bdef-27c9ced57e92\",\"type\":\"LinearAxis\"}],\"root_ids\":[\"909ddbfa-b2dd-4491-983f-81da3725be74\"]},\"title\":\"Bokeh Application\",\"version\":\"0.12.10\"}};\n",
       "    var render_items = [{\"docid\":\"81241e24-92a6-4c07-a6b1-6ba4e4197ad8\",\"elementid\":\"bf95a301-bc8a-491e-845b-b3a0cc01e735\",\"modelid\":\"909ddbfa-b2dd-4491-983f-81da3725be74\"}];\n",
       "\n",
       "    root.Bokeh.embed.embed_items(docs_json, render_items);\n",
       "  }\n",
       "\n",
       "  if (root.Bokeh !== undefined) {\n",
       "    embed_document(root);\n",
       "  } else {\n",
       "    var attempts = 0;\n",
       "    var timer = setInterval(function(root) {\n",
       "      if (root.Bokeh !== undefined) {\n",
       "        embed_document(root);\n",
       "        clearInterval(timer);\n",
       "      }\n",
       "      attempts++;\n",
       "      if (attempts > 100) {\n",
       "        console.log(\"Bokeh: ERROR: Unable to embed document because BokehJS library is missing\")\n",
       "        clearInterval(timer);\n",
       "      }\n",
       "    }, 10, root)\n",
       "  }\n",
       "})(window);"
      ],
      "application/vnd.bokehjs_exec.v0+json": ""
     },
     "metadata": {
      "application/vnd.bokehjs_exec.v0+json": {
       "id": "909ddbfa-b2dd-4491-983f-81da3725be74"
      }
     },
     "output_type": "display_data"
    }
   ],
   "source": [
    "evaluate_model(rnn2, Xtr, 'Evaluation of second model on the training set')"
   ]
  },
  {
   "cell_type": "code",
   "execution_count": 28,
   "metadata": {
    "scrolled": true
   },
   "outputs": [
    {
     "data": {
      "text/html": [
       "\n",
       "<div class=\"bk-root\">\n",
       "    <div class=\"bk-plotdiv\" id=\"8f09f870-99ed-43e6-8206-4c552e4eff5c\"></div>\n",
       "</div>"
      ]
     },
     "metadata": {},
     "output_type": "display_data"
    },
    {
     "data": {
      "application/javascript": [
       "(function(root) {\n",
       "  function embed_document(root) {\n",
       "    var docs_json = {\"ede25b0c-3113-4809-8c55-cae975ce39d8\":{\"roots\":{\"references\":[{\"attributes\":{\"source\":{\"id\":\"7e1ce91f-41a6-4be9-9fb0-a64b1fb0fe67\",\"type\":\"ColumnDataSource\"}},\"id\":\"32aa479c-56af-4c0b-a381-42044742f523\",\"type\":\"CDSView\"},{\"attributes\":{},\"id\":\"b05609d3-ea2d-48b1-a013-c2c17cd5c14a\",\"type\":\"BasicTickFormatter\"},{\"attributes\":{\"callback\":null},\"id\":\"1f502170-8325-45fa-919e-c5ddc9fa5721\",\"type\":\"DataRange1d\"},{\"attributes\":{\"line_color\":{\"value\":\"gray\"},\"x\":{\"field\":\"x\"},\"y\":{\"field\":\"y\"}},\"id\":\"6706278e-5dd5-4337-a7a7-15058e550c87\",\"type\":\"Line\"},{\"attributes\":{},\"id\":\"6c4abd2c-91e9-4388-aec2-83ecbb296a89\",\"type\":\"BasicTickFormatter\"},{\"attributes\":{\"data_source\":{\"id\":\"2357b248-7c79-443d-964a-9c17df05be2e\",\"type\":\"ColumnDataSource\"},\"glyph\":{\"id\":\"6706278e-5dd5-4337-a7a7-15058e550c87\",\"type\":\"Line\"},\"hover_glyph\":null,\"muted_glyph\":null,\"nonselection_glyph\":{\"id\":\"ab5e0db1-7c8a-4a05-8914-69de31f7eb7a\",\"type\":\"Line\"},\"selection_glyph\":null,\"view\":{\"id\":\"5c16d4cc-1417-4cd5-acb0-0f9dfa6d243d\",\"type\":\"CDSView\"}},\"id\":\"a5c4b4c7-8e1b-4d37-a250-c81a0cfeb936\",\"type\":\"GlyphRenderer\"},{\"attributes\":{\"source\":{\"id\":\"2357b248-7c79-443d-964a-9c17df05be2e\",\"type\":\"ColumnDataSource\"}},\"id\":\"5c16d4cc-1417-4cd5-acb0-0f9dfa6d243d\",\"type\":\"CDSView\"},{\"attributes\":{\"line_color\":{\"value\":\"red\"},\"x\":{\"field\":\"x\"},\"y\":{\"field\":\"y\"}},\"id\":\"cb51f712-052a-4e7a-bf6b-f2843c829e62\",\"type\":\"Line\"},{\"attributes\":{\"below\":[{\"id\":\"031f65fd-cefe-429e-bfea-abe920c947b4\",\"type\":\"LinearAxis\"}],\"left\":[{\"id\":\"7bcb8076-7e1d-475e-a6b1-1bce35f0ed2e\",\"type\":\"LinearAxis\"}],\"plot_width\":800,\"renderers\":[{\"id\":\"031f65fd-cefe-429e-bfea-abe920c947b4\",\"type\":\"LinearAxis\"},{\"id\":\"58ee00fc-866a-47ff-b475-826cbe32ae33\",\"type\":\"Grid\"},{\"id\":\"7bcb8076-7e1d-475e-a6b1-1bce35f0ed2e\",\"type\":\"LinearAxis\"},{\"id\":\"f42094f9-5664-4166-b1dd-375092a34bb0\",\"type\":\"Grid\"},{\"id\":\"88f4bfd3-8ef9-4dbb-9261-56aa26658b6c\",\"type\":\"BoxAnnotation\"},{\"id\":\"b83e0443-2a28-4788-be4b-23afb016714e\",\"type\":\"Legend\"},{\"id\":\"91301f8d-75c0-4f98-990d-5a9fe9a5d14d\",\"type\":\"GlyphRenderer\"},{\"id\":\"a5c4b4c7-8e1b-4d37-a250-c81a0cfeb936\",\"type\":\"GlyphRenderer\"}],\"title\":{\"id\":\"eb736001-896d-4204-bdc9-10ecaa5ee047\",\"type\":\"Title\"},\"toolbar\":{\"id\":\"96927ff0-2acc-4b28-8386-427996819721\",\"type\":\"Toolbar\"},\"x_range\":{\"id\":\"3b6f8c52-a008-4898-8669-ff68bfbababb\",\"type\":\"DataRange1d\"},\"x_scale\":{\"id\":\"adf3f42a-9e7c-4430-afc3-b5ff54836cfe\",\"type\":\"LinearScale\"},\"y_range\":{\"id\":\"1f502170-8325-45fa-919e-c5ddc9fa5721\",\"type\":\"DataRange1d\"},\"y_scale\":{\"id\":\"dc9f682f-f45d-4194-b8ae-edbb54b25f0d\",\"type\":\"LinearScale\"}},\"id\":\"e95b9006-8b3b-4bde-ace1-d5f57df18499\",\"subtype\":\"Figure\",\"type\":\"Plot\"},{\"attributes\":{\"plot\":null,\"text\":\"Evaluation of second model on the test set\"},\"id\":\"eb736001-896d-4204-bdc9-10ecaa5ee047\",\"type\":\"Title\"},{\"attributes\":{\"callback\":null},\"id\":\"3b6f8c52-a008-4898-8669-ff68bfbababb\",\"type\":\"DataRange1d\"},{\"attributes\":{\"bottom_units\":\"screen\",\"fill_alpha\":{\"value\":0.5},\"fill_color\":{\"value\":\"lightgrey\"},\"left_units\":\"screen\",\"level\":\"overlay\",\"line_alpha\":{\"value\":1.0},\"line_color\":{\"value\":\"black\"},\"line_dash\":[4,4],\"line_width\":{\"value\":2},\"plot\":null,\"render_mode\":\"css\",\"right_units\":\"screen\",\"top_units\":\"screen\"},\"id\":\"88f4bfd3-8ef9-4dbb-9261-56aa26658b6c\",\"type\":\"BoxAnnotation\"},{\"attributes\":{\"active_drag\":\"auto\",\"active_inspect\":\"auto\",\"active_scroll\":{\"id\":\"5138f5ca-6d20-4cbc-b178-a7b690ec6bdc\",\"type\":\"WheelZoomTool\"},\"active_tap\":\"auto\",\"tools\":[{\"id\":\"0e85e735-6968-40d8-9a0a-0ff6b0b2831c\",\"type\":\"PanTool\"},{\"id\":\"5138f5ca-6d20-4cbc-b178-a7b690ec6bdc\",\"type\":\"WheelZoomTool\"},{\"id\":\"dcc0233d-79e1-4706-8d98-4808a5a39166\",\"type\":\"BoxZoomTool\"},{\"id\":\"f0802c97-c7b4-43eb-9008-9302ab48c4db\",\"type\":\"SaveTool\"},{\"id\":\"e71c84d2-e120-4831-9a6e-58630e0ff1da\",\"type\":\"ResetTool\"},{\"id\":\"44068ddb-673d-48e2-b5a8-faa59b855491\",\"type\":\"HelpTool\"}]},\"id\":\"96927ff0-2acc-4b28-8386-427996819721\",\"type\":\"Toolbar\"},{\"attributes\":{\"callback\":null,\"column_names\":[\"x\",\"y\"],\"data\":{\"x\":[1315,1316,1317,1318,1319,1320,1321,1322,1323,1324,1325,1326,1327,1328,1329,1330,1331,1332,1333,1334,1335,1336,1337,1338,1339,1340,1341,1342,1343,1344,1345,1346,1347,1348,1349,1350,1351,1352,1353,1354,1355,1356,1357,1358,1359,1360,1361,1362,1363,1364,1365,1366,1367,1368,1369,1370,1371,1372,1373,1374,1375,1376,1377,1378,1379,1380,1381,1382,1383,1384,1385,1386,1387,1388,1389,1390,1391,1392,1393,1394,1395,1396,1397,1398,1399,1400,1401,1402,1403,1404,1405,1406,1407,1408,1409,1410,1411,1412,1413,1414,1415,1416,1417,1418,1419,1420,1421,1422,1423,1424,1425,1426,1427,1428,1429,1430,1431,1432,1433,1434,1435,1436,1437,1438,1439,1440,1441,1442,1443,1444,1445,1446,1447,1448,1449,1450,1451,1452,1453,1454,1455,1456,1457,1458,1459,1460,1461,1462,1463,1464,1465,1466,1467,1468,1469,1470,1471,1472,1473,1474,1475,1476,1477,1478,1479,1480,1481,1482,1483,1484,1485,1486,1487,1488,1489,1490,1491,1492,1493,1494,1495,1496,1497,1498,1499,1500,1501,1502,1503,1504,1505,1506,1507,1508,1509,1510,1511,1512,1513,1514,1515,1516,1517,1518,1519,1520,1521,1522,1523,1524,1525,1526,1527,1528,1529,1530,1531,1532,1533,1534,1535,1536,1537,1538,1539,1540,1541,1542,1543,1544,1545,1546,1547,1548,1549,1550,1551,1552,1553,1554,1555,1556,1557,1558,1559,1560,1561,1562,1563,1564,1565,1566,1567,1568,1569,1570,1571,1572,1573,1574,1575,1576,1577,1578,1579,1580,1581,1582,1583,1584,1585,1586,1587,1588,1589,1590,1591,1592,1593,1594,1595,1596,1597,1598,1599,1600,1601,1602,1603,1604,1605,1606,1607,1608,1609,1610,1611,1612,1613,1614,1615,1616,1617,1618,1619,1620,1621,1622,1623,1624,1625,1626,1627,1628,1629,1630,1631,1632,1633,1634,1635,1636,1637,1638,1639,1640,1641,1642,1643,1644,1645,1646,1647,1648,1649,1650,1651,1652,1653,1654,1655,1656,1657,1658,1659,1660,1661,1662,1663,1664,1665,1666,1667,1668,1669,1670,1671,1672,1673,1674,1675,1676,1677,1678,1679,1680,1681,1682,1683,1684,1685,1686,1687,1688,1689,1690,1691,1692,1693,1694,1695,1696,1697,1698,1699,1700,1701,1702,1703,1704,1705,1706,1707,1708,1709,1710,1711,1712,1713,1714,1715,1716,1717,1718,1719,1720,1721,1722,1723,1724,1725,1726,1727,1728,1729,1730,1731,1732,1733,1734,1735,1736,1737,1738,1739,1740,1741,1742,1743,1744,1745,1746,1747,1748,1749,1750,1751,1752,1753,1754,1755,1756,1757,1758,1759,1760,1761,1762,1763,1764,1765,1766,1767,1768,1769,1770,1771,1772,1773,1774,1775,1776,1777,1778,1779,1780,1781,1782,1783,1784,1785,1786,1787,1788,1789,1790,1791,1792,1793,1794,1795,1796,1797,1798,1799,1800,1801,1802,1803,1804,1805,1806,1807,1808,1809,1810,1811,1812,1813,1814,1815,1816,1817,1818,1819,1820,1821,1822,1823,1824,1825,1826,1827,1828,1829,1830,1831,1832,1833,1834,1835,1836,1837,1838,1839,1840,1841,1842,1843,1844,1845,1846,1847,1848,1849,1850,1851,1852,1853,1854,1855,1856,1857,1858,1859,1860,1861,1862,1863,1864,1865,1866,1867,1868,1869,1870,1871,1872,1873,1874,1875,1876,1877,1878,1879,1880,1881,1882,1883,1884,1885,1886,1887,1888,1889,1890,1891,1892,1893,1894,1895,1896,1897,1898,1899,1900,1901,1902,1903,1904,1905,1906,1907,1908,1909,1910,1911,1912,1913,1914,1915,1916,1917,1918,1919,1920,1921,1922,1923,1924,1925,1926,1927,1928,1929,1930,1931,1932,1933,1934,1935,1936,1937,1938,1939,1940,1941,1942,1943,1944,1945,1946,1947,1948,1949,1950,1951,1952,1953,1954,1955,1956,1957,1958,1959,1960,1961,1962,1963,1964,1965,1966,1967,1968,1969,1970,1971,1972],\"y\":{\"__ndarray__\":\"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\",\"dtype\":\"float64\",\"shape\":[658]}}},\"id\":\"2357b248-7c79-443d-964a-9c17df05be2e\",\"type\":\"ColumnDataSource\"},{\"attributes\":{},\"id\":\"adf3f42a-9e7c-4430-afc3-b5ff54836cfe\",\"type\":\"LinearScale\"},{\"attributes\":{},\"id\":\"dc9f682f-f45d-4194-b8ae-edbb54b25f0d\",\"type\":\"LinearScale\"},{\"attributes\":{\"line_alpha\":{\"value\":0.1},\"line_color\":{\"value\":\"#1f77b4\"},\"x\":{\"field\":\"x\"},\"y\":{\"field\":\"y\"}},\"id\":\"ab5e0db1-7c8a-4a05-8914-69de31f7eb7a\",\"type\":\"Line\"},{\"attributes\":{\"plot\":{\"id\":\"e95b9006-8b3b-4bde-ace1-d5f57df18499\",\"subtype\":\"Figure\",\"type\":\"Plot\"},\"ticker\":{\"id\":\"9d8e99e3-4f8b-4a68-8508-d95fdf4b2610\",\"type\":\"BasicTicker\"}},\"id\":\"58ee00fc-866a-47ff-b475-826cbe32ae33\",\"type\":\"Grid\"},{\"attributes\":{\"formatter\":{\"id\":\"6c4abd2c-91e9-4388-aec2-83ecbb296a89\",\"type\":\"BasicTickFormatter\"},\"plot\":{\"id\":\"e95b9006-8b3b-4bde-ace1-d5f57df18499\",\"subtype\":\"Figure\",\"type\":\"Plot\"},\"ticker\":{\"id\":\"9d8e99e3-4f8b-4a68-8508-d95fdf4b2610\",\"type\":\"BasicTicker\"}},\"id\":\"031f65fd-cefe-429e-bfea-abe920c947b4\",\"type\":\"LinearAxis\"},{\"attributes\":{},\"id\":\"df7f96da-03ba-43da-ba5f-549ea3559313\",\"type\":\"BasicTicker\"},{\"attributes\":{\"dimension\":1,\"plot\":{\"id\":\"e95b9006-8b3b-4bde-ace1-d5f57df18499\",\"subtype\":\"Figure\",\"type\":\"Plot\"},\"ticker\":{\"id\":\"df7f96da-03ba-43da-ba5f-549ea3559313\",\"type\":\"BasicTicker\"}},\"id\":\"f42094f9-5664-4166-b1dd-375092a34bb0\",\"type\":\"Grid\"},{\"attributes\":{},\"id\":\"9d8e99e3-4f8b-4a68-8508-d95fdf4b2610\",\"type\":\"BasicTicker\"},{\"attributes\":{\"label\":{\"value\":\"Prediction\"},\"renderers\":[{\"id\":\"a5c4b4c7-8e1b-4d37-a250-c81a0cfeb936\",\"type\":\"GlyphRenderer\"}]},\"id\":\"e4f4b3a2-e79e-4fe6-a011-63732fc8e566\",\"type\":\"LegendItem\"},{\"attributes\":{\"formatter\":{\"id\":\"b05609d3-ea2d-48b1-a013-c2c17cd5c14a\",\"type\":\"BasicTickFormatter\"},\"plot\":{\"id\":\"e95b9006-8b3b-4bde-ace1-d5f57df18499\",\"subtype\":\"Figure\",\"type\":\"Plot\"},\"ticker\":{\"id\":\"df7f96da-03ba-43da-ba5f-549ea3559313\",\"type\":\"BasicTicker\"}},\"id\":\"7bcb8076-7e1d-475e-a6b1-1bce35f0ed2e\",\"type\":\"LinearAxis\"},{\"attributes\":{\"label\":{\"value\":\"Ground truth\"},\"renderers\":[{\"id\":\"91301f8d-75c0-4f98-990d-5a9fe9a5d14d\",\"type\":\"GlyphRenderer\"}]},\"id\":\"c20f3c5f-9e7a-482f-ae42-34314d67a896\",\"type\":\"LegendItem\"},{\"attributes\":{\"callback\":null,\"column_names\":[\"x\",\"y\"],\"data\":{\"x\":[1315,1316,1317,1318,1319,1320,1321,1322,1323,1324,1325,1326,1327,1328,1329,1330,1331,1332,1333,1334,1335,1336,1337,1338,1339,1340,1341,1342,1343,1344,1345,1346,1347,1348,1349,1350,1351,1352,1353,1354,1355,1356,1357,1358,1359,1360,1361,1362,1363,1364,1365,1366,1367,1368,1369,1370,1371,1372,1373,1374,1375,1376,1377,1378,1379,1380,1381,1382,1383,1384,1385,1386,1387,1388,1389,1390,1391,1392,1393,1394,1395,1396,1397,1398,1399,1400,1401,1402,1403,1404,1405,1406,1407,1408,1409,1410,1411,1412,1413,1414,1415,1416,1417,1418,1419,1420,1421,1422,1423,1424,1425,1426,1427,1428,1429,1430,1431,1432,1433,1434,1435,1436,1437,1438,1439,1440,1441,1442,1443,1444,1445,1446,1447,1448,1449,1450,1451,1452,1453,1454,1455,1456,1457,1458,1459,1460,1461,1462,1463,1464,1465,1466,1467,1468,1469,1470,1471,1472,1473,1474,1475,1476,1477,1478,1479,1480,1481,1482,1483,1484,1485,1486,1487,1488,1489,1490,1491,1492,1493,1494,1495,1496,1497,1498,1499,1500,1501,1502,1503,1504,1505,1506,1507,1508,1509,1510,1511,1512,1513,1514,1515,1516,1517,1518,1519,1520,1521,1522,1523,1524,1525,1526,1527,1528,1529,1530,1531,1532,1533,1534,1535,1536,1537,1538,1539,1540,1541,1542,1543,1544,1545,1546,1547,1548,1549,1550,1551,1552,1553,1554,1555,1556,1557,1558,1559,1560,1561,1562,1563,1564,1565,1566,1567,1568,1569,1570,1571,1572,1573,1574,1575,1576,1577,1578,1579,1580,1581,1582,1583,1584,1585,1586,1587,1588,1589,1590,1591,1592,1593,1594,1595,1596,1597,1598,1599,1600,1601,1602,1603,1604,1605,1606,1607,1608,1609,1610,1611,1612,1613,1614,1615,1616,1617,1618,1619,1620,1621,1622,1623,1624,1625,1626,1627,1628,1629,1630,1631,1632,1633,1634,1635,1636,1637,1638,1639,1640,1641,1642,1643,1644,1645,1646,1647,1648,1649,1650,1651,1652,1653,1654,1655,1656,1657,1658,1659,1660,1661,1662,1663,1664,1665,1666,1667,1668,1669,1670,1671,1672,1673,1674,1675,1676,1677,1678,1679,1680,1681,1682,1683,1684,1685,1686,1687,1688,1689,1690,1691,1692,1693,1694,1695,1696,1697,1698,1699,1700,1701,1702,1703,1704,1705,1706,1707,1708,1709,1710,1711,1712,1713,1714,1715,1716,1717,1718,1719,1720,1721,1722,1723,1724,1725,1726,1727,1728,1729,1730,1731,1732,1733,1734,1735,1736,1737,1738,1739,1740,1741,1742,1743,1744,1745,1746,1747,1748,1749,1750,1751,1752,1753,1754,1755,1756,1757,1758,1759,1760,1761,1762,1763,1764,1765,1766,1767,1768,1769,1770,1771,1772,1773,1774,1775,1776,1777,1778,1779,1780,1781,1782,1783,1784,1785,1786,1787,1788,1789,1790,1791,1792,1793,1794,1795,1796,1797,1798,1799,1800,1801,1802,1803,1804,1805,1806,1807,1808,1809,1810,1811,1812,1813,1814,1815,1816,1817,1818,1819,1820,1821,1822,1823,1824,1825,1826,1827,1828,1829,1830,1831,1832,1833,1834,1835,1836,1837,1838,1839,1840,1841,1842,1843,1844,1845,1846,1847,1848,1849,1850,1851,1852,1853,1854,1855,1856,1857,1858,1859,1860,1861,1862,1863,1864,1865,1866,1867,1868,1869,1870,1871,1872,1873,1874,1875,1876,1877,1878,1879,1880,1881,1882,1883,1884,1885,1886,1887,1888,1889,1890,1891,1892,1893,1894,1895,1896,1897,1898,1899,1900,1901,1902,1903,1904,1905,1906,1907,1908,1909,1910,1911,1912,1913,1914,1915,1916,1917,1918,1919,1920,1921,1922,1923,1924,1925,1926,1927,1928,1929,1930,1931,1932,1933,1934,1935,1936,1937,1938,1939,1940,1941,1942,1943,1944,1945,1946,1947,1948,1949,1950,1951,1952,1953,1954,1955,1956,1957,1958,1959,1960,1961,1962,1963,1964,1965,1966,1967,1968,1969,1970,1971,1972],\"y\":{\"__ndarray__\":\"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\",\"dtype\":\"float64\",\"shape\":[658]}}},\"id\":\"7e1ce91f-41a6-4be9-9fb0-a64b1fb0fe67\",\"type\":\"ColumnDataSource\"},{\"attributes\":{\"items\":[{\"id\":\"c20f3c5f-9e7a-482f-ae42-34314d67a896\",\"type\":\"LegendItem\"},{\"id\":\"e4f4b3a2-e79e-4fe6-a011-63732fc8e566\",\"type\":\"LegendItem\"}],\"plot\":{\"id\":\"e95b9006-8b3b-4bde-ace1-d5f57df18499\",\"subtype\":\"Figure\",\"type\":\"Plot\"}},\"id\":\"b83e0443-2a28-4788-be4b-23afb016714e\",\"type\":\"Legend\"},{\"attributes\":{},\"id\":\"f0802c97-c7b4-43eb-9008-9302ab48c4db\",\"type\":\"SaveTool\"},{\"attributes\":{\"line_alpha\":{\"value\":0.1},\"line_color\":{\"value\":\"#1f77b4\"},\"x\":{\"field\":\"x\"},\"y\":{\"field\":\"y\"}},\"id\":\"06d6ecaf-99a7-419a-b1bb-2d52eebaf033\",\"type\":\"Line\"},{\"attributes\":{},\"id\":\"0e85e735-6968-40d8-9a0a-0ff6b0b2831c\",\"type\":\"PanTool\"},{\"attributes\":{},\"id\":\"e71c84d2-e120-4831-9a6e-58630e0ff1da\",\"type\":\"ResetTool\"},{\"attributes\":{},\"id\":\"44068ddb-673d-48e2-b5a8-faa59b855491\",\"type\":\"HelpTool\"},{\"attributes\":{},\"id\":\"5138f5ca-6d20-4cbc-b178-a7b690ec6bdc\",\"type\":\"WheelZoomTool\"},{\"attributes\":{\"data_source\":{\"id\":\"7e1ce91f-41a6-4be9-9fb0-a64b1fb0fe67\",\"type\":\"ColumnDataSource\"},\"glyph\":{\"id\":\"cb51f712-052a-4e7a-bf6b-f2843c829e62\",\"type\":\"Line\"},\"hover_glyph\":null,\"muted_glyph\":null,\"nonselection_glyph\":{\"id\":\"06d6ecaf-99a7-419a-b1bb-2d52eebaf033\",\"type\":\"Line\"},\"selection_glyph\":null,\"view\":{\"id\":\"32aa479c-56af-4c0b-a381-42044742f523\",\"type\":\"CDSView\"}},\"id\":\"91301f8d-75c0-4f98-990d-5a9fe9a5d14d\",\"type\":\"GlyphRenderer\"},{\"attributes\":{\"overlay\":{\"id\":\"88f4bfd3-8ef9-4dbb-9261-56aa26658b6c\",\"type\":\"BoxAnnotation\"}},\"id\":\"dcc0233d-79e1-4706-8d98-4808a5a39166\",\"type\":\"BoxZoomTool\"}],\"root_ids\":[\"e95b9006-8b3b-4bde-ace1-d5f57df18499\"]},\"title\":\"Bokeh Application\",\"version\":\"0.12.10\"}};\n",
       "    var render_items = [{\"docid\":\"ede25b0c-3113-4809-8c55-cae975ce39d8\",\"elementid\":\"8f09f870-99ed-43e6-8206-4c552e4eff5c\",\"modelid\":\"e95b9006-8b3b-4bde-ace1-d5f57df18499\"}];\n",
       "\n",
       "    root.Bokeh.embed.embed_items(docs_json, render_items);\n",
       "  }\n",
       "\n",
       "  if (root.Bokeh !== undefined) {\n",
       "    embed_document(root);\n",
       "  } else {\n",
       "    var attempts = 0;\n",
       "    var timer = setInterval(function(root) {\n",
       "      if (root.Bokeh !== undefined) {\n",
       "        embed_document(root);\n",
       "        clearInterval(timer);\n",
       "      }\n",
       "      attempts++;\n",
       "      if (attempts > 100) {\n",
       "        console.log(\"Bokeh: ERROR: Unable to embed document because BokehJS library is missing\")\n",
       "        clearInterval(timer);\n",
       "      }\n",
       "    }, 10, root)\n",
       "  }\n",
       "})(window);"
      ],
      "application/vnd.bokehjs_exec.v0+json": ""
     },
     "metadata": {
      "application/vnd.bokehjs_exec.v0+json": {
       "id": "e95b9006-8b3b-4bde-ace1-d5f57df18499"
      }
     },
     "output_type": "display_data"
    }
   ],
   "source": [
    "evaluate_model(rnn2, Xte, 'Evaluation of second model on the test set')"
   ]
  },
  {
   "cell_type": "markdown",
   "metadata": {},
   "source": [
    "**Gosh, this one looks promising! Shall I start trading?**"
   ]
  },
  {
   "cell_type": "code",
   "execution_count": null,
   "metadata": {
    "collapsed": true
   },
   "outputs": [],
   "source": []
  }
 ],
 "metadata": {
  "kernelspec": {
   "display_name": "Python 3",
   "language": "python",
   "name": "python3"
  },
  "language_info": {
   "codemirror_mode": {
    "name": "ipython",
    "version": 3
   },
   "file_extension": ".py",
   "mimetype": "text/x-python",
   "name": "python",
   "nbconvert_exporter": "python",
   "pygments_lexer": "ipython3",
   "version": "3.6.3"
  }
 },
 "nbformat": 4,
 "nbformat_minor": 2
}
