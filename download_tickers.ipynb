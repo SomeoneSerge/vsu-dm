{
 "cells": [
  {
   "cell_type": "code",
   "execution_count": 1,
   "metadata": {
    "collapsed": true
   },
   "outputs": [],
   "source": [
    "import pandas as pd\n",
    "from pandas_datareader import data, wb\n",
    "from datetime import datetime\n",
    "import os\n",
    "import  importlib"
   ]
  },
  {
   "cell_type": "code",
   "execution_count": 2,
   "metadata": {},
   "outputs": [
    {
     "name": "stdout",
     "output_type": "stream",
     "text": [
      "[2018-01-11 23:42:11.915330] Error\n",
      "[2018-01-11 23:42:13.914859] Error\n",
      "[2018-01-11 23:42:15.838803] Error\n",
      "[2018-01-11 23:42:17.600205] Error\n",
      "[2018-01-11 23:42:19.738937] Error\n"
     ]
    }
   ],
   "source": [
    "SOURCE = 'yahoo'\n",
    "TICKERS = (\n",
    "    ['GOOG', 'AAPL', 'MSFT']\n",
    "    + list(data.get_nasdaq_symbols().index)[:64]\n",
    ")\n",
    "for ticker in TICKERS:\n",
    "    try:\n",
    "        fname = 'tickers/{}.csv'.format(ticker)\n",
    "        if not os.path.exists(fname):\n",
    "            df = data.DataReader(ticker, SOURCE,\n",
    "                                 datetime(2010, 1, 1),\n",
    "                                 datetime(2017, 11, 1))\n",
    "            df.to_csv(fname)\n",
    "    except Exception:\n",
    "        print('[%s] Error' % datetime.now())\n",
    "        importlib.reload(data)\n",
    "        importlib.reload(wb)"
   ]
  }
 ],
 "metadata": {
  "kernelspec": {
   "display_name": "Python 3",
   "language": "python",
   "name": "python3"
  },
  "language_info": {
   "codemirror_mode": {
    "name": "ipython",
    "version": 3
   },
   "file_extension": ".py",
   "mimetype": "text/x-python",
   "name": "python",
   "nbconvert_exporter": "python",
   "pygments_lexer": "ipython3",
   "version": "3.6.3"
  }
 },
 "nbformat": 4,
 "nbformat_minor": 2
}
