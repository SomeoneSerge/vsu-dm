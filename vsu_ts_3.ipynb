{
 "cells": [
  {
   "cell_type": "markdown",
   "metadata": {},
   "source": [
    "# Time Series predictions using LSTM\n",
    "\n",
    "Yet another try"
   ]
  },
  {
   "cell_type": "code",
   "execution_count": 1,
   "metadata": {},
   "outputs": [
    {
     "ename": "ModuleNotFoundError",
     "evalue": "No module named 'pandas_datareader'",
     "output_type": "error",
     "traceback": [
      "\u001b[0;31m---------------------------------------------------------------------------\u001b[0m",
      "\u001b[0;31mModuleNotFoundError\u001b[0m                       Traceback (most recent call last)",
      "\u001b[0;32m<ipython-input-1-e548460975ca>\u001b[0m in \u001b[0;36m<module>\u001b[0;34m()\u001b[0m\n\u001b[1;32m      1\u001b[0m \u001b[0;32mimport\u001b[0m \u001b[0mpandas\u001b[0m \u001b[0;32mas\u001b[0m \u001b[0mpd\u001b[0m\u001b[0;34m\u001b[0m\u001b[0m\n\u001b[0;32m----> 2\u001b[0;31m \u001b[0;32mfrom\u001b[0m \u001b[0mpandas_datareader\u001b[0m \u001b[0;32mimport\u001b[0m \u001b[0mdata\u001b[0m\u001b[0;34m,\u001b[0m \u001b[0mwb\u001b[0m\u001b[0;34m\u001b[0m\u001b[0m\n\u001b[0m\u001b[1;32m      3\u001b[0m \u001b[0;32mfrom\u001b[0m \u001b[0mdatetime\u001b[0m \u001b[0;32mimport\u001b[0m \u001b[0mdatetime\u001b[0m\u001b[0;34m\u001b[0m\u001b[0m\n\u001b[1;32m      4\u001b[0m \u001b[0;32mimport\u001b[0m \u001b[0mnumpy\u001b[0m \u001b[0;32mas\u001b[0m \u001b[0mnp\u001b[0m\u001b[0;34m\u001b[0m\u001b[0m\n\u001b[1;32m      5\u001b[0m \u001b[0;32mimport\u001b[0m \u001b[0mgraphviz\u001b[0m\u001b[0;34m\u001b[0m\u001b[0m\n",
      "\u001b[0;31mModuleNotFoundError\u001b[0m: No module named 'pandas_datareader'"
     ]
    }
   ],
   "source": [
    "import pandas as pd\n",
    "from pandas_datareader import data, wb\n",
    "from datetime import datetime\n",
    "import numpy as np\n",
    "import graphviz\n",
    "\n",
    "import sys\n",
    "import os\n",
    "\n",
    "import torch\n",
    "import torch.nn as nn\n",
    "import torch.nn.functional as F\n",
    "from torch.autograd import Variable\n",
    "\n",
    "import bokeh.models\n",
    "import bokeh.plotting as bk\n",
    "bk.output_notebook()"
   ]
  },
  {
   "cell_type": "code",
   "execution_count": null,
   "metadata": {
    "collapsed": true
   },
   "outputs": [],
   "source": [
    "if not os.path.exists('GOOG.csv'):\n",
    "    df = data.DataReader('GOOG', 'yahoo', datetime(2010, 1, 1), datetime(2017, 11, 1))\n",
    "    df.to_csv('GOOG.csv')\n",
    "else:\n",
    "    df = pd.read_csv('GOOG.csv')"
   ]
  },
  {
   "cell_type": "code",
   "execution_count": null,
   "metadata": {
    "collapsed": true
   },
   "outputs": [],
   "source": [
    "WINDOW_IN = 14\n",
    "WINDOW_OUT = 7"
   ]
  },
  {
   "cell_type": "code",
   "execution_count": null,
   "metadata": {
    "collapsed": true
   },
   "outputs": [],
   "source": [
    "df.head()"
   ]
  },
  {
   "cell_type": "code",
   "execution_count": null,
   "metadata": {
    "collapsed": true
   },
   "outputs": [],
   "source": [
    "def build_corpus(df, wnd_in=WINDOW_IN, wnd_out=WINDOW_OUT):\n",
    "    df = df.drop('Date', axis=1)\n",
    "    df = df.div(df.max())\n",
    "    \n",
    "    X, X_columns = [], []\n",
    "    \n",
    "    X += [df.Open.shift(k) for k in range(wnd_in + 1)]\n",
    "    X_columns += ['Open_%s_ago' % k for k in range(wnd_in + 1)]\n",
    "    X += [df.Low.shift(1+k) for k in range(wnd_in)]\n",
    "    X_columns += ['Low_%s_ago' % (1+k) for k in range(wnd_in)]\n",
    "    X += [df.High.shift(1+k) for k in range(wnd_in)]\n",
    "    X_columns += ['High_%s_ago' % (1+k) for k in range(wnd_in)]\n",
    "    \n",
    "    X = pd.concat(X, axis=1)\n",
    "    X.columns = X_columns\n",
    "    \n",
    "    X.loc[:, X_columns] = X.loc[:, X_columns].sub(X.Open_0_ago, axis='rows')\n",
    "    X.Open_0_ago = df.Open.diff()\n",
    "    X = X.fillna(0)\n",
    "    # Let's try without .diff()\n",
    "    \n",
    "    y = pd.concat([df.Close.shift(k) for k in range(wnd_out)], axis=1)\n",
    "    y = y.sub(df.Open, axis='rows')\n",
    "    y = y.fillna(0)\n",
    "    y.columns = ['Close_%s' % (k) for k in range(wnd_out)]\n",
    "    return X, y"
   ]
  },
  {
   "cell_type": "code",
   "execution_count": null,
   "metadata": {
    "collapsed": true
   },
   "outputs": [],
   "source": [
    "X, y = build_corpus(df)"
   ]
  },
  {
   "cell_type": "code",
   "execution_count": null,
   "metadata": {
    "collapsed": true,
    "scrolled": true
   },
   "outputs": [],
   "source": [
    "X.tail()"
   ]
  },
  {
   "cell_type": "code",
   "execution_count": null,
   "metadata": {
    "collapsed": true
   },
   "outputs": [],
   "source": [
    "y.head()"
   ]
  },
  {
   "cell_type": "code",
   "execution_count": null,
   "metadata": {
    "collapsed": true
   },
   "outputs": [],
   "source": [
    "class RNN4(nn.Module):\n",
    "    \n",
    "    \n",
    "    def __init__(self, n_in, n_mem, n_out):\n",
    "        super(RNN4, self).__init__()\n",
    "        self.n_in, self.n_mem, self.n_out = n_in, n_mem, n_out\n",
    "        self.xm2f = nn.Linear(in_features=(n_mem + n_in), out_features=n_mem)\n",
    "        self.xm2invent = nn.Linear(in_features=(n_mem + n_in), out_features=n_mem)\n",
    "        self.xm2save = nn.Linear(in_features=(n_in + n_mem), out_features=n_mem)\n",
    "        self.x2pre = nn.Linear(in_features=n_in, out_features=n_mem)\n",
    "        self.pre2o = nn.Linear(in_features=n_mem, out_features=n_out)\n",
    "        \n",
    "    def init_weights(self, var=.1):\n",
    "        for tr in [\n",
    "                self.xm2f,\n",
    "                self.xm2invent,\n",
    "                self.xm2save,\n",
    "                self.x2pre,\n",
    "                self.pre2o,\n",
    "                ]:\n",
    "            tr.weight.data.uniform_(-var, var)\n",
    "    \n",
    "    def forward(self, x, mem):\n",
    "        xmem = torch.cat((x, mem))\n",
    "        mem = mem * F.sigmoid(self.xm2f(xmem))\n",
    "        new_mem = F.tanh(self.xm2invent(xmem))\n",
    "        mem_mask = F.sigmoid(self.xm2save(xmem))\n",
    "        mem = mem + new_mem * mem_mask\n",
    "        pre = self.x2pre(x)\n",
    "        o = self.pre2o(pre * mem)\n",
    "        return (o, mem)\n",
    "    \n",
    "    def init_mem(self):\n",
    "        return Variable(torch.zeros(self.n_mem))"
   ]
  },
  {
   "cell_type": "code",
   "execution_count": null,
   "metadata": {
    "collapsed": true
   },
   "outputs": [],
   "source": [
    "def my_objective(y, y_pred, alpha=.1):\n",
    "    n = sum(y.data.shape)\n",
    "    \n",
    "    mask = Variable(((y_pred*y).data < 0).float())\n",
    "    fee = (mask*(y_pred - y)**2).sum()\n",
    "    mse = torch.sum((y_pred - y)**2)\n",
    "    \n",
    "    L = fee + alpha*mse\n",
    "    return L"
   ]
  },
  {
   "cell_type": "code",
   "execution_count": null,
   "metadata": {
    "collapsed": true
   },
   "outputs": [],
   "source": [
    "OBJECTIVE = my_objective"
   ]
  },
  {
   "cell_type": "code",
   "execution_count": null,
   "metadata": {
    "collapsed": true
   },
   "outputs": [],
   "source": [
    "def loss(model, X, y,\n",
    "         objective,\n",
    "         lr=None,\n",
    "         max_norm=1000.,\n",
    "        ):\n",
    "    mem = model.init_mem()\n",
    "    mean_L = 0\n",
    "    X = torch.Tensor(X.as_matrix())\n",
    "    Y = torch.Tensor(y.as_matrix())\n",
    "    for i in range(X.shape[0]):\n",
    "        model.zero_grad()\n",
    "        x = Variable(X[i, :])\n",
    "        y = Variable(Y[i, :], requires_grad=1)\n",
    "        y_pred, mem = model(x, mem)\n",
    "        \n",
    "        L = objective(y, y_pred)\n",
    "        mean_L += L.data\n",
    "        if lr is not None:\n",
    "            L.backward(retain_graph=1)\n",
    "            torch.nn.utils.clip_grad_norm(model.parameters(), max_norm)\n",
    "            for p in model.parameters():\n",
    "                p.data.sub_(lr * p.grad.data)\n",
    "    mean_L = mean_L/X.shape[0]\n",
    "    return mean_L[0]"
   ]
  },
  {
   "cell_type": "code",
   "execution_count": null,
   "metadata": {
    "collapsed": true
   },
   "outputs": [],
   "source": [
    "def train(model, X, y, objective=OBJECTIVE, epochs=6, base_lr=.04):\n",
    "    for epoch in range(1, epochs+1):\n",
    "        print('Epoch #%s; Loss: %s' % (epoch, loss(model, X, y, objective, lr=base_lr/(1 + epoch//4))))"
   ]
  },
  {
   "cell_type": "code",
   "execution_count": null,
   "metadata": {
    "collapsed": true
   },
   "outputs": [],
   "source": [
    "def predictions(model, X):\n",
    "    mem = model.init_mem()\n",
    "    pred = torch.zeros(X.shape[0], model.n_out)\n",
    "    index = X.index\n",
    "    X = torch.Tensor(X.as_matrix())\n",
    "    for i in range(X.shape[0]):\n",
    "        x = Variable(X[i, :])\n",
    "        y, mem = model(x, mem)\n",
    "        pred[i, :] = y.data\n",
    "    pred = pd.DataFrame(pred.numpy())\n",
    "    pred.columns = ['Close_%s_next' % (1+k) for k in range(model.n_out)]\n",
    "    pred.index = index\n",
    "    return pred"
   ]
  },
  {
   "cell_type": "code",
   "execution_count": null,
   "metadata": {
    "collapsed": true
   },
   "outputs": [],
   "source": [
    "def plot_stocks(opn, cls, p, w=4, clr='gray', legend='Stocks'):\n",
    "    inc = cls > opn\n",
    "    dec = cls < opn\n",
    "    p.vbar(\n",
    "        opn.index[inc],\n",
    "        w,\n",
    "        opn[inc],\n",
    "        cls[inc],\n",
    "        line_width=1,\n",
    "        fill_color='#F2583E',\n",
    "        line_color=clr,\n",
    "        legend=legend + ' increase'\n",
    "    )\n",
    "    p.vbar(\n",
    "        opn.index[dec],\n",
    "        w,\n",
    "        opn[dec],\n",
    "        cls[dec],\n",
    "        line_width=1,\n",
    "        line_color=clr,\n",
    "        fill_color='#D5E1DD',\n",
    "        legend=legend + ' decrease'\n",
    "    )\n",
    "    \n",
    "def evaluate_model(model, X, y, base_price=0, title='Model evaluation'):\n",
    "    pred = predictions(model, X)\n",
    "    p = bk.figure(\n",
    "        plot_width=800, plot_height=600,\n",
    "        title=title,\n",
    "        active_scroll='wheel_zoom')\n",
    "    opens = base_price + X.iloc[:, 0].cumsum()\n",
    "    truth = opens + y.iloc[:, 0]\n",
    "    pred = opens + pred.iloc[:, 0]\n",
    "    plot_stocks(opens, truth, p, w=1, clr='green', legend='Ground truth')\n",
    "    #   plot_stocks(opens, pred, p, w=2, clr='gray', legend='Predictions')\n",
    "    p.segment(x0=X.index, y0=opens, x1=X.index, y1=pred,\n",
    "              line_color='gray', legend='Predictions')\n",
    "    p.circle(X.index, pred, fill_color='gray', line_color='black', legend='Predictions')\n",
    "    bk.show(p)"
   ]
  },
  {
   "cell_type": "code",
   "execution_count": null,
   "metadata": {
    "collapsed": true
   },
   "outputs": [],
   "source": [
    "rnn4 = RNN4(n_in=X.shape[1], n_mem=64, n_out=y.shape[1])\n",
    "rnn4.init_weights(.1)"
   ]
  },
  {
   "cell_type": "code",
   "execution_count": null,
   "metadata": {
    "collapsed": true
   },
   "outputs": [],
   "source": [
    "n_train = X.shape[0]*2//3\n",
    "# Skipping first WINDOW_IN rows as the contain NA's\n",
    "Xtr, ytr = X.iloc[WINDOW_IN:n_train, :], y.iloc[WINDOW_IN:n_train, :]\n",
    "Xte, yte = X.iloc[n_train:, :], y.iloc[n_train:, :]"
   ]
  },
  {
   "cell_type": "code",
   "execution_count": null,
   "metadata": {
    "collapsed": true
   },
   "outputs": [],
   "source": [
    "train(rnn4, Xtr, ytr, epochs=100, base_lr=.0005)"
   ]
  },
  {
   "cell_type": "code",
   "execution_count": null,
   "metadata": {
    "collapsed": true
   },
   "outputs": [],
   "source": [
    "evaluate_model(rnn4, Xtr, ytr, title='Evaluation on the train set')"
   ]
  },
  {
   "cell_type": "code",
   "execution_count": null,
   "metadata": {
    "collapsed": true,
    "scrolled": false
   },
   "outputs": [],
   "source": [
    "evaluate_model(rnn4, Xte, yte, title='Evaluation on the test set')"
   ]
  },
  {
   "cell_type": "code",
   "execution_count": null,
   "metadata": {
    "collapsed": true
   },
   "outputs": [],
   "source": [
    "predictions(rnn4, Xtr)"
   ]
  },
  {
   "cell_type": "code",
   "execution_count": null,
   "metadata": {
    "collapsed": true
   },
   "outputs": [],
   "source": []
  }
 ],
 "metadata": {
  "kernelspec": {
   "display_name": "Python 3",
   "language": "python",
   "name": "python3"
  },
  "language_info": {
   "codemirror_mode": {
    "name": "ipython",
    "version": 3
   },
   "file_extension": ".py",
   "mimetype": "text/x-python",
   "name": "python",
   "nbconvert_exporter": "python",
   "pygments_lexer": "ipython3",
   "version": "3.6.3"
  }
 },
 "nbformat": 4,
 "nbformat_minor": 2
}
