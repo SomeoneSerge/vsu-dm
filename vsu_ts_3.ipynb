{
 "cells": [
  {
   "cell_type": "markdown",
   "metadata": {},
   "source": [
    "# Time Series predictions using LSTM\n",
    "\n",
    "Yet another try"
   ]
  },
  {
   "cell_type": "code",
   "execution_count": 1,
   "metadata": {
    "ExecuteTime": {
     "end_time": "2017-12-16T12:53:43.692226Z",
     "start_time": "2017-12-16T12:53:38.653190Z"
    }
   },
   "outputs": [
    {
     "data": {
      "text/html": [
       "\n",
       "    <div class=\"bk-root\">\n",
       "        <a href=\"https://bokeh.pydata.org\" target=\"_blank\" class=\"bk-logo bk-logo-small bk-logo-notebook\"></a>\n",
       "        <span id=\"42e1215c-621d-4f97-81b8-262745bb56c5\">Loading BokehJS ...</span>\n",
       "    </div>"
      ]
     },
     "metadata": {},
     "output_type": "display_data"
    },
    {
     "data": {
      "application/javascript": [
       "\n",
       "(function(root) {\n",
       "  function now() {\n",
       "    return new Date();\n",
       "  }\n",
       "\n",
       "  var force = true;\n",
       "\n",
       "  if (typeof (root._bokeh_onload_callbacks) === \"undefined\" || force === true) {\n",
       "    root._bokeh_onload_callbacks = [];\n",
       "    root._bokeh_is_loading = undefined;\n",
       "  }\n",
       "\n",
       "  var JS_MIME_TYPE = 'application/javascript';\n",
       "  var HTML_MIME_TYPE = 'text/html';\n",
       "  var EXEC_MIME_TYPE = 'application/vnd.bokehjs_exec.v0+json';\n",
       "  var CLASS_NAME = 'output_bokeh rendered_html';\n",
       "\n",
       "  /**\n",
       "   * Render data to the DOM node\n",
       "   */\n",
       "  function render(props, node) {\n",
       "    var script = document.createElement(\"script\");\n",
       "    node.appendChild(script);\n",
       "  }\n",
       "\n",
       "  /**\n",
       "   * Handle when an output is cleared or removed\n",
       "   */\n",
       "  function handleClearOutput(event, handle) {\n",
       "    var cell = handle.cell;\n",
       "\n",
       "    var id = cell.output_area._bokeh_element_id;\n",
       "    var server_id = cell.output_area._bokeh_server_id;\n",
       "    // Clean up Bokeh references\n",
       "    if (id !== undefined) {\n",
       "      Bokeh.index[id].model.document.clear();\n",
       "      delete Bokeh.index[id];\n",
       "    }\n",
       "\n",
       "    if (server_id !== undefined) {\n",
       "      // Clean up Bokeh references\n",
       "      var cmd = \"from bokeh.io.state import curstate; print(curstate().uuid_to_server['\" + server_id + \"'].get_sessions()[0].document.roots[0]._id)\";\n",
       "      cell.notebook.kernel.execute(cmd, {\n",
       "        iopub: {\n",
       "          output: function(msg) {\n",
       "            var element_id = msg.content.text.trim();\n",
       "            Bokeh.index[element_id].model.document.clear();\n",
       "            delete Bokeh.index[element_id];\n",
       "          }\n",
       "        }\n",
       "      });\n",
       "      // Destroy server and session\n",
       "      var cmd = \"import bokeh.io.notebook as ion; ion.destroy_server('\" + server_id + \"')\";\n",
       "      cell.notebook.kernel.execute(cmd);\n",
       "    }\n",
       "  }\n",
       "\n",
       "  /**\n",
       "   * Handle when a new output is added\n",
       "   */\n",
       "  function handleAddOutput(event, handle) {\n",
       "    var output_area = handle.output_area;\n",
       "    var output = handle.output;\n",
       "\n",
       "    // limit handleAddOutput to display_data with EXEC_MIME_TYPE content only\n",
       "    if ((output.output_type != \"display_data\") || (!output.data.hasOwnProperty(EXEC_MIME_TYPE))) {\n",
       "      return\n",
       "    }\n",
       "\n",
       "    var toinsert = output_area.element.find(`.${CLASS_NAME.split(' ')[0]}`);\n",
       "\n",
       "    if (output.metadata[EXEC_MIME_TYPE][\"id\"] !== undefined) {\n",
       "      toinsert[0].firstChild.textContent = output.data[JS_MIME_TYPE];\n",
       "      // store reference to embed id on output_area\n",
       "      output_area._bokeh_element_id = output.metadata[EXEC_MIME_TYPE][\"id\"];\n",
       "    }\n",
       "    if (output.metadata[EXEC_MIME_TYPE][\"server_id\"] !== undefined) {\n",
       "      var bk_div = document.createElement(\"div\");\n",
       "      bk_div.innerHTML = output.data[HTML_MIME_TYPE];\n",
       "      var script_attrs = bk_div.children[0].attributes;\n",
       "      for (var i = 0; i < script_attrs.length; i++) {\n",
       "        toinsert[0].firstChild.setAttribute(script_attrs[i].name, script_attrs[i].value);\n",
       "      }\n",
       "      // store reference to server id on output_area\n",
       "      output_area._bokeh_server_id = output.metadata[EXEC_MIME_TYPE][\"server_id\"];\n",
       "    }\n",
       "  }\n",
       "\n",
       "  function register_renderer(events, OutputArea) {\n",
       "\n",
       "    function append_mime(data, metadata, element) {\n",
       "      // create a DOM node to render to\n",
       "      var toinsert = this.create_output_subarea(\n",
       "        metadata,\n",
       "        CLASS_NAME,\n",
       "        EXEC_MIME_TYPE\n",
       "      );\n",
       "      this.keyboard_manager.register_events(toinsert);\n",
       "      // Render to node\n",
       "      var props = {data: data, metadata: metadata[EXEC_MIME_TYPE]};\n",
       "      render(props, toinsert[0]);\n",
       "      element.append(toinsert);\n",
       "      return toinsert\n",
       "    }\n",
       "\n",
       "    /* Handle when an output is cleared or removed */\n",
       "    events.on('clear_output.CodeCell', handleClearOutput);\n",
       "    events.on('delete.Cell', handleClearOutput);\n",
       "\n",
       "    /* Handle when a new output is added */\n",
       "    events.on('output_added.OutputArea', handleAddOutput);\n",
       "\n",
       "    /**\n",
       "     * Register the mime type and append_mime function with output_area\n",
       "     */\n",
       "    OutputArea.prototype.register_mime_type(EXEC_MIME_TYPE, append_mime, {\n",
       "      /* Is output safe? */\n",
       "      safe: true,\n",
       "      /* Index of renderer in `output_area.display_order` */\n",
       "      index: 0\n",
       "    });\n",
       "  }\n",
       "\n",
       "  // register the mime type if in Jupyter Notebook environment and previously unregistered\n",
       "  if (root.Jupyter !== undefined) {\n",
       "    var events = require('base/js/events');\n",
       "    var OutputArea = require('notebook/js/outputarea').OutputArea;\n",
       "\n",
       "    if (OutputArea.prototype.mime_types().indexOf(EXEC_MIME_TYPE) == -1) {\n",
       "      register_renderer(events, OutputArea);\n",
       "    }\n",
       "  }\n",
       "\n",
       "  \n",
       "  if (typeof (root._bokeh_timeout) === \"undefined\" || force === true) {\n",
       "    root._bokeh_timeout = Date.now() + 5000;\n",
       "    root._bokeh_failed_load = false;\n",
       "  }\n",
       "\n",
       "  var NB_LOAD_WARNING = {'data': {'text/html':\n",
       "     \"<div style='background-color: #fdd'>\\n\"+\n",
       "     \"<p>\\n\"+\n",
       "     \"BokehJS does not appear to have successfully loaded. If loading BokehJS from CDN, this \\n\"+\n",
       "     \"may be due to a slow or bad network connection. Possible fixes:\\n\"+\n",
       "     \"</p>\\n\"+\n",
       "     \"<ul>\\n\"+\n",
       "     \"<li>re-rerun `output_notebook()` to attempt to load from CDN again, or</li>\\n\"+\n",
       "     \"<li>use INLINE resources instead, as so:</li>\\n\"+\n",
       "     \"</ul>\\n\"+\n",
       "     \"<code>\\n\"+\n",
       "     \"from bokeh.resources import INLINE\\n\"+\n",
       "     \"output_notebook(resources=INLINE)\\n\"+\n",
       "     \"</code>\\n\"+\n",
       "     \"</div>\"}};\n",
       "\n",
       "  function display_loaded() {\n",
       "    var el = document.getElementById(\"42e1215c-621d-4f97-81b8-262745bb56c5\");\n",
       "    if (el != null) {\n",
       "      el.textContent = \"BokehJS is loading...\";\n",
       "    }\n",
       "    if (root.Bokeh !== undefined) {\n",
       "      if (el != null) {\n",
       "        el.textContent = \"BokehJS \" + root.Bokeh.version + \" successfully loaded.\";\n",
       "      }\n",
       "    } else if (Date.now() < root._bokeh_timeout) {\n",
       "      setTimeout(display_loaded, 100)\n",
       "    }\n",
       "  }\n",
       "\n",
       "\n",
       "  function run_callbacks() {\n",
       "    try {\n",
       "      root._bokeh_onload_callbacks.forEach(function(callback) { callback() });\n",
       "    }\n",
       "    finally {\n",
       "      delete root._bokeh_onload_callbacks\n",
       "    }\n",
       "    console.info(\"Bokeh: all callbacks have finished\");\n",
       "  }\n",
       "\n",
       "  function load_libs(js_urls, callback) {\n",
       "    root._bokeh_onload_callbacks.push(callback);\n",
       "    if (root._bokeh_is_loading > 0) {\n",
       "      console.log(\"Bokeh: BokehJS is being loaded, scheduling callback at\", now());\n",
       "      return null;\n",
       "    }\n",
       "    if (js_urls == null || js_urls.length === 0) {\n",
       "      run_callbacks();\n",
       "      return null;\n",
       "    }\n",
       "    console.log(\"Bokeh: BokehJS not loaded, scheduling load and callback at\", now());\n",
       "    root._bokeh_is_loading = js_urls.length;\n",
       "    for (var i = 0; i < js_urls.length; i++) {\n",
       "      var url = js_urls[i];\n",
       "      var s = document.createElement('script');\n",
       "      s.src = url;\n",
       "      s.async = false;\n",
       "      s.onreadystatechange = s.onload = function() {\n",
       "        root._bokeh_is_loading--;\n",
       "        if (root._bokeh_is_loading === 0) {\n",
       "          console.log(\"Bokeh: all BokehJS libraries loaded\");\n",
       "          run_callbacks()\n",
       "        }\n",
       "      };\n",
       "      s.onerror = function() {\n",
       "        console.warn(\"failed to load library \" + url);\n",
       "      };\n",
       "      console.log(\"Bokeh: injecting script tag for BokehJS library: \", url);\n",
       "      document.getElementsByTagName(\"head\")[0].appendChild(s);\n",
       "    }\n",
       "  };var element = document.getElementById(\"42e1215c-621d-4f97-81b8-262745bb56c5\");\n",
       "  if (element == null) {\n",
       "    console.log(\"Bokeh: ERROR: autoload.js configured with elementid '42e1215c-621d-4f97-81b8-262745bb56c5' but no matching script tag was found. \")\n",
       "    return false;\n",
       "  }\n",
       "\n",
       "  var js_urls = [\"https://cdn.pydata.org/bokeh/release/bokeh-0.12.10.min.js\", \"https://cdn.pydata.org/bokeh/release/bokeh-widgets-0.12.10.min.js\", \"https://cdn.pydata.org/bokeh/release/bokeh-tables-0.12.10.min.js\", \"https://cdn.pydata.org/bokeh/release/bokeh-gl-0.12.10.min.js\"];\n",
       "\n",
       "  var inline_js = [\n",
       "    function(Bokeh) {\n",
       "      Bokeh.set_log_level(\"info\");\n",
       "    },\n",
       "    \n",
       "    function(Bokeh) {\n",
       "      \n",
       "    },\n",
       "    function(Bokeh) {\n",
       "      console.log(\"Bokeh: injecting CSS: https://cdn.pydata.org/bokeh/release/bokeh-0.12.10.min.css\");\n",
       "      Bokeh.embed.inject_css(\"https://cdn.pydata.org/bokeh/release/bokeh-0.12.10.min.css\");\n",
       "      console.log(\"Bokeh: injecting CSS: https://cdn.pydata.org/bokeh/release/bokeh-widgets-0.12.10.min.css\");\n",
       "      Bokeh.embed.inject_css(\"https://cdn.pydata.org/bokeh/release/bokeh-widgets-0.12.10.min.css\");\n",
       "      console.log(\"Bokeh: injecting CSS: https://cdn.pydata.org/bokeh/release/bokeh-tables-0.12.10.min.css\");\n",
       "      Bokeh.embed.inject_css(\"https://cdn.pydata.org/bokeh/release/bokeh-tables-0.12.10.min.css\");\n",
       "    }\n",
       "  ];\n",
       "\n",
       "  function run_inline_js() {\n",
       "    \n",
       "    if ((root.Bokeh !== undefined) || (force === true)) {\n",
       "      for (var i = 0; i < inline_js.length; i++) {\n",
       "        inline_js[i].call(root, root.Bokeh);\n",
       "      }if (force === true) {\n",
       "        display_loaded();\n",
       "      }} else if (Date.now() < root._bokeh_timeout) {\n",
       "      setTimeout(run_inline_js, 100);\n",
       "    } else if (!root._bokeh_failed_load) {\n",
       "      console.log(\"Bokeh: BokehJS failed to load within specified timeout.\");\n",
       "      root._bokeh_failed_load = true;\n",
       "    } else if (force !== true) {\n",
       "      var cell = $(document.getElementById(\"42e1215c-621d-4f97-81b8-262745bb56c5\")).parents('.cell').data().cell;\n",
       "      cell.output_area.append_execute_result(NB_LOAD_WARNING)\n",
       "    }\n",
       "\n",
       "  }\n",
       "\n",
       "  if (root._bokeh_is_loading === 0) {\n",
       "    console.log(\"Bokeh: BokehJS loaded, going straight to plotting\");\n",
       "    run_inline_js();\n",
       "  } else {\n",
       "    load_libs(js_urls, function() {\n",
       "      console.log(\"Bokeh: BokehJS plotting callback run at\", now());\n",
       "      run_inline_js();\n",
       "    });\n",
       "  }\n",
       "}(window));"
      ],
      "application/vnd.bokehjs_load.v0+json": "\n(function(root) {\n  function now() {\n    return new Date();\n  }\n\n  var force = true;\n\n  if (typeof (root._bokeh_onload_callbacks) === \"undefined\" || force === true) {\n    root._bokeh_onload_callbacks = [];\n    root._bokeh_is_loading = undefined;\n  }\n\n  \n\n  \n  if (typeof (root._bokeh_timeout) === \"undefined\" || force === true) {\n    root._bokeh_timeout = Date.now() + 5000;\n    root._bokeh_failed_load = false;\n  }\n\n  var NB_LOAD_WARNING = {'data': {'text/html':\n     \"<div style='background-color: #fdd'>\\n\"+\n     \"<p>\\n\"+\n     \"BokehJS does not appear to have successfully loaded. If loading BokehJS from CDN, this \\n\"+\n     \"may be due to a slow or bad network connection. Possible fixes:\\n\"+\n     \"</p>\\n\"+\n     \"<ul>\\n\"+\n     \"<li>re-rerun `output_notebook()` to attempt to load from CDN again, or</li>\\n\"+\n     \"<li>use INLINE resources instead, as so:</li>\\n\"+\n     \"</ul>\\n\"+\n     \"<code>\\n\"+\n     \"from bokeh.resources import INLINE\\n\"+\n     \"output_notebook(resources=INLINE)\\n\"+\n     \"</code>\\n\"+\n     \"</div>\"}};\n\n  function display_loaded() {\n    var el = document.getElementById(\"42e1215c-621d-4f97-81b8-262745bb56c5\");\n    if (el != null) {\n      el.textContent = \"BokehJS is loading...\";\n    }\n    if (root.Bokeh !== undefined) {\n      if (el != null) {\n        el.textContent = \"BokehJS \" + root.Bokeh.version + \" successfully loaded.\";\n      }\n    } else if (Date.now() < root._bokeh_timeout) {\n      setTimeout(display_loaded, 100)\n    }\n  }\n\n\n  function run_callbacks() {\n    try {\n      root._bokeh_onload_callbacks.forEach(function(callback) { callback() });\n    }\n    finally {\n      delete root._bokeh_onload_callbacks\n    }\n    console.info(\"Bokeh: all callbacks have finished\");\n  }\n\n  function load_libs(js_urls, callback) {\n    root._bokeh_onload_callbacks.push(callback);\n    if (root._bokeh_is_loading > 0) {\n      console.log(\"Bokeh: BokehJS is being loaded, scheduling callback at\", now());\n      return null;\n    }\n    if (js_urls == null || js_urls.length === 0) {\n      run_callbacks();\n      return null;\n    }\n    console.log(\"Bokeh: BokehJS not loaded, scheduling load and callback at\", now());\n    root._bokeh_is_loading = js_urls.length;\n    for (var i = 0; i < js_urls.length; i++) {\n      var url = js_urls[i];\n      var s = document.createElement('script');\n      s.src = url;\n      s.async = false;\n      s.onreadystatechange = s.onload = function() {\n        root._bokeh_is_loading--;\n        if (root._bokeh_is_loading === 0) {\n          console.log(\"Bokeh: all BokehJS libraries loaded\");\n          run_callbacks()\n        }\n      };\n      s.onerror = function() {\n        console.warn(\"failed to load library \" + url);\n      };\n      console.log(\"Bokeh: injecting script tag for BokehJS library: \", url);\n      document.getElementsByTagName(\"head\")[0].appendChild(s);\n    }\n  };var element = document.getElementById(\"42e1215c-621d-4f97-81b8-262745bb56c5\");\n  if (element == null) {\n    console.log(\"Bokeh: ERROR: autoload.js configured with elementid '42e1215c-621d-4f97-81b8-262745bb56c5' but no matching script tag was found. \")\n    return false;\n  }\n\n  var js_urls = [\"https://cdn.pydata.org/bokeh/release/bokeh-0.12.10.min.js\", \"https://cdn.pydata.org/bokeh/release/bokeh-widgets-0.12.10.min.js\", \"https://cdn.pydata.org/bokeh/release/bokeh-tables-0.12.10.min.js\", \"https://cdn.pydata.org/bokeh/release/bokeh-gl-0.12.10.min.js\"];\n\n  var inline_js = [\n    function(Bokeh) {\n      Bokeh.set_log_level(\"info\");\n    },\n    \n    function(Bokeh) {\n      \n    },\n    function(Bokeh) {\n      console.log(\"Bokeh: injecting CSS: https://cdn.pydata.org/bokeh/release/bokeh-0.12.10.min.css\");\n      Bokeh.embed.inject_css(\"https://cdn.pydata.org/bokeh/release/bokeh-0.12.10.min.css\");\n      console.log(\"Bokeh: injecting CSS: https://cdn.pydata.org/bokeh/release/bokeh-widgets-0.12.10.min.css\");\n      Bokeh.embed.inject_css(\"https://cdn.pydata.org/bokeh/release/bokeh-widgets-0.12.10.min.css\");\n      console.log(\"Bokeh: injecting CSS: https://cdn.pydata.org/bokeh/release/bokeh-tables-0.12.10.min.css\");\n      Bokeh.embed.inject_css(\"https://cdn.pydata.org/bokeh/release/bokeh-tables-0.12.10.min.css\");\n    }\n  ];\n\n  function run_inline_js() {\n    \n    if ((root.Bokeh !== undefined) || (force === true)) {\n      for (var i = 0; i < inline_js.length; i++) {\n        inline_js[i].call(root, root.Bokeh);\n      }if (force === true) {\n        display_loaded();\n      }} else if (Date.now() < root._bokeh_timeout) {\n      setTimeout(run_inline_js, 100);\n    } else if (!root._bokeh_failed_load) {\n      console.log(\"Bokeh: BokehJS failed to load within specified timeout.\");\n      root._bokeh_failed_load = true;\n    } else if (force !== true) {\n      var cell = $(document.getElementById(\"42e1215c-621d-4f97-81b8-262745bb56c5\")).parents('.cell').data().cell;\n      cell.output_area.append_execute_result(NB_LOAD_WARNING)\n    }\n\n  }\n\n  if (root._bokeh_is_loading === 0) {\n    console.log(\"Bokeh: BokehJS loaded, going straight to plotting\");\n    run_inline_js();\n  } else {\n    load_libs(js_urls, function() {\n      console.log(\"Bokeh: BokehJS plotting callback run at\", now());\n      run_inline_js();\n    });\n  }\n}(window));"
     },
     "metadata": {},
     "output_type": "display_data"
    }
   ],
   "source": [
    "import pandas as pd\n",
    "from pandas_datareader import data, wb\n",
    "from datetime import datetime\n",
    "import numpy as np\n",
    "import graphviz\n",
    "\n",
    "import sys\n",
    "import os\n",
    "\n",
    "import torch\n",
    "import torch.nn as nn\n",
    "import torch.nn.functional as F\n",
    "from torch.autograd import Variable\n",
    "\n",
    "import bokeh.models\n",
    "import bokeh.plotting as bk\n",
    "bk.output_notebook()"
   ]
  },
  {
   "cell_type": "code",
   "execution_count": 2,
   "metadata": {
    "ExecuteTime": {
     "end_time": "2017-12-16T12:53:43.835615Z",
     "start_time": "2017-12-16T12:53:43.693593Z"
    },
    "collapsed": true
   },
   "outputs": [],
   "source": [
    "if not os.path.exists('GOOG.csv'):\n",
    "    df = data.DataReader('GOOG', 'yahoo', datetime(2010, 1, 1), datetime(2017, 11, 1))\n",
    "    df.to_csv('GOOG.csv')\n",
    "else:\n",
    "    df = pd.read_csv('GOOG.csv')"
   ]
  },
  {
   "cell_type": "code",
   "execution_count": 3,
   "metadata": {
    "ExecuteTime": {
     "end_time": "2017-12-16T12:53:43.946340Z",
     "start_time": "2017-12-16T12:53:43.837402Z"
    },
    "collapsed": true
   },
   "outputs": [],
   "source": [
    "WINDOW_IN = 14\n",
    "WINDOW_OUT = 2"
   ]
  },
  {
   "cell_type": "code",
   "execution_count": 4,
   "metadata": {
    "ExecuteTime": {
     "end_time": "2017-12-16T12:53:44.030684Z",
     "start_time": "2017-12-16T12:53:43.947780Z"
    }
   },
   "outputs": [
    {
     "data": {
      "text/html": [
       "<div>\n",
       "<style>\n",
       "    .dataframe thead tr:only-child th {\n",
       "        text-align: right;\n",
       "    }\n",
       "\n",
       "    .dataframe thead th {\n",
       "        text-align: left;\n",
       "    }\n",
       "\n",
       "    .dataframe tbody tr th {\n",
       "        vertical-align: top;\n",
       "    }\n",
       "</style>\n",
       "<table border=\"1\" class=\"dataframe\">\n",
       "  <thead>\n",
       "    <tr style=\"text-align: right;\">\n",
       "      <th></th>\n",
       "      <th>Date</th>\n",
       "      <th>Open</th>\n",
       "      <th>High</th>\n",
       "      <th>Low</th>\n",
       "      <th>Close</th>\n",
       "      <th>Adj Close</th>\n",
       "      <th>Volume</th>\n",
       "    </tr>\n",
       "  </thead>\n",
       "  <tbody>\n",
       "    <tr>\n",
       "      <th>0</th>\n",
       "      <td>2010-01-04</td>\n",
       "      <td>311.449310</td>\n",
       "      <td>312.721039</td>\n",
       "      <td>310.103088</td>\n",
       "      <td>311.349976</td>\n",
       "      <td>311.349976</td>\n",
       "      <td>3937800</td>\n",
       "    </tr>\n",
       "    <tr>\n",
       "      <th>1</th>\n",
       "      <td>2010-01-05</td>\n",
       "      <td>311.563568</td>\n",
       "      <td>311.891449</td>\n",
       "      <td>308.761810</td>\n",
       "      <td>309.978882</td>\n",
       "      <td>309.978882</td>\n",
       "      <td>6048500</td>\n",
       "    </tr>\n",
       "    <tr>\n",
       "      <th>2</th>\n",
       "      <td>2010-01-06</td>\n",
       "      <td>310.907837</td>\n",
       "      <td>310.907837</td>\n",
       "      <td>301.220856</td>\n",
       "      <td>302.164703</td>\n",
       "      <td>302.164703</td>\n",
       "      <td>8009000</td>\n",
       "    </tr>\n",
       "    <tr>\n",
       "      <th>3</th>\n",
       "      <td>2010-01-07</td>\n",
       "      <td>302.731018</td>\n",
       "      <td>303.029083</td>\n",
       "      <td>294.410156</td>\n",
       "      <td>295.130463</td>\n",
       "      <td>295.130463</td>\n",
       "      <td>12912000</td>\n",
       "    </tr>\n",
       "    <tr>\n",
       "      <th>4</th>\n",
       "      <td>2010-01-08</td>\n",
       "      <td>294.087250</td>\n",
       "      <td>299.675903</td>\n",
       "      <td>292.651581</td>\n",
       "      <td>299.064880</td>\n",
       "      <td>299.064880</td>\n",
       "      <td>9509900</td>\n",
       "    </tr>\n",
       "  </tbody>\n",
       "</table>\n",
       "</div>"
      ],
      "text/plain": [
       "         Date        Open        High         Low       Close   Adj Close  \\\n",
       "0  2010-01-04  311.449310  312.721039  310.103088  311.349976  311.349976   \n",
       "1  2010-01-05  311.563568  311.891449  308.761810  309.978882  309.978882   \n",
       "2  2010-01-06  310.907837  310.907837  301.220856  302.164703  302.164703   \n",
       "3  2010-01-07  302.731018  303.029083  294.410156  295.130463  295.130463   \n",
       "4  2010-01-08  294.087250  299.675903  292.651581  299.064880  299.064880   \n",
       "\n",
       "     Volume  \n",
       "0   3937800  \n",
       "1   6048500  \n",
       "2   8009000  \n",
       "3  12912000  \n",
       "4   9509900  "
      ]
     },
     "execution_count": 4,
     "metadata": {},
     "output_type": "execute_result"
    }
   ],
   "source": [
    "df.head()"
   ]
  },
  {
   "cell_type": "code",
   "execution_count": 5,
   "metadata": {
    "ExecuteTime": {
     "end_time": "2017-12-16T12:53:44.132808Z",
     "start_time": "2017-12-16T12:53:44.031962Z"
    },
    "collapsed": true
   },
   "outputs": [],
   "source": [
    "def build_corpus(df, wnd_in=WINDOW_IN, wnd_out=WINDOW_OUT):\n",
    "    df = df.drop('Date', axis=1)\n",
    "    # df = df.div(df.max())\n",
    "    \n",
    "    X, X_columns = [], []\n",
    "    \n",
    "    base = df.Close.shift(1)\n",
    "    \n",
    "    lb = range(1, wnd_in+1)\n",
    "    X += [base.diff()] # Close[t-1] - Close[t-2]\n",
    "    X += [df.Close.shift(k) - base for k in range(2, wnd_in + 1)]\n",
    "    X_columns += ['Close_%s_ago' % k for k in lb]\n",
    "    X += [df.Low.shift(k) - base for k in lb]\n",
    "    X_columns += ['Low_%s_ago' % k for k in lb]\n",
    "    X += [df.High.shift(k) - base for k in lb]\n",
    "    X_columns += ['High_%s_ago' % k for k in lb]\n",
    "    \n",
    "    X = pd.concat(X, axis=1)\n",
    "    X.columns = X_columns\n",
    "    \n",
    "    X = X.fillna(0)\n",
    "    \n",
    "    lf = range(wnd_out)\n",
    "    y = pd.concat([df.Close.shift(-k) - base for k in lf], axis=1)\n",
    "    y = y.fillna(0)\n",
    "    y.columns = ['Next_%s' % k for k in lf]\n",
    "    return X, y"
   ]
  },
  {
   "cell_type": "code",
   "execution_count": 6,
   "metadata": {
    "ExecuteTime": {
     "end_time": "2017-12-16T12:53:44.396973Z",
     "start_time": "2017-12-16T12:53:44.134255Z"
    },
    "collapsed": true
   },
   "outputs": [],
   "source": [
    "X, y = build_corpus(df)"
   ]
  },
  {
   "cell_type": "code",
   "execution_count": 7,
   "metadata": {
    "ExecuteTime": {
     "end_time": "2017-12-16T12:53:44.450586Z",
     "start_time": "2017-12-16T12:53:44.398579Z"
    },
    "scrolled": true
   },
   "outputs": [
    {
     "data": {
      "text/html": [
       "<div>\n",
       "<style>\n",
       "    .dataframe thead tr:only-child th {\n",
       "        text-align: right;\n",
       "    }\n",
       "\n",
       "    .dataframe thead th {\n",
       "        text-align: left;\n",
       "    }\n",
       "\n",
       "    .dataframe tbody tr th {\n",
       "        vertical-align: top;\n",
       "    }\n",
       "</style>\n",
       "<table border=\"1\" class=\"dataframe\">\n",
       "  <thead>\n",
       "    <tr style=\"text-align: right;\">\n",
       "      <th></th>\n",
       "      <th>Close_1_ago</th>\n",
       "      <th>Close_2_ago</th>\n",
       "      <th>Close_3_ago</th>\n",
       "      <th>Close_4_ago</th>\n",
       "      <th>Close_5_ago</th>\n",
       "      <th>Close_6_ago</th>\n",
       "      <th>Close_7_ago</th>\n",
       "      <th>Close_8_ago</th>\n",
       "      <th>Close_9_ago</th>\n",
       "      <th>Close_10_ago</th>\n",
       "      <th>...</th>\n",
       "      <th>High_5_ago</th>\n",
       "      <th>High_6_ago</th>\n",
       "      <th>High_7_ago</th>\n",
       "      <th>High_8_ago</th>\n",
       "      <th>High_9_ago</th>\n",
       "      <th>High_10_ago</th>\n",
       "      <th>High_11_ago</th>\n",
       "      <th>High_12_ago</th>\n",
       "      <th>High_13_ago</th>\n",
       "      <th>High_14_ago</th>\n",
       "    </tr>\n",
       "  </thead>\n",
       "  <tbody>\n",
       "    <tr>\n",
       "      <th>0</th>\n",
       "      <td>0.000000</td>\n",
       "      <td>0.000000</td>\n",
       "      <td>0.000000</td>\n",
       "      <td>0.000000</td>\n",
       "      <td>0.0</td>\n",
       "      <td>0.0</td>\n",
       "      <td>0.0</td>\n",
       "      <td>0.0</td>\n",
       "      <td>0.0</td>\n",
       "      <td>0.0</td>\n",
       "      <td>...</td>\n",
       "      <td>0.0</td>\n",
       "      <td>0.0</td>\n",
       "      <td>0.0</td>\n",
       "      <td>0.0</td>\n",
       "      <td>0.0</td>\n",
       "      <td>0.0</td>\n",
       "      <td>0.0</td>\n",
       "      <td>0.0</td>\n",
       "      <td>0.0</td>\n",
       "      <td>0.0</td>\n",
       "    </tr>\n",
       "    <tr>\n",
       "      <th>1</th>\n",
       "      <td>0.000000</td>\n",
       "      <td>0.000000</td>\n",
       "      <td>0.000000</td>\n",
       "      <td>0.000000</td>\n",
       "      <td>0.0</td>\n",
       "      <td>0.0</td>\n",
       "      <td>0.0</td>\n",
       "      <td>0.0</td>\n",
       "      <td>0.0</td>\n",
       "      <td>0.0</td>\n",
       "      <td>...</td>\n",
       "      <td>0.0</td>\n",
       "      <td>0.0</td>\n",
       "      <td>0.0</td>\n",
       "      <td>0.0</td>\n",
       "      <td>0.0</td>\n",
       "      <td>0.0</td>\n",
       "      <td>0.0</td>\n",
       "      <td>0.0</td>\n",
       "      <td>0.0</td>\n",
       "      <td>0.0</td>\n",
       "    </tr>\n",
       "    <tr>\n",
       "      <th>2</th>\n",
       "      <td>-1.371094</td>\n",
       "      <td>1.371094</td>\n",
       "      <td>0.000000</td>\n",
       "      <td>0.000000</td>\n",
       "      <td>0.0</td>\n",
       "      <td>0.0</td>\n",
       "      <td>0.0</td>\n",
       "      <td>0.0</td>\n",
       "      <td>0.0</td>\n",
       "      <td>0.0</td>\n",
       "      <td>...</td>\n",
       "      <td>0.0</td>\n",
       "      <td>0.0</td>\n",
       "      <td>0.0</td>\n",
       "      <td>0.0</td>\n",
       "      <td>0.0</td>\n",
       "      <td>0.0</td>\n",
       "      <td>0.0</td>\n",
       "      <td>0.0</td>\n",
       "      <td>0.0</td>\n",
       "      <td>0.0</td>\n",
       "    </tr>\n",
       "    <tr>\n",
       "      <th>3</th>\n",
       "      <td>-7.814179</td>\n",
       "      <td>7.814179</td>\n",
       "      <td>9.185273</td>\n",
       "      <td>0.000000</td>\n",
       "      <td>0.0</td>\n",
       "      <td>0.0</td>\n",
       "      <td>0.0</td>\n",
       "      <td>0.0</td>\n",
       "      <td>0.0</td>\n",
       "      <td>0.0</td>\n",
       "      <td>...</td>\n",
       "      <td>0.0</td>\n",
       "      <td>0.0</td>\n",
       "      <td>0.0</td>\n",
       "      <td>0.0</td>\n",
       "      <td>0.0</td>\n",
       "      <td>0.0</td>\n",
       "      <td>0.0</td>\n",
       "      <td>0.0</td>\n",
       "      <td>0.0</td>\n",
       "      <td>0.0</td>\n",
       "    </tr>\n",
       "    <tr>\n",
       "      <th>4</th>\n",
       "      <td>-7.034240</td>\n",
       "      <td>7.034240</td>\n",
       "      <td>14.848419</td>\n",
       "      <td>16.219513</td>\n",
       "      <td>0.0</td>\n",
       "      <td>0.0</td>\n",
       "      <td>0.0</td>\n",
       "      <td>0.0</td>\n",
       "      <td>0.0</td>\n",
       "      <td>0.0</td>\n",
       "      <td>...</td>\n",
       "      <td>0.0</td>\n",
       "      <td>0.0</td>\n",
       "      <td>0.0</td>\n",
       "      <td>0.0</td>\n",
       "      <td>0.0</td>\n",
       "      <td>0.0</td>\n",
       "      <td>0.0</td>\n",
       "      <td>0.0</td>\n",
       "      <td>0.0</td>\n",
       "      <td>0.0</td>\n",
       "    </tr>\n",
       "  </tbody>\n",
       "</table>\n",
       "<p>5 rows × 42 columns</p>\n",
       "</div>"
      ],
      "text/plain": [
       "   Close_1_ago  Close_2_ago  Close_3_ago  Close_4_ago  Close_5_ago  \\\n",
       "0     0.000000     0.000000     0.000000     0.000000          0.0   \n",
       "1     0.000000     0.000000     0.000000     0.000000          0.0   \n",
       "2    -1.371094     1.371094     0.000000     0.000000          0.0   \n",
       "3    -7.814179     7.814179     9.185273     0.000000          0.0   \n",
       "4    -7.034240     7.034240    14.848419    16.219513          0.0   \n",
       "\n",
       "   Close_6_ago  Close_7_ago  Close_8_ago  Close_9_ago  Close_10_ago  \\\n",
       "0          0.0          0.0          0.0          0.0           0.0   \n",
       "1          0.0          0.0          0.0          0.0           0.0   \n",
       "2          0.0          0.0          0.0          0.0           0.0   \n",
       "3          0.0          0.0          0.0          0.0           0.0   \n",
       "4          0.0          0.0          0.0          0.0           0.0   \n",
       "\n",
       "      ...       High_5_ago  High_6_ago  High_7_ago  High_8_ago  High_9_ago  \\\n",
       "0     ...              0.0         0.0         0.0         0.0         0.0   \n",
       "1     ...              0.0         0.0         0.0         0.0         0.0   \n",
       "2     ...              0.0         0.0         0.0         0.0         0.0   \n",
       "3     ...              0.0         0.0         0.0         0.0         0.0   \n",
       "4     ...              0.0         0.0         0.0         0.0         0.0   \n",
       "\n",
       "   High_10_ago  High_11_ago  High_12_ago  High_13_ago  High_14_ago  \n",
       "0          0.0          0.0          0.0          0.0          0.0  \n",
       "1          0.0          0.0          0.0          0.0          0.0  \n",
       "2          0.0          0.0          0.0          0.0          0.0  \n",
       "3          0.0          0.0          0.0          0.0          0.0  \n",
       "4          0.0          0.0          0.0          0.0          0.0  \n",
       "\n",
       "[5 rows x 42 columns]"
      ]
     },
     "execution_count": 7,
     "metadata": {},
     "output_type": "execute_result"
    }
   ],
   "source": [
    "X.head()"
   ]
  },
  {
   "cell_type": "code",
   "execution_count": 8,
   "metadata": {
    "ExecuteTime": {
     "end_time": "2017-12-16T12:53:44.516666Z",
     "start_time": "2017-12-16T12:53:44.451936Z"
    }
   },
   "outputs": [
    {
     "data": {
      "text/html": [
       "<div>\n",
       "<style>\n",
       "    .dataframe thead tr:only-child th {\n",
       "        text-align: right;\n",
       "    }\n",
       "\n",
       "    .dataframe thead th {\n",
       "        text-align: left;\n",
       "    }\n",
       "\n",
       "    .dataframe tbody tr th {\n",
       "        vertical-align: top;\n",
       "    }\n",
       "</style>\n",
       "<table border=\"1\" class=\"dataframe\">\n",
       "  <thead>\n",
       "    <tr style=\"text-align: right;\">\n",
       "      <th></th>\n",
       "      <th>Next_0</th>\n",
       "      <th>Next_1</th>\n",
       "    </tr>\n",
       "  </thead>\n",
       "  <tbody>\n",
       "    <tr>\n",
       "      <th>0</th>\n",
       "      <td>0.000000</td>\n",
       "      <td>0.000000</td>\n",
       "    </tr>\n",
       "    <tr>\n",
       "      <th>1</th>\n",
       "      <td>-1.371094</td>\n",
       "      <td>-9.185273</td>\n",
       "    </tr>\n",
       "    <tr>\n",
       "      <th>2</th>\n",
       "      <td>-7.814179</td>\n",
       "      <td>-14.848419</td>\n",
       "    </tr>\n",
       "    <tr>\n",
       "      <th>3</th>\n",
       "      <td>-7.034240</td>\n",
       "      <td>-3.099823</td>\n",
       "    </tr>\n",
       "    <tr>\n",
       "      <th>4</th>\n",
       "      <td>3.934417</td>\n",
       "      <td>3.482360</td>\n",
       "    </tr>\n",
       "  </tbody>\n",
       "</table>\n",
       "</div>"
      ],
      "text/plain": [
       "     Next_0     Next_1\n",
       "0  0.000000   0.000000\n",
       "1 -1.371094  -9.185273\n",
       "2 -7.814179 -14.848419\n",
       "3 -7.034240  -3.099823\n",
       "4  3.934417   3.482360"
      ]
     },
     "execution_count": 8,
     "metadata": {},
     "output_type": "execute_result"
    }
   ],
   "source": [
    "y.head()"
   ]
  },
  {
   "cell_type": "code",
   "execution_count": 9,
   "metadata": {
    "ExecuteTime": {
     "end_time": "2017-12-16T12:53:44.605159Z",
     "start_time": "2017-12-16T12:53:44.517902Z"
    },
    "collapsed": true
   },
   "outputs": [],
   "source": [
    "class RNN4(nn.Module):\n",
    "    \n",
    "    \n",
    "    def __init__(self, n_in, n_mem, n_out):\n",
    "        super(RNN4, self).__init__()\n",
    "        self.n_in, self.n_mem, self.n_out = n_in, n_mem, n_out\n",
    "        self.xm2f = nn.Linear(in_features=(n_mem + n_in), out_features=n_mem)\n",
    "        self.xm2invent = nn.Linear(in_features=(n_mem + n_in), out_features=n_mem)\n",
    "        self.xm2save = nn.Linear(in_features=(n_in + n_mem), out_features=n_mem)\n",
    "        self.x2pre = nn.Linear(in_features=n_in, out_features=n_mem)\n",
    "        self.pre2o = nn.Linear(in_features=n_mem, out_features=n_out)\n",
    "        \n",
    "    def init_weights(self, var=.1):\n",
    "        for tr in [\n",
    "                self.xm2f,\n",
    "                self.xm2invent,\n",
    "                self.xm2save,\n",
    "                self.x2pre,\n",
    "                self.pre2o,\n",
    "                ]:\n",
    "            tr.weight.data.uniform_(-var, var)\n",
    "    \n",
    "    def forward(self, x, mem):\n",
    "        xmem = torch.cat((x, mem))\n",
    "        mem = mem * F.sigmoid(self.xm2f(xmem))\n",
    "        new_mem = F.tanh(self.xm2invent(xmem))\n",
    "        mem_mask = F.sigmoid(self.xm2save(xmem))\n",
    "        mem = mem + new_mem * mem_mask\n",
    "        pre = self.x2pre(x)\n",
    "        o = self.pre2o(pre * F.tanh(mem))\n",
    "        return (o, mem)\n",
    "    \n",
    "    def init_mem(self):\n",
    "        return Variable(torch.zeros(self.n_mem))"
   ]
  },
  {
   "cell_type": "code",
   "execution_count": 30,
   "metadata": {
    "ExecuteTime": {
     "end_time": "2017-12-16T12:53:44.699338Z",
     "start_time": "2017-12-16T12:53:44.606504Z"
    },
    "collapsed": true
   },
   "outputs": [],
   "source": [
    "def my_objective(y, y_pred, alpha=.9):\n",
    "    n = sum(y.data.shape)\n",
    "    \n",
    "    mask = Variable(((y_pred*y).data < 0).float())\n",
    "    fee = (mask*(y_pred - y)**2).sum()\n",
    "    y, y_pred = torch.cumsum(y, dim=0), torch.cumsum(y_pred, dim=0)\n",
    "    mse = torch.sum((y_pred - y)**2)\n",
    "    \n",
    "    \n",
    "    L = (1-alpha)*fee + alpha*mse\n",
    "    return L"
   ]
  },
  {
   "cell_type": "code",
   "execution_count": 31,
   "metadata": {
    "ExecuteTime": {
     "end_time": "2017-12-16T12:53:44.768773Z",
     "start_time": "2017-12-16T12:53:44.700718Z"
    },
    "collapsed": true
   },
   "outputs": [],
   "source": [
    "OBJECTIVE = my_objective"
   ]
  },
  {
   "cell_type": "code",
   "execution_count": 32,
   "metadata": {
    "ExecuteTime": {
     "end_time": "2017-12-16T12:53:44.838231Z",
     "start_time": "2017-12-16T12:53:44.770177Z"
    },
    "collapsed": true
   },
   "outputs": [],
   "source": [
    "def loss(model, X, y,\n",
    "         objective,\n",
    "         lr=None,\n",
    "         max_norm=1000.,\n",
    "        ):\n",
    "    mem = model.init_mem()\n",
    "    mean_L = 0\n",
    "    X = torch.Tensor(X.as_matrix())\n",
    "    Y = torch.Tensor(y.as_matrix())\n",
    "    for i in range(X.shape[0]):\n",
    "        model.zero_grad()\n",
    "        x = Variable(X[i, :])\n",
    "        y = Variable(Y[i, :], requires_grad=1)\n",
    "        y_pred, mem = model(x, mem)\n",
    "        \n",
    "        L = objective(y, y_pred)\n",
    "        mean_L += L.data\n",
    "        if lr is not None:\n",
    "            L.backward(retain_graph=1)\n",
    "            torch.nn.utils.clip_grad_norm(model.parameters(), max_norm)\n",
    "            for p in model.parameters():\n",
    "                p.data.sub_(lr * p.grad.data)\n",
    "    mean_L = mean_L/X.shape[0]\n",
    "    return mean_L[0]"
   ]
  },
  {
   "cell_type": "code",
   "execution_count": 33,
   "metadata": {
    "ExecuteTime": {
     "end_time": "2017-12-16T12:53:45.050297Z",
     "start_time": "2017-12-16T12:53:44.839470Z"
    },
    "collapsed": true
   },
   "outputs": [],
   "source": [
    "def train(model, X, y, objective=OBJECTIVE, epochs=6, base_lr=.04):\n",
    "    for epoch in range(1, epochs+1):\n",
    "        print('Epoch #%s; Loss: %s' % (epoch, loss(model, X, y, objective, lr=base_lr/(1 + epoch//4))))"
   ]
  },
  {
   "cell_type": "code",
   "execution_count": 14,
   "metadata": {
    "ExecuteTime": {
     "end_time": "2017-12-16T12:53:45.115513Z",
     "start_time": "2017-12-16T12:53:45.051645Z"
    },
    "collapsed": true
   },
   "outputs": [],
   "source": [
    "def predictions(model, X):\n",
    "    mem = model.init_mem()\n",
    "    pred = torch.zeros(X.shape[0], model.n_out)\n",
    "    index = X.index\n",
    "    X = torch.Tensor(X.as_matrix())\n",
    "    for i in range(X.shape[0]):\n",
    "        x = Variable(X[i, :])\n",
    "        y, mem = model(x, mem)\n",
    "        pred[i, :] = y.data\n",
    "    pred = pd.DataFrame(pred.numpy())\n",
    "    pred.columns = ['Next_%s' % (1+k) for k in range(model.n_out)]\n",
    "    pred.index = index\n",
    "    return pred"
   ]
  },
  {
   "cell_type": "code",
   "execution_count": 15,
   "metadata": {
    "ExecuteTime": {
     "end_time": "2017-12-16T12:53:45.171737Z",
     "start_time": "2017-12-16T12:53:45.116941Z"
    },
    "collapsed": true
   },
   "outputs": [],
   "source": [
    "def plot_stocks(opn, cls, p, w=4, clr='gray', legend='Stocks'):\n",
    "    inc = cls > opn\n",
    "    dec = cls < opn\n",
    "    p.vbar(\n",
    "        opn.index[inc],\n",
    "        w,\n",
    "        opn[inc],\n",
    "        cls[inc],\n",
    "        line_width=1,\n",
    "        fill_color='#F2583E',\n",
    "        line_color=clr,\n",
    "        legend=legend + ' increase'\n",
    "    )\n",
    "    p.vbar(\n",
    "        opn.index[dec],\n",
    "        w,\n",
    "        opn[dec],\n",
    "        cls[dec],\n",
    "        line_width=1,\n",
    "        line_color=clr,\n",
    "        fill_color='#D5E1DD',\n",
    "        legend=legend + ' decrease'\n",
    "    )\n",
    "    \n",
    "def evaluate_model(model, X, y, base_price=0, title='Model evaluation'):\n",
    "    pred = predictions(model, X)\n",
    "    p = bk.figure(\n",
    "        plot_width=800, plot_height=600,\n",
    "        title=title,\n",
    "        active_scroll='wheel_zoom')\n",
    "    opens = base_price + X.iloc[:, 0].cumsum()\n",
    "    truth = opens + y.iloc[:, 0]\n",
    "    pred = opens + pred.iloc[:, 0]\n",
    "    plot_stocks(opens, truth, p, w=1, clr='green', legend='Ground truth')\n",
    "    #   plot_stocks(opens, pred, p, w=2, clr='gray', legend='Predictions')\n",
    "    p.segment(x0=X.index, y0=opens, x1=X.index, y1=pred,\n",
    "              line_color='gray', legend='Predictions')\n",
    "    p.circle(X.index, pred, fill_color='gray', line_color='black', legend='Predictions')\n",
    "    bk.show(p)"
   ]
  },
  {
   "cell_type": "code",
   "execution_count": 16,
   "metadata": {
    "ExecuteTime": {
     "end_time": "2017-12-16T12:53:45.293984Z",
     "start_time": "2017-12-16T12:53:45.173167Z"
    },
    "collapsed": true
   },
   "outputs": [],
   "source": [
    "rnn4 = RNN4(n_in=X.shape[1], n_mem=64, n_out=y.shape[1])\n",
    "rnn4.init_weights(.15)"
   ]
  },
  {
   "cell_type": "code",
   "execution_count": 17,
   "metadata": {
    "ExecuteTime": {
     "start_time": "2017-12-16T12:53:38.687Z"
    },
    "collapsed": true
   },
   "outputs": [],
   "source": [
    "n_train = X.shape[0]*2//3\n",
    "# Skipping first WINDOW_IN rows as the contain NA's\n",
    "Xtr, ytr = X.iloc[WINDOW_IN:n_train, :], y.iloc[WINDOW_IN:n_train, :]\n",
    "Xte, yte = X.iloc[n_train:, :], y.iloc[n_train:, :]"
   ]
  },
  {
   "cell_type": "code",
   "execution_count": 34,
   "metadata": {
    "ExecuteTime": {
     "start_time": "2017-12-16T12:53:38.689Z"
    }
   },
   "outputs": [
    {
     "name": "stdout",
     "output_type": "stream",
     "text": [
      "Epoch #1; Loss: 184.68870544433594\n",
      "Epoch #2; Loss: 186.04859924316406\n",
      "Epoch #3; Loss: 184.24591064453125\n",
      "Epoch #4; Loss: 175.96612548828125\n"
     ]
    }
   ],
   "source": [
    "train(rnn4, Xtr, ytr, epochs=4, base_lr=.0001)"
   ]
  },
  {
   "cell_type": "code",
   "execution_count": 35,
   "metadata": {},
   "outputs": [
    {
     "name": "stdout",
     "output_type": "stream",
     "text": [
      "Epoch #1; Loss: 188.68341064453125\n",
      "Epoch #2; Loss: 181.46469116210938\n",
      "Epoch #3; Loss: 186.1936798095703\n",
      "Epoch #4; Loss: 169.4321746826172\n"
     ]
    }
   ],
   "source": [
    "train(rnn4, Xtr, ytr, epochs=4, base_lr=.0001)"
   ]
  },
  {
   "cell_type": "code",
   "execution_count": 36,
   "metadata": {},
   "outputs": [
    {
     "name": "stdout",
     "output_type": "stream",
     "text": [
      "Epoch #1; Loss: 161.48135375976562\n",
      "Epoch #2; Loss: 151.13818359375\n",
      "Epoch #3; Loss: 147.16017150878906\n",
      "Epoch #4; Loss: 142.76852416992188\n"
     ]
    }
   ],
   "source": [
    "train(rnn4, Xtr, ytr, epochs=4, base_lr=.00001)"
   ]
  },
  {
   "cell_type": "code",
   "execution_count": 37,
   "metadata": {
    "ExecuteTime": {
     "start_time": "2017-12-16T12:53:38.691Z"
    }
   },
   "outputs": [
    {
     "data": {
      "text/html": [
       "\n",
       "<div class=\"bk-root\">\n",
       "    <div class=\"bk-plotdiv\" id=\"a08c6c7b-6207-441e-8903-e828b6859d1b\"></div>\n",
       "</div>"
      ]
     },
     "metadata": {},
     "output_type": "display_data"
    },
    {
     "data": {
      "application/javascript": [
       "(function(root) {\n",
       "  function embed_document(root) {\n",
       "    var docs_json = {\"6dd6e408-53b7-40a0-94ed-a43d44a35abb\":{\"roots\":{\"references\":[{\"attributes\":{\"data_source\":{\"id\":\"23de8bdd-b7bf-42ac-a312-535f186aa9a2\",\"type\":\"ColumnDataSource\"},\"glyph\":{\"id\":\"39d72a08-fd5a-411e-9c07-8a2fccc4d47a\",\"type\":\"VBar\"},\"hover_glyph\":null,\"muted_glyph\":null,\"nonselection_glyph\":{\"id\":\"1bb1766d-e831-4d51-ae84-7f2b93a29384\",\"type\":\"VBar\"},\"selection_glyph\":null,\"view\":{\"id\":\"5f05e2ab-11c5-47d7-a2be-988c0d469d3c\",\"type\":\"CDSView\"}},\"id\":\"dc96f918-3c5c-401b-84af-e77e7208ce16\",\"type\":\"GlyphRenderer\"},{\"attributes\":{\"data_source\":{\"id\":\"e3ebbd73-7375-4351-86da-48a724990176\",\"type\":\"ColumnDataSource\"},\"glyph\":{\"id\":\"a3dc9c1f-39d3-4030-bf9f-7188551e76a6\",\"type\":\"Segment\"},\"hover_glyph\":null,\"muted_glyph\":null,\"nonselection_glyph\":{\"id\":\"1b31f264-e373-4b29-ac6f-300f9ff87084\",\"type\":\"Segment\"},\"selection_glyph\":null,\"view\":{\"id\":\"4956f7bd-7391-4720-a926-ffc9beacfb68\",\"type\":\"CDSView\"}},\"id\":\"3805e821-a960-4182-99de-7b5e8cff025e\",\"type\":\"GlyphRenderer\"},{\"attributes\":{\"label\":{\"value\":\"Ground truth decrease\"},\"renderers\":[{\"id\":\"54ac745a-52d0-4cdf-b597-22a1506e6807\",\"type\":\"GlyphRenderer\"}]},\"id\":\"1d9d69a6-20e9-4543-9596-fe2d361cfb56\",\"type\":\"LegendItem\"},{\"attributes\":{},\"id\":\"e94f8ba7-d438-4444-9405-74e39d2b853a\",\"type\":\"BasicTickFormatter\"},{\"attributes\":{\"source\":{\"id\":\"e3ebbd73-7375-4351-86da-48a724990176\",\"type\":\"ColumnDataSource\"}},\"id\":\"4956f7bd-7391-4720-a926-ffc9beacfb68\",\"type\":\"CDSView\"},{\"attributes\":{\"bottom_units\":\"screen\",\"fill_alpha\":{\"value\":0.5},\"fill_color\":{\"value\":\"lightgrey\"},\"left_units\":\"screen\",\"level\":\"overlay\",\"line_alpha\":{\"value\":1.0},\"line_color\":{\"value\":\"black\"},\"line_dash\":[4,4],\"line_width\":{\"value\":2},\"plot\":null,\"render_mode\":\"css\",\"right_units\":\"screen\",\"top_units\":\"screen\"},\"id\":\"8d84b173-aa9b-4561-bbd8-b61d3b71111e\",\"type\":\"BoxAnnotation\"},{\"attributes\":{\"plot\":null,\"text\":\"Evaluation on the train set\"},\"id\":\"98f95ee3-382e-42b6-aadf-8e8f3d804759\",\"type\":\"Title\"},{\"attributes\":{\"line_alpha\":{\"value\":0.1},\"line_color\":{\"value\":\"#1f77b4\"},\"x0\":{\"field\":\"x0\"},\"x1\":{\"field\":\"x1\"},\"y0\":{\"field\":\"y0\"},\"y1\":{\"field\":\"y1\"}},\"id\":\"1b31f264-e373-4b29-ac6f-300f9ff87084\",\"type\":\"Segment\"},{\"attributes\":{},\"id\":\"34003d2b-51dc-4e1b-8a8a-f2e01bec4d74\",\"type\":\"BasicTickFormatter\"},{\"attributes\":{\"below\":[{\"id\":\"f6ccd2ac-b32c-4eb9-b4d4-93a011912a68\",\"type\":\"LinearAxis\"}],\"left\":[{\"id\":\"b933a312-129f-4018-9115-a6bb9d9fb7dd\",\"type\":\"LinearAxis\"}],\"plot_width\":800,\"renderers\":[{\"id\":\"f6ccd2ac-b32c-4eb9-b4d4-93a011912a68\",\"type\":\"LinearAxis\"},{\"id\":\"5d42bd2f-f5fa-4d4b-8477-c095ee70023f\",\"type\":\"Grid\"},{\"id\":\"b933a312-129f-4018-9115-a6bb9d9fb7dd\",\"type\":\"LinearAxis\"},{\"id\":\"ccbced9c-ca44-4280-a28c-43ab7ef2dd74\",\"type\":\"Grid\"},{\"id\":\"8d84b173-aa9b-4561-bbd8-b61d3b71111e\",\"type\":\"BoxAnnotation\"},{\"id\":\"1b9b79d0-9378-47ee-9c08-b27366474822\",\"type\":\"Legend\"},{\"id\":\"dc96f918-3c5c-401b-84af-e77e7208ce16\",\"type\":\"GlyphRenderer\"},{\"id\":\"54ac745a-52d0-4cdf-b597-22a1506e6807\",\"type\":\"GlyphRenderer\"},{\"id\":\"3805e821-a960-4182-99de-7b5e8cff025e\",\"type\":\"GlyphRenderer\"},{\"id\":\"cad33853-9ab7-4a44-a099-0baf90e554df\",\"type\":\"GlyphRenderer\"}],\"title\":{\"id\":\"98f95ee3-382e-42b6-aadf-8e8f3d804759\",\"type\":\"Title\"},\"toolbar\":{\"id\":\"c01a32ef-adf4-4df8-a254-47e145922b4c\",\"type\":\"Toolbar\"},\"x_range\":{\"id\":\"d8b241ea-0ece-4345-a102-5012847991df\",\"type\":\"DataRange1d\"},\"x_scale\":{\"id\":\"a1f2603d-2ba7-4c73-a211-ca918299ff3e\",\"type\":\"LinearScale\"},\"y_range\":{\"id\":\"6f9d5477-d888-442f-bb17-ed011c047bc4\",\"type\":\"DataRange1d\"},\"y_scale\":{\"id\":\"07e1ab25-bde0-4398-967d-f6b1a07f637a\",\"type\":\"LinearScale\"}},\"id\":\"f3af3ebe-23b4-4472-ab5c-d2663fb0a67d\",\"subtype\":\"Figure\",\"type\":\"Plot\"},{\"attributes\":{\"source\":{\"id\":\"7277e36e-ff78-4b67-816c-df44223f8d70\",\"type\":\"ColumnDataSource\"}},\"id\":\"f6ea2ac3-62e2-4555-a11e-af05960c821b\",\"type\":\"CDSView\"},{\"attributes\":{},\"id\":\"d093ea5b-0629-4b1c-8b6b-b847e112a40d\",\"type\":\"BasicTicker\"},{\"attributes\":{\"callback\":null,\"column_names\":[\"x\",\"top\",\"bottom\"],\"data\":{\"bottom\":{\"__ndarray__\":\"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\",\"dtype\":\"float64\",\"shape\":[632]},\"top\":{\"__ndarray__\":\"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\",\"dtype\":\"float64\",\"shape\":[632]},\"x\":[14,16,17,18,20,22,26,28,30,32,34,35,36,43,44,47,48,52,53,54,57,58,63,64,66,71,72,74,75,76,77,78,81,83,85,86,88,89,91,93,94,95,96,98,99,101,102,105,106,107,108,111,114,115,116,117,118,119,120,121,122,123,124,125,126,134,137,140,142,144,146,149,151,152,154,155,157,158,159,161,163,165,166,170,173,175,182,185,187,188,189,191,192,197,200,206,208,215,216,217,218,219,220,221,223,225,227,228,229,240,242,246,247,248,250,251,253,257,260,263,264,265,266,268,270,271,274,278,279,282,286,288,291,294,295,297,298,299,300,301,302,304,309,310,315,316,319,320,321,324,325,326,328,329,334,335,337,341,342,343,344,346,348,349,350,352,355,357,358,359,361,362,363,365,366,367,368,370,371,372,381,382,385,387,389,394,396,398,400,402,404,407,408,409,410,411,415,420,421,422,425,427,431,432,433,434,438,439,440,441,451,453,457,461,462,465,468,469,473,474,475,476,477,478,479,481,486,487,488,490,492,495,497,501,506,507,508,512,516,517,518,519,520,522,528,531,533,534,536,538,539,541,543,545,546,547,550,553,557,560,562,564,565,567,568,569,570,571,574,575,577,578,579,584,585,586,589,592,594,595,598,599,601,603,604,606,607,608,610,612,614,615,616,617,621,622,624,627,632,634,635,636,638,644,648,650,651,654,657,660,663,664,666,668,671,673,674,677,678,679,688,691,693,696,697,698,701,702,705,706,707,709,711,715,716,717,718,721,722,723,724,727,729,734,735,736,738,743,746,748,749,750,751,752,757,758,761,762,764,765,766,767,770,771,776,781,782,787,790,791,797,799,801,802,803,804,805,808,809,810,812,813,816,817,818,819,823,824,826,827,832,833,836,840,842,844,847,849,850,851,852,853,855,858,859,864,865,867,871,872,873,874,879,888,889,890,891,893,894,895,896,897,899,902,903,904,906,907,908,909,910,911,913,916,917,918,919,921,929,930,931,932,934,936,938,940,941,944,945,946,947,954,956,959,960,961,963,965,966,967,969,971,975,976,977,978,980,984,985,986,988,992,993,994,996,1001,1004,1006,1007,1011,1012,1013,1015,1017,1020,1021,1022,1024,1027,1032,1034,1038,1040,1044,1045,1046,1050,1051,1052,1054,1055,1058,1059,1060,1061,1063,1064,1066,1068,1070,1071,1074,1075,1079,1080,1082,1083,1084,1087,1089,1090,1091,1092,1097,1098,1106,1107,1108,1109,1110,1111,1115,1116,1117,1119,1120,1125,1127,1129,1131,1133,1134,1136,1139,1140,1141,1143,1146,1147,1149,1151,1152,1154,1156,1158,1159,1161,1162,1165,1166,1167,1168,1169,1170,1171,1178,1180,1181,1182,1187,1188,1190,1192,1194,1198,1200,1201,1202,1204,1205,1206,1211,1217,1218,1219,1220,1221,1224,1225,1226,1227,1228,1230,1234,1236,1237,1238,1240,1243,1245,1246,1247,1253,1255,1257,1258,1259,1260,1261,1263,1264,1269,1273,1274,1275,1278,1280,1283,1285,1288,1289,1291,1292,1299,1301,1303,1304,1306,1308,1310,1312,1314]}},\"id\":\"7277e36e-ff78-4b67-816c-df44223f8d70\",\"type\":\"ColumnDataSource\"},{\"attributes\":{\"formatter\":{\"id\":\"34003d2b-51dc-4e1b-8a8a-f2e01bec4d74\",\"type\":\"BasicTickFormatter\"},\"plot\":{\"id\":\"f3af3ebe-23b4-4472-ab5c-d2663fb0a67d\",\"subtype\":\"Figure\",\"type\":\"Plot\"},\"ticker\":{\"id\":\"d093ea5b-0629-4b1c-8b6b-b847e112a40d\",\"type\":\"BasicTicker\"}},\"id\":\"b933a312-129f-4018-9115-a6bb9d9fb7dd\",\"type\":\"LinearAxis\"},{\"attributes\":{\"x\":{\"field\":\"x\"},\"y\":{\"field\":\"y\"}},\"id\":\"385693d9-71f2-4288-90d3-83247e255458\",\"type\":\"Circle\"},{\"attributes\":{\"formatter\":{\"id\":\"e94f8ba7-d438-4444-9405-74e39d2b853a\",\"type\":\"BasicTickFormatter\"},\"plot\":{\"id\":\"f3af3ebe-23b4-4472-ab5c-d2663fb0a67d\",\"subtype\":\"Figure\",\"type\":\"Plot\"},\"ticker\":{\"id\":\"e6553baf-b103-4905-9228-c40533b60c28\",\"type\":\"BasicTicker\"}},\"id\":\"f6ccd2ac-b32c-4eb9-b4d4-93a011912a68\",\"type\":\"LinearAxis\"},{\"attributes\":{},\"id\":\"46287171-3919-41b7-b0de-1c71bafab9f7\",\"type\":\"ResetTool\"},{\"attributes\":{\"source\":{\"id\":\"23de8bdd-b7bf-42ac-a312-535f186aa9a2\",\"type\":\"ColumnDataSource\"}},\"id\":\"5f05e2ab-11c5-47d7-a2be-988c0d469d3c\",\"type\":\"CDSView\"},{\"attributes\":{\"callback\":null},\"id\":\"d8b241ea-0ece-4345-a102-5012847991df\",\"type\":\"DataRange1d\"},{\"attributes\":{\"plot\":{\"id\":\"f3af3ebe-23b4-4472-ab5c-d2663fb0a67d\",\"subtype\":\"Figure\",\"type\":\"Plot\"},\"ticker\":{\"id\":\"e6553baf-b103-4905-9228-c40533b60c28\",\"type\":\"BasicTicker\"}},\"id\":\"5d42bd2f-f5fa-4d4b-8477-c095ee70023f\",\"type\":\"Grid\"},{\"attributes\":{\"data_source\":{\"id\":\"7277e36e-ff78-4b67-816c-df44223f8d70\",\"type\":\"ColumnDataSource\"},\"glyph\":{\"id\":\"84b6cd64-a985-40f7-8392-73fa8b5f6ebc\",\"type\":\"VBar\"},\"hover_glyph\":null,\"muted_glyph\":null,\"nonselection_glyph\":{\"id\":\"9debdd01-d6bf-497c-8d14-ca20ab3967f2\",\"type\":\"VBar\"},\"selection_glyph\":null,\"view\":{\"id\":\"f6ea2ac3-62e2-4555-a11e-af05960c821b\",\"type\":\"CDSView\"}},\"id\":\"54ac745a-52d0-4cdf-b597-22a1506e6807\",\"type\":\"GlyphRenderer\"},{\"attributes\":{},\"id\":\"7e7fcea6-5553-477e-b5db-d381f1573f32\",\"type\":\"PanTool\"},{\"attributes\":{\"data_source\":{\"id\":\"5f61f5c2-8e5f-44aa-a21e-4d2d3fdcf05e\",\"type\":\"ColumnDataSource\"},\"glyph\":{\"id\":\"385693d9-71f2-4288-90d3-83247e255458\",\"type\":\"Circle\"},\"hover_glyph\":null,\"muted_glyph\":null,\"nonselection_glyph\":{\"id\":\"f07622f5-2d71-4506-948c-60b7097afe2c\",\"type\":\"Circle\"},\"selection_glyph\":null,\"view\":{\"id\":\"e0436169-8e4c-4de0-b60f-01e2a1d09256\",\"type\":\"CDSView\"}},\"id\":\"cad33853-9ab7-4a44-a099-0baf90e554df\",\"type\":\"GlyphRenderer\"},{\"attributes\":{\"callback\":null},\"id\":\"6f9d5477-d888-442f-bb17-ed011c047bc4\",\"type\":\"DataRange1d\"},{\"attributes\":{\"source\":{\"id\":\"5f61f5c2-8e5f-44aa-a21e-4d2d3fdcf05e\",\"type\":\"ColumnDataSource\"}},\"id\":\"e0436169-8e4c-4de0-b60f-01e2a1d09256\",\"type\":\"CDSView\"},{\"attributes\":{\"label\":{\"value\":\"Ground truth increase\"},\"renderers\":[{\"id\":\"dc96f918-3c5c-401b-84af-e77e7208ce16\",\"type\":\"GlyphRenderer\"}]},\"id\":\"498448d1-f155-44a8-999f-71fca54da432\",\"type\":\"LegendItem\"},{\"attributes\":{\"callback\":null,\"column_names\":[\"x\",\"y\"],\"data\":{\"x\":[14,15,16,17,18,19,20,21,22,23,24,25,26,27,28,29,30,31,32,33,34,35,36,37,38,39,40,41,42,43,44,45,46,47,48,49,50,51,52,53,54,55,56,57,58,59,60,61,62,63,64,65,66,67,68,69,70,71,72,73,74,75,76,77,78,79,80,81,82,83,84,85,86,87,88,89,90,91,92,93,94,95,96,97,98,99,100,101,102,103,104,105,106,107,108,109,110,111,112,113,114,115,116,117,118,119,120,121,122,123,124,125,126,127,128,129,130,131,132,133,134,135,136,137,138,139,140,141,142,143,144,145,146,147,148,149,150,151,152,153,154,155,156,157,158,159,160,161,162,163,164,165,166,167,168,169,170,171,172,173,174,175,176,177,178,179,180,181,182,183,184,185,186,187,188,189,190,191,192,193,194,195,196,197,198,199,200,201,202,203,204,205,206,207,208,209,210,211,212,213,214,215,216,217,218,219,220,221,222,223,224,225,226,227,228,229,230,231,232,233,234,235,236,237,238,239,240,241,242,243,244,245,246,247,248,249,250,251,252,253,254,255,256,257,258,259,260,261,262,263,264,265,266,267,268,269,270,271,272,273,274,275,276,277,278,279,280,281,282,283,284,285,286,287,288,289,290,291,292,293,294,295,296,297,298,299,300,301,302,303,304,305,306,307,308,309,310,311,312,313,314,315,316,317,318,319,320,321,322,323,324,325,326,327,328,329,330,331,332,333,334,335,336,337,338,339,340,341,342,343,344,345,346,347,348,349,350,351,352,353,354,355,356,357,358,359,360,361,362,363,364,365,366,367,368,369,370,371,372,373,374,375,376,377,378,379,380,381,382,383,384,385,386,387,388,389,390,391,392,393,394,395,396,397,398,399,400,401,402,403,404,405,406,407,408,409,410,411,412,413,414,415,416,417,418,419,420,421,422,423,424,425,426,427,428,429,430,431,432,433,434,435,436,437,438,439,440,441,442,443,444,445,446,447,448,449,450,451,452,453,454,455,456,457,458,459,460,461,462,463,464,465,466,467,468,469,470,471,472,473,474,475,476,477,478,479,480,481,482,483,484,485,486,487,488,489,490,491,492,493,494,495,496,497,498,499,500,501,502,503,504,505,506,507,508,509,510,511,512,513,514,515,516,517,518,519,520,521,522,523,524,525,526,527,528,529,530,531,532,533,534,535,536,537,538,539,540,541,542,543,544,545,546,547,548,549,550,551,552,553,554,555,556,557,558,559,560,561,562,563,564,565,566,567,568,569,570,571,572,573,574,575,576,577,578,579,580,581,582,583,584,585,586,587,588,589,590,591,592,593,594,595,596,597,598,599,600,601,602,603,604,605,606,607,608,609,610,611,612,613,614,615,616,617,618,619,620,621,622,623,624,625,626,627,628,629,630,631,632,633,634,635,636,637,638,639,640,641,642,643,644,645,646,647,648,649,650,651,652,653,654,655,656,657,658,659,660,661,662,663,664,665,666,667,668,669,670,671,672,673,674,675,676,677,678,679,680,681,682,683,684,685,686,687,688,689,690,691,692,693,694,695,696,697,698,699,700,701,702,703,704,705,706,707,708,709,710,711,712,713,714,715,716,717,718,719,720,721,722,723,724,725,726,727,728,729,730,731,732,733,734,735,736,737,738,739,740,741,742,743,744,745,746,747,748,749,750,751,752,753,754,755,756,757,758,759,760,761,762,763,764,765,766,767,768,769,770,771,772,773,774,775,776,777,778,779,780,781,782,783,784,785,786,787,788,789,790,791,792,793,794,795,796,797,798,799,800,801,802,803,804,805,806,807,808,809,810,811,812,813,814,815,816,817,818,819,820,821,822,823,824,825,826,827,828,829,830,831,832,833,834,835,836,837,838,839,840,841,842,843,844,845,846,847,848,849,850,851,852,853,854,855,856,857,858,859,860,861,862,863,864,865,866,867,868,869,870,871,872,873,874,875,876,877,878,879,880,881,882,883,884,885,886,887,888,889,890,891,892,893,894,895,896,897,898,899,900,901,902,903,904,905,906,907,908,909,910,911,912,913,914,915,916,917,918,919,920,921,922,923,924,925,926,927,928,929,930,931,932,933,934,935,936,937,938,939,940,941,942,943,944,945,946,947,948,949,950,951,952,953,954,955,956,957,958,959,960,961,962,963,964,965,966,967,968,969,970,971,972,973,974,975,976,977,978,979,980,981,982,983,984,985,986,987,988,989,990,991,992,993,994,995,996,997,998,999,1000,1001,1002,1003,1004,1005,1006,1007,1008,1009,1010,1011,1012,1013,1014,1015,1016,1017,1018,1019,1020,1021,1022,1023,1024,1025,1026,1027,1028,1029,1030,1031,1032,1033,1034,1035,1036,1037,1038,1039,1040,1041,1042,1043,1044,1045,1046,1047,1048,1049,1050,1051,1052,1053,1054,1055,1056,1057,1058,1059,1060,1061,1062,1063,1064,1065,1066,1067,1068,1069,1070,1071,1072,1073,1074,1075,1076,1077,1078,1079,1080,1081,1082,1083,1084,1085,1086,1087,1088,1089,1090,1091,1092,1093,1094,1095,1096,1097,1098,1099,1100,1101,1102,1103,1104,1105,1106,1107,1108,1109,1110,1111,1112,1113,1114,1115,1116,1117,1118,1119,1120,1121,1122,1123,1124,1125,1126,1127,1128,1129,1130,1131,1132,1133,1134,1135,1136,1137,1138,1139,1140,1141,1142,1143,1144,1145,1146,1147,1148,1149,1150,1151,1152,1153,1154,1155,1156,1157,1158,1159,1160,1161,1162,1163,1164,1165,1166,1167,1168,1169,1170,1171,1172,1173,1174,1175,1176,1177,1178,1179,1180,1181,1182,1183,1184,1185,1186,1187,1188,1189,1190,1191,1192,1193,1194,1195,1196,1197,1198,1199,1200,1201,1202,1203,1204,1205,1206,1207,1208,1209,1210,1211,1212,1213,1214,1215,1216,1217,1218,1219,1220,1221,1222,1223,1224,1225,1226,1227,1228,1229,1230,1231,1232,1233,1234,1235,1236,1237,1238,1239,1240,1241,1242,1243,1244,1245,1246,1247,1248,1249,1250,1251,1252,1253,1254,1255,1256,1257,1258,1259,1260,1261,1262,1263,1264,1265,1266,1267,1268,1269,1270,1271,1272,1273,1274,1275,1276,1277,1278,1279,1280,1281,1282,1283,1284,1285,1286,1287,1288,1289,1290,1291,1292,1293,1294,1295,1296,1297,1298,1299,1300,1301,1302,1303,1304,1305,1306,1307,1308,1309,1310,1311,1312,1313,1314],\"y\":{\"__ndarray__\":\"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\",\"dtype\":\"float64\",\"shape\":[1301]}}},\"id\":\"5f61f5c2-8e5f-44aa-a21e-4d2d3fdcf05e\",\"type\":\"ColumnDataSource\"},{\"attributes\":{\"callback\":null,\"column_names\":[\"x0\",\"y0\",\"x1\",\"y1\"],\"data\":{\"x0\":[14,15,16,17,18,19,20,21,22,23,24,25,26,27,28,29,30,31,32,33,34,35,36,37,38,39,40,41,42,43,44,45,46,47,48,49,50,51,52,53,54,55,56,57,58,59,60,61,62,63,64,65,66,67,68,69,70,71,72,73,74,75,76,77,78,79,80,81,82,83,84,85,86,87,88,89,90,91,92,93,94,95,96,97,98,99,100,101,102,103,104,105,106,107,108,109,110,111,112,113,114,115,116,117,118,119,120,121,122,123,124,125,126,127,128,129,130,131,132,133,134,135,136,137,138,139,140,141,142,143,144,145,146,147,148,149,150,151,152,153,154,155,156,157,158,159,160,161,162,163,164,165,166,167,168,169,170,171,172,173,174,175,176,177,178,179,180,181,182,183,184,185,186,187,188,189,190,191,192,193,194,195,196,197,198,199,200,201,202,203,204,205,206,207,208,209,210,211,212,213,214,215,216,217,218,219,220,221,222,223,224,225,226,227,228,229,230,231,232,233,234,235,236,237,238,239,240,241,242,243,244,245,246,247,248,249,250,251,252,253,254,255,256,257,258,259,260,261,262,263,264,265,266,267,268,269,270,271,272,273,274,275,276,277,278,279,280,281,282,283,284,285,286,287,288,289,290,291,292,293,294,295,296,297,298,299,300,301,302,303,304,305,306,307,308,309,310,311,312,313,314,315,316,317,318,319,320,321,322,323,324,325,326,327,328,329,330,331,332,333,334,335,336,337,338,339,340,341,342,343,344,345,346,347,348,349,350,351,352,353,354,355,356,357,358,359,360,361,362,363,364,365,366,367,368,369,370,371,372,373,374,375,376,377,378,379,380,381,382,383,384,385,386,387,388,389,390,391,392,393,394,395,396,397,398,399,400,401,402,403,404,405,406,407,408,409,410,411,412,413,414,415,416,417,418,419,420,421,422,423,424,425,426,427,428,429,430,431,432,433,434,435,436,437,438,439,440,441,442,443,444,445,446,447,448,449,450,451,452,453,454,455,456,457,458,459,460,461,462,463,464,465,466,467,468,469,470,471,472,473,474,475,476,477,478,479,480,481,482,483,484,485,486,487,488,489,490,491,492,493,494,495,496,497,498,499,500,501,502,503,504,505,506,507,508,509,510,511,512,513,514,515,516,517,518,519,520,521,522,523,524,525,526,527,528,529,530,531,532,533,534,535,536,537,538,539,540,541,542,543,544,545,546,547,548,549,550,551,552,553,554,555,556,557,558,559,560,561,562,563,564,565,566,567,568,569,570,571,572,573,574,575,576,577,578,579,580,581,582,583,584,585,586,587,588,589,590,591,592,593,594,595,596,597,598,599,600,601,602,603,604,605,606,607,608,609,610,611,612,613,614,615,616,617,618,619,620,621,622,623,624,625,626,627,628,629,630,631,632,633,634,635,636,637,638,639,640,641,642,643,644,645,646,647,648,649,650,651,652,653,654,655,656,657,658,659,660,661,662,663,664,665,666,667,668,669,670,671,672,673,674,675,676,677,678,679,680,681,682,683,684,685,686,687,688,689,690,691,692,693,694,695,696,697,698,699,700,701,702,703,704,705,706,707,708,709,710,711,712,713,714,715,716,717,718,719,720,721,722,723,724,725,726,727,728,729,730,731,732,733,734,735,736,737,738,739,740,741,742,743,744,745,746,747,748,749,750,751,752,753,754,755,756,757,758,759,760,761,762,763,764,765,766,767,768,769,770,771,772,773,774,775,776,777,778,779,780,781,782,783,784,785,786,787,788,789,790,791,792,793,794,795,796,797,798,799,800,801,802,803,804,805,806,807,808,809,810,811,812,813,814,815,816,817,818,819,820,821,822,823,824,825,826,827,828,829,830,831,832,833,834,835,836,837,838,839,840,841,842,843,844,845,846,847,848,849,850,851,852,853,854,855,856,857,858,859,860,861,862,863,864,865,866,867,868,869,870,871,872,873,874,875,876,877,878,879,880,881,882,883,884,885,886,887,888,889,890,891,892,893,894,895,896,897,898,899,900,901,902,903,904,905,906,907,908,909,910,911,912,913,914,915,916,917,918,919,920,921,922,923,924,925,926,927,928,929,930,931,932,933,934,935,936,937,938,939,940,941,942,943,944,945,946,947,948,949,950,951,952,953,954,955,956,957,958,959,960,961,962,963,964,965,966,967,968,969,970,971,972,973,974,975,976,977,978,979,980,981,982,983,984,985,986,987,988,989,990,991,992,993,994,995,996,997,998,999,1000,1001,1002,1003,1004,1005,1006,1007,1008,1009,1010,1011,1012,1013,1014,1015,1016,1017,1018,1019,1020,1021,1022,1023,1024,1025,1026,1027,1028,1029,1030,1031,1032,1033,1034,1035,1036,1037,1038,1039,1040,1041,1042,1043,1044,1045,1046,1047,1048,1049,1050,1051,1052,1053,1054,1055,1056,1057,1058,1059,1060,1061,1062,1063,1064,1065,1066,1067,1068,1069,1070,1071,1072,1073,1074,1075,1076,1077,1078,1079,1080,1081,1082,1083,1084,1085,1086,1087,1088,1089,1090,1091,1092,1093,1094,1095,1096,1097,1098,1099,1100,1101,1102,1103,1104,1105,1106,1107,1108,1109,1110,1111,1112,1113,1114,1115,1116,1117,1118,1119,1120,1121,1122,1123,1124,1125,1126,1127,1128,1129,1130,1131,1132,1133,1134,1135,1136,1137,1138,1139,1140,1141,1142,1143,1144,1145,1146,1147,1148,1149,1150,1151,1152,1153,1154,1155,1156,1157,1158,1159,1160,1161,1162,1163,1164,1165,1166,1167,1168,1169,1170,1171,1172,1173,1174,1175,1176,1177,1178,1179,1180,1181,1182,1183,1184,1185,1186,1187,1188,1189,1190,1191,1192,1193,1194,1195,1196,1197,1198,1199,1200,1201,1202,1203,1204,1205,1206,1207,1208,1209,1210,1211,1212,1213,1214,1215,1216,1217,1218,1219,1220,1221,1222,1223,1224,1225,1226,1227,1228,1229,1230,1231,1232,1233,1234,1235,1236,1237,1238,1239,1240,1241,1242,1243,1244,1245,1246,1247,1248,1249,1250,1251,1252,1253,1254,1255,1256,1257,1258,1259,1260,1261,1262,1263,1264,1265,1266,1267,1268,1269,1270,1271,1272,1273,1274,1275,1276,1277,1278,1279,1280,1281,1282,1283,1284,1285,1286,1287,1288,1289,1290,1291,1292,1293,1294,1295,1296,1297,1298,1299,1300,1301,1302,1303,1304,1305,1306,1307,1308,1309,1310,1311,1312,1313,1314],\"x1\":[14,15,16,17,18,19,20,21,22,23,24,25,26,27,28,29,30,31,32,33,34,35,36,37,38,39,40,41,42,43,44,45,46,47,48,49,50,51,52,53,54,55,56,57,58,59,60,61,62,63,64,65,66,67,68,69,70,71,72,73,74,75,76,77,78,79,80,81,82,83,84,85,86,87,88,89,90,91,92,93,94,95,96,97,98,99,100,101,102,103,104,105,106,107,108,109,110,111,112,113,114,115,116,117,118,119,120,121,122,123,124,125,126,127,128,129,130,131,132,133,134,135,136,137,138,139,140,141,142,143,144,145,146,147,148,149,150,151,152,153,154,155,156,157,158,159,160,161,162,163,164,165,166,167,168,169,170,171,172,173,174,175,176,177,178,179,180,181,182,183,184,185,186,187,188,189,190,191,192,193,194,195,196,197,198,199,200,201,202,203,204,205,206,207,208,209,210,211,212,213,214,215,216,217,218,219,220,221,222,223,224,225,226,227,228,229,230,231,232,233,234,235,236,237,238,239,240,241,242,243,244,245,246,247,248,249,250,251,252,253,254,255,256,257,258,259,260,261,262,263,264,265,266,267,268,269,270,271,272,273,274,275,276,277,278,279,280,281,282,283,284,285,286,287,288,289,290,291,292,293,294,295,296,297,298,299,300,301,302,303,304,305,306,307,308,309,310,311,312,313,314,315,316,317,318,319,320,321,322,323,324,325,326,327,328,329,330,331,332,333,334,335,336,337,338,339,340,341,342,343,344,345,346,347,348,349,350,351,352,353,354,355,356,357,358,359,360,361,362,363,364,365,366,367,368,369,370,371,372,373,374,375,376,377,378,379,380,381,382,383,384,385,386,387,388,389,390,391,392,393,394,395,396,397,398,399,400,401,402,403,404,405,406,407,408,409,410,411,412,413,414,415,416,417,418,419,420,421,422,423,424,425,426,427,428,429,430,431,432,433,434,435,436,437,438,439,440,441,442,443,444,445,446,447,448,449,450,451,452,453,454,455,456,457,458,459,460,461,462,463,464,465,466,467,468,469,470,471,472,473,474,475,476,477,478,479,480,481,482,483,484,485,486,487,488,489,490,491,492,493,494,495,496,497,498,499,500,501,502,503,504,505,506,507,508,509,510,511,512,513,514,515,516,517,518,519,520,521,522,523,524,525,526,527,528,529,530,531,532,533,534,535,536,537,538,539,540,541,542,543,544,545,546,547,548,549,550,551,552,553,554,555,556,557,558,559,560,561,562,563,564,565,566,567,568,569,570,571,572,573,574,575,576,577,578,579,580,581,582,583,584,585,586,587,588,589,590,591,592,593,594,595,596,597,598,599,600,601,602,603,604,605,606,607,608,609,610,611,612,613,614,615,616,617,618,619,620,621,622,623,624,625,626,627,628,629,630,631,632,633,634,635,636,637,638,639,640,641,642,643,644,645,646,647,648,649,650,651,652,653,654,655,656,657,658,659,660,661,662,663,664,665,666,667,668,669,670,671,672,673,674,675,676,677,678,679,680,681,682,683,684,685,686,687,688,689,690,691,692,693,694,695,696,697,698,699,700,701,702,703,704,705,706,707,708,709,710,711,712,713,714,715,716,717,718,719,720,721,722,723,724,725,726,727,728,729,730,731,732,733,734,735,736,737,738,739,740,741,742,743,744,745,746,747,748,749,750,751,752,753,754,755,756,757,758,759,760,761,762,763,764,765,766,767,768,769,770,771,772,773,774,775,776,777,778,779,780,781,782,783,784,785,786,787,788,789,790,791,792,793,794,795,796,797,798,799,800,801,802,803,804,805,806,807,808,809,810,811,812,813,814,815,816,817,818,819,820,821,822,823,824,825,826,827,828,829,830,831,832,833,834,835,836,837,838,839,840,841,842,843,844,845,846,847,848,849,850,851,852,853,854,855,856,857,858,859,860,861,862,863,864,865,866,867,868,869,870,871,872,873,874,875,876,877,878,879,880,881,882,883,884,885,886,887,888,889,890,891,892,893,894,895,896,897,898,899,900,901,902,903,904,905,906,907,908,909,910,911,912,913,914,915,916,917,918,919,920,921,922,923,924,925,926,927,928,929,930,931,932,933,934,935,936,937,938,939,940,941,942,943,944,945,946,947,948,949,950,951,952,953,954,955,956,957,958,959,960,961,962,963,964,965,966,967,968,969,970,971,972,973,974,975,976,977,978,979,980,981,982,983,984,985,986,987,988,989,990,991,992,993,994,995,996,997,998,999,1000,1001,1002,1003,1004,1005,1006,1007,1008,1009,1010,1011,1012,1013,1014,1015,1016,1017,1018,1019,1020,1021,1022,1023,1024,1025,1026,1027,1028,1029,1030,1031,1032,1033,1034,1035,1036,1037,1038,1039,1040,1041,1042,1043,1044,1045,1046,1047,1048,1049,1050,1051,1052,1053,1054,1055,1056,1057,1058,1059,1060,1061,1062,1063,1064,1065,1066,1067,1068,1069,1070,1071,1072,1073,1074,1075,1076,1077,1078,1079,1080,1081,1082,1083,1084,1085,1086,1087,1088,1089,1090,1091,1092,1093,1094,1095,1096,1097,1098,1099,1100,1101,1102,1103,1104,1105,1106,1107,1108,1109,1110,1111,1112,1113,1114,1115,1116,1117,1118,1119,1120,1121,1122,1123,1124,1125,1126,1127,1128,1129,1130,1131,1132,1133,1134,1135,1136,1137,1138,1139,1140,1141,1142,1143,1144,1145,1146,1147,1148,1149,1150,1151,1152,1153,1154,1155,1156,1157,1158,1159,1160,1161,1162,1163,1164,1165,1166,1167,1168,1169,1170,1171,1172,1173,1174,1175,1176,1177,1178,1179,1180,1181,1182,1183,1184,1185,1186,1187,1188,1189,1190,1191,1192,1193,1194,1195,1196,1197,1198,1199,1200,1201,1202,1203,1204,1205,1206,1207,1208,1209,1210,1211,1212,1213,1214,1215,1216,1217,1218,1219,1220,1221,1222,1223,1224,1225,1226,1227,1228,1229,1230,1231,1232,1233,1234,1235,1236,1237,1238,1239,1240,1241,1242,1243,1244,1245,1246,1247,1248,1249,1250,1251,1252,1253,1254,1255,1256,1257,1258,1259,1260,1261,1262,1263,1264,1265,1266,1267,1268,1269,1270,1271,1272,1273,1274,1275,1276,1277,1278,1279,1280,1281,1282,1283,1284,1285,1286,1287,1288,1289,1290,1291,1292,1293,1294,1295,1296,1297,1298,1299,1300,1301,1302,1303,1304,1305,1306,1307,1308,1309,1310,1311,1312,1313,1314],\"y0\":{\"__ndarray__\":\"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\",\"dtype\":\"float64\",\"shape\":[1301]},\"y1\":{\"__ndarray__\":\"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\",\"dtype\":\"float64\",\"shape\":[1301]}}},\"id\":\"e3ebbd73-7375-4351-86da-48a724990176\",\"type\":\"ColumnDataSource\"},{\"attributes\":{\"active_drag\":\"auto\",\"active_inspect\":\"auto\",\"active_scroll\":{\"id\":\"06330b19-038d-464e-a97d-a329919cd22e\",\"type\":\"WheelZoomTool\"},\"active_tap\":\"auto\",\"tools\":[{\"id\":\"7e7fcea6-5553-477e-b5db-d381f1573f32\",\"type\":\"PanTool\"},{\"id\":\"06330b19-038d-464e-a97d-a329919cd22e\",\"type\":\"WheelZoomTool\"},{\"id\":\"56b93654-e3eb-4175-98cd-2e50f4928949\",\"type\":\"BoxZoomTool\"},{\"id\":\"8804f5d3-d07e-4243-803e-11697b50dd7f\",\"type\":\"SaveTool\"},{\"id\":\"46287171-3919-41b7-b0de-1c71bafab9f7\",\"type\":\"ResetTool\"},{\"id\":\"3f01bf99-bb16-4e56-a455-2b4d6107d6f0\",\"type\":\"HelpTool\"}]},\"id\":\"c01a32ef-adf4-4df8-a254-47e145922b4c\",\"type\":\"Toolbar\"},{\"attributes\":{\"bottom\":{\"field\":\"bottom\"},\"fill_color\":{\"value\":\"#F2583E\"},\"line_color\":{\"value\":\"green\"},\"top\":{\"field\":\"top\"},\"width\":{\"value\":1},\"x\":{\"field\":\"x\"}},\"id\":\"39d72a08-fd5a-411e-9c07-8a2fccc4d47a\",\"type\":\"VBar\"},{\"attributes\":{\"dimension\":1,\"plot\":{\"id\":\"f3af3ebe-23b4-4472-ab5c-d2663fb0a67d\",\"subtype\":\"Figure\",\"type\":\"Plot\"},\"ticker\":{\"id\":\"d093ea5b-0629-4b1c-8b6b-b847e112a40d\",\"type\":\"BasicTicker\"}},\"id\":\"ccbced9c-ca44-4280-a28c-43ab7ef2dd74\",\"type\":\"Grid\"},{\"attributes\":{\"bottom\":{\"field\":\"bottom\"},\"fill_color\":{\"value\":\"#D5E1DD\"},\"line_color\":{\"value\":\"green\"},\"top\":{\"field\":\"top\"},\"width\":{\"value\":1},\"x\":{\"field\":\"x\"}},\"id\":\"84b6cd64-a985-40f7-8392-73fa8b5f6ebc\",\"type\":\"VBar\"},{\"attributes\":{\"overlay\":{\"id\":\"8d84b173-aa9b-4561-bbd8-b61d3b71111e\",\"type\":\"BoxAnnotation\"}},\"id\":\"56b93654-e3eb-4175-98cd-2e50f4928949\",\"type\":\"BoxZoomTool\"},{\"attributes\":{},\"id\":\"8804f5d3-d07e-4243-803e-11697b50dd7f\",\"type\":\"SaveTool\"},{\"attributes\":{},\"id\":\"a1f2603d-2ba7-4c73-a211-ca918299ff3e\",\"type\":\"LinearScale\"},{\"attributes\":{},\"id\":\"07e1ab25-bde0-4398-967d-f6b1a07f637a\",\"type\":\"LinearScale\"},{\"attributes\":{\"bottom\":{\"field\":\"bottom\"},\"fill_alpha\":{\"value\":0.1},\"fill_color\":{\"value\":\"#1f77b4\"},\"line_alpha\":{\"value\":0.1},\"line_color\":{\"value\":\"#1f77b4\"},\"top\":{\"field\":\"top\"},\"width\":{\"value\":1},\"x\":{\"field\":\"x\"}},\"id\":\"1bb1766d-e831-4d51-ae84-7f2b93a29384\",\"type\":\"VBar\"},{\"attributes\":{},\"id\":\"e6553baf-b103-4905-9228-c40533b60c28\",\"type\":\"BasicTicker\"},{\"attributes\":{\"bottom\":{\"field\":\"bottom\"},\"fill_alpha\":{\"value\":0.1},\"fill_color\":{\"value\":\"#1f77b4\"},\"line_alpha\":{\"value\":0.1},\"line_color\":{\"value\":\"#1f77b4\"},\"top\":{\"field\":\"top\"},\"width\":{\"value\":1},\"x\":{\"field\":\"x\"}},\"id\":\"9debdd01-d6bf-497c-8d14-ca20ab3967f2\",\"type\":\"VBar\"},{\"attributes\":{\"fill_alpha\":{\"value\":0.1},\"fill_color\":{\"value\":\"#1f77b4\"},\"line_alpha\":{\"value\":0.1},\"line_color\":{\"value\":\"#1f77b4\"},\"x\":{\"field\":\"x\"},\"y\":{\"field\":\"y\"}},\"id\":\"f07622f5-2d71-4506-948c-60b7097afe2c\",\"type\":\"Circle\"},{\"attributes\":{},\"id\":\"06330b19-038d-464e-a97d-a329919cd22e\",\"type\":\"WheelZoomTool\"},{\"attributes\":{\"label\":{\"value\":\"Predictions\"},\"renderers\":[{\"id\":\"3805e821-a960-4182-99de-7b5e8cff025e\",\"type\":\"GlyphRenderer\"},{\"id\":\"cad33853-9ab7-4a44-a099-0baf90e554df\",\"type\":\"GlyphRenderer\"}]},\"id\":\"df6809f8-2451-4ff0-b38e-243766fe9cb2\",\"type\":\"LegendItem\"},{\"attributes\":{\"callback\":null,\"column_names\":[\"x\",\"top\",\"bottom\"],\"data\":{\"bottom\":{\"__ndarray__\":\"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\",\"dtype\":\"float64\",\"shape\":[669]},\"top\":{\"__ndarray__\":\"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\",\"dtype\":\"float64\",\"shape\":[669]},\"x\":[15,19,21,23,24,25,27,29,31,33,37,38,39,40,41,42,45,46,49,50,51,55,56,59,60,61,62,65,67,68,69,70,73,79,80,82,84,87,90,92,97,100,103,104,109,110,112,113,127,128,129,130,131,132,133,135,136,138,139,141,143,145,147,148,150,153,156,160,162,164,167,168,169,171,172,174,176,177,178,179,180,181,183,184,186,190,193,194,195,196,198,199,201,202,203,204,205,207,209,210,211,212,213,214,222,224,226,230,231,232,233,234,235,236,237,238,239,241,243,244,245,249,252,254,255,256,258,259,261,262,267,269,272,273,275,276,277,280,281,283,284,285,287,289,290,292,293,296,303,305,306,307,308,311,312,313,314,317,318,322,323,327,330,331,332,333,336,338,339,340,345,347,351,353,354,356,360,364,369,373,374,375,376,377,378,379,380,383,384,386,388,390,391,392,393,395,397,399,401,403,405,406,412,413,414,416,417,418,419,423,424,426,428,429,430,435,436,437,442,443,444,445,446,447,448,449,450,452,454,455,456,458,459,460,463,464,466,467,470,471,472,480,482,483,484,485,489,491,493,494,496,498,499,500,502,503,504,505,509,510,511,513,514,515,521,523,524,525,526,527,529,530,532,535,537,540,542,544,548,549,551,552,554,555,556,558,559,561,563,566,572,573,576,580,581,582,583,587,588,590,591,593,596,597,600,602,605,609,611,613,618,619,620,623,625,626,628,629,630,631,633,637,639,640,641,642,643,645,646,647,649,652,653,655,656,658,659,661,662,665,667,669,670,672,675,676,680,681,682,683,684,685,686,687,689,690,692,694,695,699,700,703,704,708,710,712,713,714,719,720,725,726,728,730,731,732,733,737,739,740,741,742,744,745,747,753,754,755,756,759,760,763,768,769,772,773,774,775,777,778,779,780,783,784,785,786,788,789,792,793,794,795,796,798,800,806,807,811,814,815,820,821,822,825,828,829,830,831,834,835,837,838,839,841,843,845,846,848,854,856,857,860,861,862,863,866,868,869,870,875,876,877,878,880,881,882,883,884,885,886,887,892,898,900,901,905,912,914,915,920,922,923,924,925,926,927,928,933,935,937,939,942,943,948,949,950,951,952,953,955,957,958,962,964,968,970,972,973,974,979,981,982,983,987,989,990,991,995,997,998,999,1000,1002,1003,1005,1008,1009,1010,1014,1016,1018,1019,1023,1025,1026,1028,1029,1030,1031,1033,1035,1036,1037,1039,1041,1042,1043,1047,1048,1049,1053,1056,1057,1062,1065,1067,1069,1072,1073,1076,1077,1078,1081,1085,1086,1088,1093,1094,1095,1096,1099,1100,1101,1102,1103,1104,1105,1112,1113,1114,1118,1121,1122,1123,1124,1126,1128,1130,1132,1135,1137,1138,1142,1144,1145,1148,1150,1153,1155,1157,1160,1163,1164,1172,1173,1174,1175,1176,1177,1179,1183,1184,1185,1186,1189,1191,1193,1195,1196,1197,1199,1203,1207,1208,1209,1210,1212,1213,1214,1215,1216,1222,1223,1229,1231,1232,1233,1235,1239,1241,1242,1244,1248,1249,1250,1251,1252,1254,1256,1262,1265,1266,1267,1268,1270,1271,1272,1276,1277,1279,1281,1282,1284,1286,1287,1290,1293,1294,1295,1296,1297,1298,1300,1302,1305,1307,1309,1311,1313]}},\"id\":\"23de8bdd-b7bf-42ac-a312-535f186aa9a2\",\"type\":\"ColumnDataSource\"},{\"attributes\":{\"line_color\":{\"value\":\"gray\"},\"x0\":{\"field\":\"x0\"},\"x1\":{\"field\":\"x1\"},\"y0\":{\"field\":\"y0\"},\"y1\":{\"field\":\"y1\"}},\"id\":\"a3dc9c1f-39d3-4030-bf9f-7188551e76a6\",\"type\":\"Segment\"},{\"attributes\":{},\"id\":\"3f01bf99-bb16-4e56-a455-2b4d6107d6f0\",\"type\":\"HelpTool\"},{\"attributes\":{\"items\":[{\"id\":\"498448d1-f155-44a8-999f-71fca54da432\",\"type\":\"LegendItem\"},{\"id\":\"1d9d69a6-20e9-4543-9596-fe2d361cfb56\",\"type\":\"LegendItem\"},{\"id\":\"df6809f8-2451-4ff0-b38e-243766fe9cb2\",\"type\":\"LegendItem\"}],\"plot\":{\"id\":\"f3af3ebe-23b4-4472-ab5c-d2663fb0a67d\",\"subtype\":\"Figure\",\"type\":\"Plot\"}},\"id\":\"1b9b79d0-9378-47ee-9c08-b27366474822\",\"type\":\"Legend\"}],\"root_ids\":[\"f3af3ebe-23b4-4472-ab5c-d2663fb0a67d\"]},\"title\":\"Bokeh Application\",\"version\":\"0.12.10\"}};\n",
       "    var render_items = [{\"docid\":\"6dd6e408-53b7-40a0-94ed-a43d44a35abb\",\"elementid\":\"a08c6c7b-6207-441e-8903-e828b6859d1b\",\"modelid\":\"f3af3ebe-23b4-4472-ab5c-d2663fb0a67d\"}];\n",
       "\n",
       "    root.Bokeh.embed.embed_items(docs_json, render_items);\n",
       "  }\n",
       "\n",
       "  if (root.Bokeh !== undefined) {\n",
       "    embed_document(root);\n",
       "  } else {\n",
       "    var attempts = 0;\n",
       "    var timer = setInterval(function(root) {\n",
       "      if (root.Bokeh !== undefined) {\n",
       "        embed_document(root);\n",
       "        clearInterval(timer);\n",
       "      }\n",
       "      attempts++;\n",
       "      if (attempts > 100) {\n",
       "        console.log(\"Bokeh: ERROR: Unable to embed document because BokehJS library is missing\")\n",
       "        clearInterval(timer);\n",
       "      }\n",
       "    }, 10, root)\n",
       "  }\n",
       "})(window);"
      ],
      "application/vnd.bokehjs_exec.v0+json": ""
     },
     "metadata": {
      "application/vnd.bokehjs_exec.v0+json": {
       "id": "f3af3ebe-23b4-4472-ab5c-d2663fb0a67d"
      }
     },
     "output_type": "display_data"
    }
   ],
   "source": [
    "evaluate_model(rnn4, Xtr, ytr, title='Evaluation on the train set')"
   ]
  },
  {
   "cell_type": "code",
   "execution_count": 38,
   "metadata": {
    "ExecuteTime": {
     "start_time": "2017-12-16T12:53:38.693Z"
    },
    "scrolled": false
   },
   "outputs": [
    {
     "data": {
      "text/html": [
       "\n",
       "<div class=\"bk-root\">\n",
       "    <div class=\"bk-plotdiv\" id=\"e445c67a-a8ca-4aa3-975c-cb2cef0083c2\"></div>\n",
       "</div>"
      ]
     },
     "metadata": {},
     "output_type": "display_data"
    },
    {
     "data": {
      "application/javascript": [
       "(function(root) {\n",
       "  function embed_document(root) {\n",
       "    var docs_json = {\"7e9a34df-24cc-4b45-8f24-c4ad170d85ad\":{\"roots\":{\"references\":[{\"attributes\":{\"items\":[{\"id\":\"8a7b960e-53bf-429d-ba85-f4187a1582cf\",\"type\":\"LegendItem\"},{\"id\":\"6baabee1-5a65-4e5f-a0d5-e288ac9726cc\",\"type\":\"LegendItem\"},{\"id\":\"a294479f-93fb-443e-a834-4bffdc4fe123\",\"type\":\"LegendItem\"}],\"plot\":{\"id\":\"e8fc0c5c-bb47-458a-addd-d9311111effc\",\"subtype\":\"Figure\",\"type\":\"Plot\"}},\"id\":\"bff755c7-de20-48fb-840d-c36b8b2a3c12\",\"type\":\"Legend\"},{\"attributes\":{\"callback\":null,\"column_names\":[\"x0\",\"y0\",\"x1\",\"y1\"],\"data\":{\"x0\":[1315,1316,1317,1318,1319,1320,1321,1322,1323,1324,1325,1326,1327,1328,1329,1330,1331,1332,1333,1334,1335,1336,1337,1338,1339,1340,1341,1342,1343,1344,1345,1346,1347,1348,1349,1350,1351,1352,1353,1354,1355,1356,1357,1358,1359,1360,1361,1362,1363,1364,1365,1366,1367,1368,1369,1370,1371,1372,1373,1374,1375,1376,1377,1378,1379,1380,1381,1382,1383,1384,1385,1386,1387,1388,1389,1390,1391,1392,1393,1394,1395,1396,1397,1398,1399,1400,1401,1402,1403,1404,1405,1406,1407,1408,1409,1410,1411,1412,1413,1414,1415,1416,1417,1418,1419,1420,1421,1422,1423,1424,1425,1426,1427,1428,1429,1430,1431,1432,1433,1434,1435,1436,1437,1438,1439,1440,1441,1442,1443,1444,1445,1446,1447,1448,1449,1450,1451,1452,1453,1454,1455,1456,1457,1458,1459,1460,1461,1462,1463,1464,1465,1466,1467,1468,1469,1470,1471,1472,1473,1474,1475,1476,1477,1478,1479,1480,1481,1482,1483,1484,1485,1486,1487,1488,1489,1490,1491,1492,1493,1494,1495,1496,1497,1498,1499,1500,1501,1502,1503,1504,1505,1506,1507,1508,1509,1510,1511,1512,1513,1514,1515,1516,1517,1518,1519,1520,1521,1522,1523,1524,1525,1526,1527,1528,1529,1530,1531,1532,1533,1534,1535,1536,1537,1538,1539,1540,1541,1542,1543,1544,1545,1546,1547,1548,1549,1550,1551,1552,1553,1554,1555,1556,1557,1558,1559,1560,1561,1562,1563,1564,1565,1566,1567,1568,1569,1570,1571,1572,1573,1574,1575,1576,1577,1578,1579,1580,1581,1582,1583,1584,1585,1586,1587,1588,1589,1590,1591,1592,1593,1594,1595,1596,1597,1598,1599,1600,1601,1602,1603,1604,1605,1606,1607,1608,1609,1610,1611,1612,1613,1614,1615,1616,1617,1618,1619,1620,1621,1622,1623,1624,1625,1626,1627,1628,1629,1630,1631,1632,1633,1634,1635,1636,1637,1638,1639,1640,1641,1642,1643,1644,1645,1646,1647,1648,1649,1650,1651,1652,1653,1654,1655,1656,1657,1658,1659,1660,1661,1662,1663,1664,1665,1666,1667,1668,1669,1670,1671,1672,1673,1674,1675,1676,1677,1678,1679,1680,1681,1682,1683,1684,1685,1686,1687,1688,1689,1690,1691,1692,1693,1694,1695,1696,1697,1698,1699,1700,1701,1702,1703,1704,1705,1706,1707,1708,1709,1710,1711,1712,1713,1714,1715,1716,1717,1718,1719,1720,1721,1722,1723,1724,1725,1726,1727,1728,1729,1730,1731,1732,1733,1734,1735,1736,1737,1738,1739,1740,1741,1742,1743,1744,1745,1746,1747,1748,1749,1750,1751,1752,1753,1754,1755,1756,1757,1758,1759,1760,1761,1762,1763,1764,1765,1766,1767,1768,1769,1770,1771,1772,1773,1774,1775,1776,1777,1778,1779,1780,1781,1782,1783,1784,1785,1786,1787,1788,1789,1790,1791,1792,1793,1794,1795,1796,1797,1798,1799,1800,1801,1802,1803,1804,1805,1806,1807,1808,1809,1810,1811,1812,1813,1814,1815,1816,1817,1818,1819,1820,1821,1822,1823,1824,1825,1826,1827,1828,1829,1830,1831,1832,1833,1834,1835,1836,1837,1838,1839,1840,1841,1842,1843,1844,1845,1846,1847,1848,1849,1850,1851,1852,1853,1854,1855,1856,1857,1858,1859,1860,1861,1862,1863,1864,1865,1866,1867,1868,1869,1870,1871,1872,1873,1874,1875,1876,1877,1878,1879,1880,1881,1882,1883,1884,1885,1886,1887,1888,1889,1890,1891,1892,1893,1894,1895,1896,1897,1898,1899,1900,1901,1902,1903,1904,1905,1906,1907,1908,1909,1910,1911,1912,1913,1914,1915,1916,1917,1918,1919,1920,1921,1922,1923,1924,1925,1926,1927,1928,1929,1930,1931,1932,1933,1934,1935,1936,1937,1938,1939,1940,1941,1942,1943,1944,1945,1946,1947,1948,1949,1950,1951,1952,1953,1954,1955,1956,1957,1958,1959,1960,1961,1962,1963,1964,1965,1966,1967,1968,1969,1970,1971,1972],\"x1\":[1315,1316,1317,1318,1319,1320,1321,1322,1323,1324,1325,1326,1327,1328,1329,1330,1331,1332,1333,1334,1335,1336,1337,1338,1339,1340,1341,1342,1343,1344,1345,1346,1347,1348,1349,1350,1351,1352,1353,1354,1355,1356,1357,1358,1359,1360,1361,1362,1363,1364,1365,1366,1367,1368,1369,1370,1371,1372,1373,1374,1375,1376,1377,1378,1379,1380,1381,1382,1383,1384,1385,1386,1387,1388,1389,1390,1391,1392,1393,1394,1395,1396,1397,1398,1399,1400,1401,1402,1403,1404,1405,1406,1407,1408,1409,1410,1411,1412,1413,1414,1415,1416,1417,1418,1419,1420,1421,1422,1423,1424,1425,1426,1427,1428,1429,1430,1431,1432,1433,1434,1435,1436,1437,1438,1439,1440,1441,1442,1443,1444,1445,1446,1447,1448,1449,1450,1451,1452,1453,1454,1455,1456,1457,1458,1459,1460,1461,1462,1463,1464,1465,1466,1467,1468,1469,1470,1471,1472,1473,1474,1475,1476,1477,1478,1479,1480,1481,1482,1483,1484,1485,1486,1487,1488,1489,1490,1491,1492,1493,1494,1495,1496,1497,1498,1499,1500,1501,1502,1503,1504,1505,1506,1507,1508,1509,1510,1511,1512,1513,1514,1515,1516,1517,1518,1519,1520,1521,1522,1523,1524,1525,1526,1527,1528,1529,1530,1531,1532,1533,1534,1535,1536,1537,1538,1539,1540,1541,1542,1543,1544,1545,1546,1547,1548,1549,1550,1551,1552,1553,1554,1555,1556,1557,1558,1559,1560,1561,1562,1563,1564,1565,1566,1567,1568,1569,1570,1571,1572,1573,1574,1575,1576,1577,1578,1579,1580,1581,1582,1583,1584,1585,1586,1587,1588,1589,1590,1591,1592,1593,1594,1595,1596,1597,1598,1599,1600,1601,1602,1603,1604,1605,1606,1607,1608,1609,1610,1611,1612,1613,1614,1615,1616,1617,1618,1619,1620,1621,1622,1623,1624,1625,1626,1627,1628,1629,1630,1631,1632,1633,1634,1635,1636,1637,1638,1639,1640,1641,1642,1643,1644,1645,1646,1647,1648,1649,1650,1651,1652,1653,1654,1655,1656,1657,1658,1659,1660,1661,1662,1663,1664,1665,1666,1667,1668,1669,1670,1671,1672,1673,1674,1675,1676,1677,1678,1679,1680,1681,1682,1683,1684,1685,1686,1687,1688,1689,1690,1691,1692,1693,1694,1695,1696,1697,1698,1699,1700,1701,1702,1703,1704,1705,1706,1707,1708,1709,1710,1711,1712,1713,1714,1715,1716,1717,1718,1719,1720,1721,1722,1723,1724,1725,1726,1727,1728,1729,1730,1731,1732,1733,1734,1735,1736,1737,1738,1739,1740,1741,1742,1743,1744,1745,1746,1747,1748,1749,1750,1751,1752,1753,1754,1755,1756,1757,1758,1759,1760,1761,1762,1763,1764,1765,1766,1767,1768,1769,1770,1771,1772,1773,1774,1775,1776,1777,1778,1779,1780,1781,1782,1783,1784,1785,1786,1787,1788,1789,1790,1791,1792,1793,1794,1795,1796,1797,1798,1799,1800,1801,1802,1803,1804,1805,1806,1807,1808,1809,1810,1811,1812,1813,1814,1815,1816,1817,1818,1819,1820,1821,1822,1823,1824,1825,1826,1827,1828,1829,1830,1831,1832,1833,1834,1835,1836,1837,1838,1839,1840,1841,1842,1843,1844,1845,1846,1847,1848,1849,1850,1851,1852,1853,1854,1855,1856,1857,1858,1859,1860,1861,1862,1863,1864,1865,1866,1867,1868,1869,1870,1871,1872,1873,1874,1875,1876,1877,1878,1879,1880,1881,1882,1883,1884,1885,1886,1887,1888,1889,1890,1891,1892,1893,1894,1895,1896,1897,1898,1899,1900,1901,1902,1903,1904,1905,1906,1907,1908,1909,1910,1911,1912,1913,1914,1915,1916,1917,1918,1919,1920,1921,1922,1923,1924,1925,1926,1927,1928,1929,1930,1931,1932,1933,1934,1935,1936,1937,1938,1939,1940,1941,1942,1943,1944,1945,1946,1947,1948,1949,1950,1951,1952,1953,1954,1955,1956,1957,1958,1959,1960,1961,1962,1963,1964,1965,1966,1967,1968,1969,1970,1971,1972],\"y0\":{\"__ndarray__\":\"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\",\"dtype\":\"float64\",\"shape\":[658]},\"y1\":{\"__ndarray__\":\"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\",\"dtype\":\"float64\",\"shape\":[658]}}},\"id\":\"8c75e4a6-525a-4f7f-8ff9-61427ba4324d\",\"type\":\"ColumnDataSource\"},{\"attributes\":{\"plot\":null,\"text\":\"Evaluation on the test set\"},\"id\":\"5e407c1c-e8dc-40a9-8829-eb2a263b9fc2\",\"type\":\"Title\"},{\"attributes\":{},\"id\":\"bbdb1f3d-e334-425b-8a5b-e667655596b5\",\"type\":\"WheelZoomTool\"},{\"attributes\":{\"callback\":null},\"id\":\"39e0307d-2793-4475-a0f4-6bdb360cf020\",\"type\":\"DataRange1d\"},{\"attributes\":{\"callback\":null,\"column_names\":[\"x\",\"top\",\"bottom\"],\"data\":{\"bottom\":{\"__ndarray__\":\"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\",\"dtype\":\"float64\",\"shape\":[351]},\"top\":{\"__ndarray__\":\"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\",\"dtype\":\"float64\",\"shape\":[351]},\"x\":[1317,1321,1322,1323,1328,1329,1331,1333,1334,1335,1340,1341,1344,1345,1348,1349,1352,1353,1354,1357,1360,1361,1362,1367,1371,1372,1373,1375,1376,1382,1383,1385,1387,1388,1389,1390,1392,1393,1399,1400,1401,1402,1404,1406,1410,1413,1414,1416,1421,1422,1426,1429,1431,1432,1434,1435,1436,1438,1441,1444,1445,1446,1447,1448,1449,1452,1453,1454,1456,1457,1458,1461,1462,1463,1465,1466,1468,1469,1470,1471,1472,1474,1475,1478,1480,1482,1486,1488,1491,1497,1499,1502,1503,1504,1506,1507,1511,1512,1515,1516,1518,1520,1522,1523,1525,1527,1528,1529,1530,1536,1539,1540,1542,1543,1545,1546,1549,1550,1555,1556,1557,1558,1560,1561,1563,1568,1569,1571,1574,1578,1579,1580,1581,1582,1585,1587,1591,1592,1594,1595,1596,1597,1598,1602,1604,1606,1608,1609,1611,1612,1617,1618,1619,1623,1626,1627,1628,1629,1632,1633,1634,1635,1637,1639,1640,1641,1643,1645,1646,1647,1649,1652,1653,1654,1655,1657,1659,1661,1662,1663,1667,1674,1675,1678,1679,1680,1681,1684,1686,1687,1690,1691,1692,1695,1698,1700,1701,1702,1704,1706,1708,1709,1710,1711,1713,1714,1718,1724,1725,1730,1731,1732,1734,1737,1738,1739,1742,1743,1745,1746,1747,1749,1750,1751,1753,1754,1758,1762,1763,1764,1765,1766,1768,1770,1772,1774,1775,1776,1777,1783,1784,1786,1787,1788,1789,1790,1791,1793,1794,1795,1797,1799,1801,1805,1806,1807,1808,1809,1810,1811,1812,1813,1819,1820,1821,1822,1824,1829,1831,1833,1835,1836,1837,1838,1839,1841,1842,1843,1844,1845,1846,1848,1851,1852,1853,1854,1856,1857,1858,1859,1860,1861,1862,1863,1865,1866,1867,1869,1870,1873,1877,1879,1881,1884,1888,1890,1891,1892,1893,1894,1895,1897,1898,1900,1901,1905,1907,1910,1911,1915,1916,1918,1922,1923,1927,1928,1929,1933,1935,1936,1937,1941,1942,1943,1946,1947,1948,1949,1951,1953,1954,1957,1959,1960,1961,1962,1964,1966,1967,1969,1972]}},\"id\":\"43efdbbe-9708-4241-9678-c858707ad208\",\"type\":\"ColumnDataSource\"},{\"attributes\":{},\"id\":\"0f7ee08c-fa18-4f7e-a0ac-33b24c613541\",\"type\":\"LinearScale\"},{\"attributes\":{\"data_source\":{\"id\":\"55db57ca-c0f5-4140-8e1f-aff00c3a1e6f\",\"type\":\"ColumnDataSource\"},\"glyph\":{\"id\":\"16db1a8c-91c2-488f-b681-a99ae169ff27\",\"type\":\"VBar\"},\"hover_glyph\":null,\"muted_glyph\":null,\"nonselection_glyph\":{\"id\":\"bb9e868d-dce2-4c7a-af21-be59bef3c044\",\"type\":\"VBar\"},\"selection_glyph\":null,\"view\":{\"id\":\"2239ff3d-b74d-4925-8b11-0abfb4626cc1\",\"type\":\"CDSView\"}},\"id\":\"0a7f62de-d07c-4bb9-b939-7749c8052364\",\"type\":\"GlyphRenderer\"},{\"attributes\":{\"callback\":null,\"column_names\":[\"x\",\"y\"],\"data\":{\"x\":[1315,1316,1317,1318,1319,1320,1321,1322,1323,1324,1325,1326,1327,1328,1329,1330,1331,1332,1333,1334,1335,1336,1337,1338,1339,1340,1341,1342,1343,1344,1345,1346,1347,1348,1349,1350,1351,1352,1353,1354,1355,1356,1357,1358,1359,1360,1361,1362,1363,1364,1365,1366,1367,1368,1369,1370,1371,1372,1373,1374,1375,1376,1377,1378,1379,1380,1381,1382,1383,1384,1385,1386,1387,1388,1389,1390,1391,1392,1393,1394,1395,1396,1397,1398,1399,1400,1401,1402,1403,1404,1405,1406,1407,1408,1409,1410,1411,1412,1413,1414,1415,1416,1417,1418,1419,1420,1421,1422,1423,1424,1425,1426,1427,1428,1429,1430,1431,1432,1433,1434,1435,1436,1437,1438,1439,1440,1441,1442,1443,1444,1445,1446,1447,1448,1449,1450,1451,1452,1453,1454,1455,1456,1457,1458,1459,1460,1461,1462,1463,1464,1465,1466,1467,1468,1469,1470,1471,1472,1473,1474,1475,1476,1477,1478,1479,1480,1481,1482,1483,1484,1485,1486,1487,1488,1489,1490,1491,1492,1493,1494,1495,1496,1497,1498,1499,1500,1501,1502,1503,1504,1505,1506,1507,1508,1509,1510,1511,1512,1513,1514,1515,1516,1517,1518,1519,1520,1521,1522,1523,1524,1525,1526,1527,1528,1529,1530,1531,1532,1533,1534,1535,1536,1537,1538,1539,1540,1541,1542,1543,1544,1545,1546,1547,1548,1549,1550,1551,1552,1553,1554,1555,1556,1557,1558,1559,1560,1561,1562,1563,1564,1565,1566,1567,1568,1569,1570,1571,1572,1573,1574,1575,1576,1577,1578,1579,1580,1581,1582,1583,1584,1585,1586,1587,1588,1589,1590,1591,1592,1593,1594,1595,1596,1597,1598,1599,1600,1601,1602,1603,1604,1605,1606,1607,1608,1609,1610,1611,1612,1613,1614,1615,1616,1617,1618,1619,1620,1621,1622,1623,1624,1625,1626,1627,1628,1629,1630,1631,1632,1633,1634,1635,1636,1637,1638,1639,1640,1641,1642,1643,1644,1645,1646,1647,1648,1649,1650,1651,1652,1653,1654,1655,1656,1657,1658,1659,1660,1661,1662,1663,1664,1665,1666,1667,1668,1669,1670,1671,1672,1673,1674,1675,1676,1677,1678,1679,1680,1681,1682,1683,1684,1685,1686,1687,1688,1689,1690,1691,1692,1693,1694,1695,1696,1697,1698,1699,1700,1701,1702,1703,1704,1705,1706,1707,1708,1709,1710,1711,1712,1713,1714,1715,1716,1717,1718,1719,1720,1721,1722,1723,1724,1725,1726,1727,1728,1729,1730,1731,1732,1733,1734,1735,1736,1737,1738,1739,1740,1741,1742,1743,1744,1745,1746,1747,1748,1749,1750,1751,1752,1753,1754,1755,1756,1757,1758,1759,1760,1761,1762,1763,1764,1765,1766,1767,1768,1769,1770,1771,1772,1773,1774,1775,1776,1777,1778,1779,1780,1781,1782,1783,1784,1785,1786,1787,1788,1789,1790,1791,1792,1793,1794,1795,1796,1797,1798,1799,1800,1801,1802,1803,1804,1805,1806,1807,1808,1809,1810,1811,1812,1813,1814,1815,1816,1817,1818,1819,1820,1821,1822,1823,1824,1825,1826,1827,1828,1829,1830,1831,1832,1833,1834,1835,1836,1837,1838,1839,1840,1841,1842,1843,1844,1845,1846,1847,1848,1849,1850,1851,1852,1853,1854,1855,1856,1857,1858,1859,1860,1861,1862,1863,1864,1865,1866,1867,1868,1869,1870,1871,1872,1873,1874,1875,1876,1877,1878,1879,1880,1881,1882,1883,1884,1885,1886,1887,1888,1889,1890,1891,1892,1893,1894,1895,1896,1897,1898,1899,1900,1901,1902,1903,1904,1905,1906,1907,1908,1909,1910,1911,1912,1913,1914,1915,1916,1917,1918,1919,1920,1921,1922,1923,1924,1925,1926,1927,1928,1929,1930,1931,1932,1933,1934,1935,1936,1937,1938,1939,1940,1941,1942,1943,1944,1945,1946,1947,1948,1949,1950,1951,1952,1953,1954,1955,1956,1957,1958,1959,1960,1961,1962,1963,1964,1965,1966,1967,1968,1969,1970,1971,1972],\"y\":{\"__ndarray__\":\"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\",\"dtype\":\"float64\",\"shape\":[658]}}},\"id\":\"2ab946a1-85e7-4ac2-b950-376760eb9c57\",\"type\":\"ColumnDataSource\"},{\"attributes\":{},\"id\":\"a3abfcb6-5d12-4303-bc95-935a08439366\",\"type\":\"ResetTool\"},{\"attributes\":{\"callback\":null,\"column_names\":[\"x\",\"top\",\"bottom\"],\"data\":{\"bottom\":{\"__ndarray__\":\"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\",\"dtype\":\"float64\",\"shape\":[307]},\"top\":{\"__ndarray__\":\"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\",\"dtype\":\"float64\",\"shape\":[307]},\"x\":[1315,1316,1318,1319,1320,1324,1325,1326,1327,1330,1332,1336,1337,1338,1339,1342,1343,1346,1347,1350,1351,1355,1356,1358,1359,1363,1364,1365,1366,1368,1369,1370,1374,1377,1378,1379,1380,1381,1384,1386,1391,1394,1395,1396,1397,1398,1403,1405,1407,1408,1409,1411,1412,1415,1417,1418,1419,1420,1423,1424,1425,1427,1428,1430,1433,1437,1439,1440,1442,1443,1450,1451,1455,1459,1460,1464,1467,1473,1476,1477,1479,1481,1483,1484,1485,1487,1489,1490,1492,1493,1494,1495,1496,1498,1500,1501,1505,1508,1509,1510,1513,1514,1517,1519,1521,1524,1526,1531,1532,1533,1534,1535,1537,1538,1541,1544,1547,1548,1551,1552,1553,1554,1559,1562,1564,1565,1566,1567,1570,1572,1573,1575,1576,1577,1583,1584,1586,1588,1589,1590,1593,1599,1600,1601,1603,1605,1607,1610,1613,1614,1615,1616,1620,1621,1622,1624,1625,1630,1631,1636,1638,1642,1644,1648,1650,1651,1656,1658,1660,1664,1665,1666,1668,1669,1670,1671,1672,1673,1676,1677,1682,1683,1685,1688,1689,1693,1694,1696,1697,1699,1703,1705,1707,1712,1715,1716,1717,1719,1720,1721,1722,1723,1726,1727,1728,1729,1733,1735,1736,1740,1741,1744,1748,1752,1755,1756,1757,1759,1760,1761,1767,1769,1771,1773,1778,1779,1780,1781,1782,1785,1792,1796,1798,1800,1802,1803,1804,1814,1815,1816,1817,1818,1823,1825,1826,1827,1828,1830,1832,1834,1840,1847,1849,1850,1855,1864,1868,1871,1872,1874,1875,1876,1878,1880,1882,1883,1885,1886,1887,1889,1896,1899,1902,1903,1904,1906,1908,1909,1912,1913,1914,1917,1919,1920,1921,1924,1925,1926,1930,1931,1932,1934,1938,1939,1940,1944,1945,1950,1952,1955,1956,1958,1963,1965,1968,1970,1971]}},\"id\":\"55db57ca-c0f5-4140-8e1f-aff00c3a1e6f\",\"type\":\"ColumnDataSource\"},{\"attributes\":{\"bottom\":{\"field\":\"bottom\"},\"fill_alpha\":{\"value\":0.1},\"fill_color\":{\"value\":\"#1f77b4\"},\"line_alpha\":{\"value\":0.1},\"line_color\":{\"value\":\"#1f77b4\"},\"top\":{\"field\":\"top\"},\"width\":{\"value\":1},\"x\":{\"field\":\"x\"}},\"id\":\"bb9e868d-dce2-4c7a-af21-be59bef3c044\",\"type\":\"VBar\"},{\"attributes\":{\"bottom\":{\"field\":\"bottom\"},\"fill_color\":{\"value\":\"#D5E1DD\"},\"line_color\":{\"value\":\"green\"},\"top\":{\"field\":\"top\"},\"width\":{\"value\":1},\"x\":{\"field\":\"x\"}},\"id\":\"16db1a8c-91c2-488f-b681-a99ae169ff27\",\"type\":\"VBar\"},{\"attributes\":{\"bottom_units\":\"screen\",\"fill_alpha\":{\"value\":0.5},\"fill_color\":{\"value\":\"lightgrey\"},\"left_units\":\"screen\",\"level\":\"overlay\",\"line_alpha\":{\"value\":1.0},\"line_color\":{\"value\":\"black\"},\"line_dash\":[4,4],\"line_width\":{\"value\":2},\"plot\":null,\"render_mode\":\"css\",\"right_units\":\"screen\",\"top_units\":\"screen\"},\"id\":\"fbf3cb6e-ba6e-4d4e-9cdb-4ba001bc5ee3\",\"type\":\"BoxAnnotation\"},{\"attributes\":{\"source\":{\"id\":\"8c75e4a6-525a-4f7f-8ff9-61427ba4324d\",\"type\":\"ColumnDataSource\"}},\"id\":\"fea3cdbe-2b5e-40bc-8e37-59725856a244\",\"type\":\"CDSView\"},{\"attributes\":{\"active_drag\":\"auto\",\"active_inspect\":\"auto\",\"active_scroll\":{\"id\":\"bbdb1f3d-e334-425b-8a5b-e667655596b5\",\"type\":\"WheelZoomTool\"},\"active_tap\":\"auto\",\"tools\":[{\"id\":\"0b1b6265-f8be-4ae8-abe0-45c75e003f2e\",\"type\":\"PanTool\"},{\"id\":\"bbdb1f3d-e334-425b-8a5b-e667655596b5\",\"type\":\"WheelZoomTool\"},{\"id\":\"f33ad437-01f3-480f-bafc-d8b68f13d485\",\"type\":\"BoxZoomTool\"},{\"id\":\"dcfb5682-a599-4f5b-a388-42fd853d6593\",\"type\":\"SaveTool\"},{\"id\":\"a3abfcb6-5d12-4303-bc95-935a08439366\",\"type\":\"ResetTool\"},{\"id\":\"3b569642-bde3-4355-a69f-a96000f28d92\",\"type\":\"HelpTool\"}]},\"id\":\"0cb3aa16-2828-4cdd-936c-69b8c99437b6\",\"type\":\"Toolbar\"},{\"attributes\":{},\"id\":\"302e5462-5760-4791-818c-989c99d1347b\",\"type\":\"BasicTickFormatter\"},{\"attributes\":{\"plot\":{\"id\":\"e8fc0c5c-bb47-458a-addd-d9311111effc\",\"subtype\":\"Figure\",\"type\":\"Plot\"},\"ticker\":{\"id\":\"16735369-5291-45d3-9962-550c6f0ea141\",\"type\":\"BasicTicker\"}},\"id\":\"2c732f25-6407-4b73-83fb-94b4b10f1c0d\",\"type\":\"Grid\"},{\"attributes\":{\"data_source\":{\"id\":\"43efdbbe-9708-4241-9678-c858707ad208\",\"type\":\"ColumnDataSource\"},\"glyph\":{\"id\":\"58504ea9-b051-4ab2-a868-8851d1e10fc2\",\"type\":\"VBar\"},\"hover_glyph\":null,\"muted_glyph\":null,\"nonselection_glyph\":{\"id\":\"a88eed26-291e-4a9f-ad5a-ff406e8998d6\",\"type\":\"VBar\"},\"selection_glyph\":null,\"view\":{\"id\":\"09d6a33d-fb4f-47c6-b1c3-ac36b32a8416\",\"type\":\"CDSView\"}},\"id\":\"c47244d9-d12b-46e0-91ca-5d2f84a42b58\",\"type\":\"GlyphRenderer\"},{\"attributes\":{\"line_color\":{\"value\":\"gray\"},\"x0\":{\"field\":\"x0\"},\"x1\":{\"field\":\"x1\"},\"y0\":{\"field\":\"y0\"},\"y1\":{\"field\":\"y1\"}},\"id\":\"765a1fc1-e88c-4ccc-8496-6517ca1fe3ea\",\"type\":\"Segment\"},{\"attributes\":{\"overlay\":{\"id\":\"fbf3cb6e-ba6e-4d4e-9cdb-4ba001bc5ee3\",\"type\":\"BoxAnnotation\"}},\"id\":\"f33ad437-01f3-480f-bafc-d8b68f13d485\",\"type\":\"BoxZoomTool\"},{\"attributes\":{\"below\":[{\"id\":\"b804af81-475d-41af-934b-d0452e9e14f7\",\"type\":\"LinearAxis\"}],\"left\":[{\"id\":\"a886cd8a-7564-488c-93d0-21c48b720bbc\",\"type\":\"LinearAxis\"}],\"plot_width\":800,\"renderers\":[{\"id\":\"b804af81-475d-41af-934b-d0452e9e14f7\",\"type\":\"LinearAxis\"},{\"id\":\"2c732f25-6407-4b73-83fb-94b4b10f1c0d\",\"type\":\"Grid\"},{\"id\":\"a886cd8a-7564-488c-93d0-21c48b720bbc\",\"type\":\"LinearAxis\"},{\"id\":\"aec5390f-c083-4bf6-983b-c243a6a0233c\",\"type\":\"Grid\"},{\"id\":\"fbf3cb6e-ba6e-4d4e-9cdb-4ba001bc5ee3\",\"type\":\"BoxAnnotation\"},{\"id\":\"bff755c7-de20-48fb-840d-c36b8b2a3c12\",\"type\":\"Legend\"},{\"id\":\"c47244d9-d12b-46e0-91ca-5d2f84a42b58\",\"type\":\"GlyphRenderer\"},{\"id\":\"0a7f62de-d07c-4bb9-b939-7749c8052364\",\"type\":\"GlyphRenderer\"},{\"id\":\"842703d9-ca62-47ab-bb2f-0397e7f6eabc\",\"type\":\"GlyphRenderer\"},{\"id\":\"401bc531-4402-4203-bee9-9c8c52e4e857\",\"type\":\"GlyphRenderer\"}],\"title\":{\"id\":\"5e407c1c-e8dc-40a9-8829-eb2a263b9fc2\",\"type\":\"Title\"},\"toolbar\":{\"id\":\"0cb3aa16-2828-4cdd-936c-69b8c99437b6\",\"type\":\"Toolbar\"},\"x_range\":{\"id\":\"39e0307d-2793-4475-a0f4-6bdb360cf020\",\"type\":\"DataRange1d\"},\"x_scale\":{\"id\":\"46c0f65c-ac20-45e2-ad4d-625435f492cc\",\"type\":\"LinearScale\"},\"y_range\":{\"id\":\"2b13ace4-dddb-4b6d-9721-74dbc49f5dce\",\"type\":\"DataRange1d\"},\"y_scale\":{\"id\":\"0f7ee08c-fa18-4f7e-a0ac-33b24c613541\",\"type\":\"LinearScale\"}},\"id\":\"e8fc0c5c-bb47-458a-addd-d9311111effc\",\"subtype\":\"Figure\",\"type\":\"Plot\"},{\"attributes\":{\"label\":{\"value\":\"Ground truth decrease\"},\"renderers\":[{\"id\":\"0a7f62de-d07c-4bb9-b939-7749c8052364\",\"type\":\"GlyphRenderer\"}]},\"id\":\"6baabee1-5a65-4e5f-a0d5-e288ac9726cc\",\"type\":\"LegendItem\"},{\"attributes\":{\"callback\":null},\"id\":\"2b13ace4-dddb-4b6d-9721-74dbc49f5dce\",\"type\":\"DataRange1d\"},{\"attributes\":{\"x\":{\"field\":\"x\"},\"y\":{\"field\":\"y\"}},\"id\":\"f0d57688-398d-4d25-bf56-89eeea4b983e\",\"type\":\"Circle\"},{\"attributes\":{},\"id\":\"dcfb5682-a599-4f5b-a388-42fd853d6593\",\"type\":\"SaveTool\"},{\"attributes\":{\"line_alpha\":{\"value\":0.1},\"line_color\":{\"value\":\"#1f77b4\"},\"x0\":{\"field\":\"x0\"},\"x1\":{\"field\":\"x1\"},\"y0\":{\"field\":\"y0\"},\"y1\":{\"field\":\"y1\"}},\"id\":\"f1734367-6ff9-4623-92e5-610330c2f788\",\"type\":\"Segment\"},{\"attributes\":{\"formatter\":{\"id\":\"66b17c56-0415-4614-bc28-b8cafe691765\",\"type\":\"BasicTickFormatter\"},\"plot\":{\"id\":\"e8fc0c5c-bb47-458a-addd-d9311111effc\",\"subtype\":\"Figure\",\"type\":\"Plot\"},\"ticker\":{\"id\":\"6b153e5b-ac17-4989-849a-c9db4e19aef8\",\"type\":\"BasicTicker\"}},\"id\":\"a886cd8a-7564-488c-93d0-21c48b720bbc\",\"type\":\"LinearAxis\"},{\"attributes\":{\"source\":{\"id\":\"43efdbbe-9708-4241-9678-c858707ad208\",\"type\":\"ColumnDataSource\"}},\"id\":\"09d6a33d-fb4f-47c6-b1c3-ac36b32a8416\",\"type\":\"CDSView\"},{\"attributes\":{},\"id\":\"0b1b6265-f8be-4ae8-abe0-45c75e003f2e\",\"type\":\"PanTool\"},{\"attributes\":{\"label\":{\"value\":\"Predictions\"},\"renderers\":[{\"id\":\"842703d9-ca62-47ab-bb2f-0397e7f6eabc\",\"type\":\"GlyphRenderer\"},{\"id\":\"401bc531-4402-4203-bee9-9c8c52e4e857\",\"type\":\"GlyphRenderer\"}]},\"id\":\"a294479f-93fb-443e-a834-4bffdc4fe123\",\"type\":\"LegendItem\"},{\"attributes\":{\"dimension\":1,\"plot\":{\"id\":\"e8fc0c5c-bb47-458a-addd-d9311111effc\",\"subtype\":\"Figure\",\"type\":\"Plot\"},\"ticker\":{\"id\":\"6b153e5b-ac17-4989-849a-c9db4e19aef8\",\"type\":\"BasicTicker\"}},\"id\":\"aec5390f-c083-4bf6-983b-c243a6a0233c\",\"type\":\"Grid\"},{\"attributes\":{\"bottom\":{\"field\":\"bottom\"},\"fill_color\":{\"value\":\"#F2583E\"},\"line_color\":{\"value\":\"green\"},\"top\":{\"field\":\"top\"},\"width\":{\"value\":1},\"x\":{\"field\":\"x\"}},\"id\":\"58504ea9-b051-4ab2-a868-8851d1e10fc2\",\"type\":\"VBar\"},{\"attributes\":{},\"id\":\"6b153e5b-ac17-4989-849a-c9db4e19aef8\",\"type\":\"BasicTicker\"},{\"attributes\":{\"data_source\":{\"id\":\"2ab946a1-85e7-4ac2-b950-376760eb9c57\",\"type\":\"ColumnDataSource\"},\"glyph\":{\"id\":\"f0d57688-398d-4d25-bf56-89eeea4b983e\",\"type\":\"Circle\"},\"hover_glyph\":null,\"muted_glyph\":null,\"nonselection_glyph\":{\"id\":\"f4563da4-e0cc-4044-a880-d956895d9e91\",\"type\":\"Circle\"},\"selection_glyph\":null,\"view\":{\"id\":\"01a207f4-5449-428d-8f6f-3047c252980a\",\"type\":\"CDSView\"}},\"id\":\"401bc531-4402-4203-bee9-9c8c52e4e857\",\"type\":\"GlyphRenderer\"},{\"attributes\":{\"source\":{\"id\":\"2ab946a1-85e7-4ac2-b950-376760eb9c57\",\"type\":\"ColumnDataSource\"}},\"id\":\"01a207f4-5449-428d-8f6f-3047c252980a\",\"type\":\"CDSView\"},{\"attributes\":{},\"id\":\"3b569642-bde3-4355-a69f-a96000f28d92\",\"type\":\"HelpTool\"},{\"attributes\":{\"label\":{\"value\":\"Ground truth increase\"},\"renderers\":[{\"id\":\"c47244d9-d12b-46e0-91ca-5d2f84a42b58\",\"type\":\"GlyphRenderer\"}]},\"id\":\"8a7b960e-53bf-429d-ba85-f4187a1582cf\",\"type\":\"LegendItem\"},{\"attributes\":{\"fill_alpha\":{\"value\":0.1},\"fill_color\":{\"value\":\"#1f77b4\"},\"line_alpha\":{\"value\":0.1},\"line_color\":{\"value\":\"#1f77b4\"},\"x\":{\"field\":\"x\"},\"y\":{\"field\":\"y\"}},\"id\":\"f4563da4-e0cc-4044-a880-d956895d9e91\",\"type\":\"Circle\"},{\"attributes\":{},\"id\":\"16735369-5291-45d3-9962-550c6f0ea141\",\"type\":\"BasicTicker\"},{\"attributes\":{},\"id\":\"46c0f65c-ac20-45e2-ad4d-625435f492cc\",\"type\":\"LinearScale\"},{\"attributes\":{\"source\":{\"id\":\"55db57ca-c0f5-4140-8e1f-aff00c3a1e6f\",\"type\":\"ColumnDataSource\"}},\"id\":\"2239ff3d-b74d-4925-8b11-0abfb4626cc1\",\"type\":\"CDSView\"},{\"attributes\":{\"bottom\":{\"field\":\"bottom\"},\"fill_alpha\":{\"value\":0.1},\"fill_color\":{\"value\":\"#1f77b4\"},\"line_alpha\":{\"value\":0.1},\"line_color\":{\"value\":\"#1f77b4\"},\"top\":{\"field\":\"top\"},\"width\":{\"value\":1},\"x\":{\"field\":\"x\"}},\"id\":\"a88eed26-291e-4a9f-ad5a-ff406e8998d6\",\"type\":\"VBar\"},{\"attributes\":{\"formatter\":{\"id\":\"302e5462-5760-4791-818c-989c99d1347b\",\"type\":\"BasicTickFormatter\"},\"plot\":{\"id\":\"e8fc0c5c-bb47-458a-addd-d9311111effc\",\"subtype\":\"Figure\",\"type\":\"Plot\"},\"ticker\":{\"id\":\"16735369-5291-45d3-9962-550c6f0ea141\",\"type\":\"BasicTicker\"}},\"id\":\"b804af81-475d-41af-934b-d0452e9e14f7\",\"type\":\"LinearAxis\"},{\"attributes\":{},\"id\":\"66b17c56-0415-4614-bc28-b8cafe691765\",\"type\":\"BasicTickFormatter\"},{\"attributes\":{\"data_source\":{\"id\":\"8c75e4a6-525a-4f7f-8ff9-61427ba4324d\",\"type\":\"ColumnDataSource\"},\"glyph\":{\"id\":\"765a1fc1-e88c-4ccc-8496-6517ca1fe3ea\",\"type\":\"Segment\"},\"hover_glyph\":null,\"muted_glyph\":null,\"nonselection_glyph\":{\"id\":\"f1734367-6ff9-4623-92e5-610330c2f788\",\"type\":\"Segment\"},\"selection_glyph\":null,\"view\":{\"id\":\"fea3cdbe-2b5e-40bc-8e37-59725856a244\",\"type\":\"CDSView\"}},\"id\":\"842703d9-ca62-47ab-bb2f-0397e7f6eabc\",\"type\":\"GlyphRenderer\"}],\"root_ids\":[\"e8fc0c5c-bb47-458a-addd-d9311111effc\"]},\"title\":\"Bokeh Application\",\"version\":\"0.12.10\"}};\n",
       "    var render_items = [{\"docid\":\"7e9a34df-24cc-4b45-8f24-c4ad170d85ad\",\"elementid\":\"e445c67a-a8ca-4aa3-975c-cb2cef0083c2\",\"modelid\":\"e8fc0c5c-bb47-458a-addd-d9311111effc\"}];\n",
       "\n",
       "    root.Bokeh.embed.embed_items(docs_json, render_items);\n",
       "  }\n",
       "\n",
       "  if (root.Bokeh !== undefined) {\n",
       "    embed_document(root);\n",
       "  } else {\n",
       "    var attempts = 0;\n",
       "    var timer = setInterval(function(root) {\n",
       "      if (root.Bokeh !== undefined) {\n",
       "        embed_document(root);\n",
       "        clearInterval(timer);\n",
       "      }\n",
       "      attempts++;\n",
       "      if (attempts > 100) {\n",
       "        console.log(\"Bokeh: ERROR: Unable to embed document because BokehJS library is missing\")\n",
       "        clearInterval(timer);\n",
       "      }\n",
       "    }, 10, root)\n",
       "  }\n",
       "})(window);"
      ],
      "application/vnd.bokehjs_exec.v0+json": ""
     },
     "metadata": {
      "application/vnd.bokehjs_exec.v0+json": {
       "id": "e8fc0c5c-bb47-458a-addd-d9311111effc"
      }
     },
     "output_type": "display_data"
    }
   ],
   "source": [
    "evaluate_model(rnn4, Xte, yte, title='Evaluation on the test set')"
   ]
  },
  {
   "cell_type": "code",
   "execution_count": 39,
   "metadata": {
    "ExecuteTime": {
     "start_time": "2017-12-16T12:53:38.696Z"
    },
    "collapsed": true
   },
   "outputs": [],
   "source": [
    "torch.save(rnn4.state_dict(), 'vsu_ts_3.weights')"
   ]
  },
  {
   "cell_type": "code",
   "execution_count": null,
   "metadata": {
    "collapsed": true
   },
   "outputs": [],
   "source": []
  }
 ],
 "metadata": {
  "kernelspec": {
   "display_name": "Python 3",
   "language": "python",
   "name": "python3"
  },
  "language_info": {
   "codemirror_mode": {
    "name": "ipython",
    "version": 3
   },
   "file_extension": ".py",
   "mimetype": "text/x-python",
   "name": "python",
   "nbconvert_exporter": "python",
   "pygments_lexer": "ipython3",
   "version": "3.6.3"
  },
  "notify_time": "10"
 },
 "nbformat": 4,
 "nbformat_minor": 2
}
